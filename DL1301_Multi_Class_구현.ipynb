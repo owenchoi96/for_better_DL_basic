{
  "nbformat": 4,
  "nbformat_minor": 0,
  "metadata": {
    "colab": {
      "provenance": []
    },
    "kernelspec": {
      "name": "python3",
      "display_name": "Python 3"
    },
    "language_info": {
      "name": "python"
    }
  },
  "cells": [
    {
      "cell_type": "markdown",
      "source": [
        "# softmax layers"
      ],
      "metadata": {
        "id": "agUp1dgld2ya"
      }
    },
    {
      "cell_type": "markdown",
      "source": [
        "## IO of softmax"
      ],
      "metadata": {
        "id": "vXbl3vexd3he"
      }
    },
    {
      "cell_type": "code",
      "source": [
        "import tensorflow as tf\n",
        "\n",
        "from tensorflow.keras.layers import Activation\n",
        "\n",
        "logit = tf.random.uniform(shape=(8,5), minval=-10, maxval=10)\n",
        "\n",
        "softmax_value = Activation('softmax')(logit)\n",
        "softmax_sum = tf.reduce_sum(softmax_value, axis=1)\n",
        "print(softmax_value) \n"
      ],
      "metadata": {
        "colab": {
          "base_uri": "https://localhost:8080/"
        },
        "id": "fzVG-Xl7d3kv",
        "outputId": "ffa41369-d168-4438-f8e7-a1a61fbf8a80"
      },
      "execution_count": 51,
      "outputs": [
        {
          "output_type": "stream",
          "name": "stdout",
          "text": [
            "tf.Tensor([[1.3706939e-01 8.1360275e-01 3.1551328e-05 4.9295358e-02 9.3676255e-07]], shape=(1, 5), dtype=float32)\n"
          ]
        }
      ]
    },
    {
      "cell_type": "code",
      "source": [],
      "metadata": {
        "id": "DU6U5470d3nU"
      },
      "execution_count": null,
      "outputs": []
    },
    {
      "cell_type": "code",
      "source": [],
      "metadata": {
        "id": "LTU0itAGd3qH"
      },
      "execution_count": null,
      "outputs": []
    },
    {
      "cell_type": "markdown",
      "source": [
        "## softmax in dense layers"
      ],
      "metadata": {
        "id": "JQsKAP5cd3sd"
      }
    },
    {
      "cell_type": "code",
      "source": [
        "import tensorflow as tf\n",
        "\n",
        "from tensorflow.keras.layers import Dense\n",
        "\n",
        "logit = tf.random.uniform(shape=(8,5), minval=-10, maxval=10)\n",
        "dense = Dense(units=8, activation='softmax')\n",
        "\n",
        "Y = dense(logit)\n",
        "print(tf.reduce_sum(Y, axis=1))"
      ],
      "metadata": {
        "colab": {
          "base_uri": "https://localhost:8080/"
        },
        "id": "jNU9mW8Md3vC",
        "outputId": "b6b6917e-79b1-4811-e9c7-4263121d04a9"
      },
      "execution_count": 59,
      "outputs": [
        {
          "output_type": "stream",
          "name": "stdout",
          "text": [
            "tf.Tensor([7 3 7 2 2 5 0 0], shape=(8,), dtype=int64)\n"
          ]
        }
      ]
    },
    {
      "cell_type": "code",
      "source": [],
      "metadata": {
        "id": "tTyzd2yPd36F"
      },
      "execution_count": null,
      "outputs": []
    },
    {
      "cell_type": "code",
      "source": [],
      "metadata": {
        "id": "1ZR3MDi6d7j_"
      },
      "execution_count": null,
      "outputs": []
    },
    {
      "cell_type": "markdown",
      "source": [
        "# multi-class classifiers"
      ],
      "metadata": {
        "id": "7qThZTfwd7mi"
      }
    },
    {
      "cell_type": "markdown",
      "source": [
        "## multi-class classifiers"
      ],
      "metadata": {
        "id": "pyp030YFd7pH"
      }
    },
    {
      "cell_type": "code",
      "source": [
        "import tensorflow as tf\n",
        "\n",
        "from tensorflow.keras.models import Model\n",
        "from tensorflow.keras.layers import Dense\n",
        "\n",
        "class TestModel(Model):\n",
        "  def __init__(self):\n",
        "    super(TestModel, self).__init__()\n",
        "    \n",
        "    self.dense1 = Dense(units=8, activation='relu')\n",
        "    self.dense2 = Dense(units=5, activation='relu')\n",
        "    self.dense3 = Dense(units=3, activation='softmax')\n",
        "\n",
        "  def call(self, x):\n",
        "    print('X: {}\\n{}\\n'.format(x.shape, x.numpy()))\n",
        "\n",
        "    x = self.dense1(x)\n",
        "    print(\"A1 : {}\\n\".format(x.numpy()))\n",
        "\n",
        "    x = self.dense2(x)\n",
        "    print(\"A2 : {}\\n\".format(x.numpy()))\n",
        "\n",
        "    x = self.dense3(x)\n",
        "    print(\"Y : {}\\n\".format(x.numpy()))\n",
        "    print('Sum of vectors : {}\\n'.format(tf.reduce_sum(x, axis=1)))\n",
        "\n",
        "model = TestModel()\n",
        "\n",
        "X = tf.random.uniform(shape=(8,5), minval=10, maxval=-10)\n",
        "Y = model(X)"
      ],
      "metadata": {
        "colab": {
          "base_uri": "https://localhost:8080/"
        },
        "id": "wqDMgxDTd7rs",
        "outputId": "130ac27c-7a4f-45a3-ef93-ad33f69e7476"
      },
      "execution_count": 60,
      "outputs": [
        {
          "output_type": "stream",
          "name": "stdout",
          "text": [
            "X: (8, 5)\n",
            "[[ 1.7140179   7.4170184   6.4797664  -9.5126     -6.3325157 ]\n",
            " [-2.6711369  -1.211338   -2.8418732  -4.0103455   2.3601031 ]\n",
            " [-1.2444477  -9.154881    5.3363156  -4.6406555  -9.119862  ]\n",
            " [ 5.1413536   8.956084   -6.7682114  -7.6008034   8.244417  ]\n",
            " [-0.03538609  9.387014   -9.266825    2.7079368   6.508317  ]\n",
            " [ 4.4124103  -5.0472927   3.8880754   6.1586905  -3.834033  ]\n",
            " [ 2.25698     8.252085    1.4029579   0.7229023   7.770705  ]\n",
            " [ 1.9938517   6.6955447   4.7116804   1.5245132  -1.0377884 ]]\n",
            "\n",
            "A1 : [[ 0.          0.          0.          0.          4.071772    1.4953319\n",
            "   0.          0.        ]\n",
            " [ 0.          1.6312283   3.2774274   0.68266416  0.          0.\n",
            "   2.0403724   0.        ]\n",
            " [11.564244    0.          0.43916714  0.          2.6332877   0.\n",
            "   2.500523    0.        ]\n",
            " [ 0.         15.996227    0.72973454  6.4963164   0.          0.\n",
            "   0.          0.        ]\n",
            " [ 0.         13.53635     0.9149485  12.174039    0.          4.8604426\n",
            "   0.4398177   0.        ]\n",
            " [10.154538    0.          0.          0.          2.5465233   2.0261412\n",
            "   0.9239799   4.006471  ]\n",
            " [ 0.          8.947451    0.          3.536926    0.          1.2540812\n",
            "   0.          1.959372  ]\n",
            " [ 0.          1.5541385   0.          0.3996789   2.875315    5.3760433\n",
            "   0.          0.        ]]\n",
            "\n",
            "A2 : [[ 0.04139519  0.48523748  0.          0.          0.        ]\n",
            " [ 0.          1.3147852   3.9167545   0.24583328  0.        ]\n",
            " [ 0.          3.2428927   0.          0.          2.4401646 ]\n",
            " [ 0.13436054  8.630648   11.72362     0.          6.17813   ]\n",
            " [ 4.259295    5.9461155  15.358207    0.          7.372597  ]\n",
            " [ 0.          2.1659975   0.          0.          3.1160107 ]\n",
            " [ 0.751737    4.573962    7.581832    0.          3.7923899 ]\n",
            " [ 0.40598682  0.          1.4374999   0.          0.        ]]\n",
            "\n",
            "Y : [[3.4465086e-01 3.0631801e-01 3.4903109e-01]\n",
            " [6.2721384e-01 3.1988132e-01 5.2904770e-02]\n",
            " [5.5696744e-01 2.5578430e-01 1.8724827e-01]\n",
            " [9.5071292e-01 4.9213637e-02 7.3492367e-05]\n",
            " [2.3817062e-01 7.6182479e-01 4.4960457e-06]\n",
            " [5.1618612e-01 3.5570472e-01 1.2810916e-01]\n",
            " [7.4110705e-01 2.5672916e-01 2.1637594e-03]\n",
            " [3.6482686e-01 4.5534042e-01 1.7983259e-01]]\n",
            "\n",
            "Sum of vectors : [1.         0.99999994 1.         1.         0.9999999  1.\n",
            " 1.         0.9999999 ]\n",
            "\n"
          ]
        }
      ]
    },
    {
      "cell_type": "code",
      "source": [],
      "metadata": {
        "id": "1ZBxZkPJd7uw"
      },
      "execution_count": null,
      "outputs": []
    },
    {
      "cell_type": "code",
      "source": [],
      "metadata": {
        "id": "pxKWp4k2d7xU"
      },
      "execution_count": null,
      "outputs": []
    },
    {
      "cell_type": "code",
      "source": [],
      "metadata": {
        "id": "L0UmHmR2d70K"
      },
      "execution_count": null,
      "outputs": []
    },
    {
      "cell_type": "code",
      "source": [],
      "metadata": {
        "id": "YqLW7jAWd728"
      },
      "execution_count": null,
      "outputs": []
    },
    {
      "cell_type": "code",
      "source": [],
      "metadata": {
        "id": "Gsn2M3hgd75R"
      },
      "execution_count": null,
      "outputs": []
    },
    {
      "cell_type": "code",
      "source": [],
      "metadata": {
        "id": "3fCMFtnKd78F"
      },
      "execution_count": null,
      "outputs": []
    },
    {
      "cell_type": "code",
      "source": [],
      "metadata": {
        "id": "4Chcz_5bd7-q"
      },
      "execution_count": null,
      "outputs": []
    },
    {
      "cell_type": "code",
      "source": [],
      "metadata": {
        "id": "jY9A3-atd8Bg"
      },
      "execution_count": null,
      "outputs": []
    }
  ]
}