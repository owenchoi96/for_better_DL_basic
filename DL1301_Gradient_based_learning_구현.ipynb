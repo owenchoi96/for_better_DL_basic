{
  "nbformat": 4,
  "nbformat_minor": 0,
  "metadata": {
    "colab": {
      "provenance": []
    },
    "kernelspec": {
      "name": "python3",
      "display_name": "Python 3"
    },
    "language_info": {
      "name": "python"
    }
  },
  "cells": [
    {
      "cell_type": "code",
      "execution_count": 24,
      "metadata": {
        "colab": {
          "base_uri": "https://localhost:8080/",
          "height": 445
        },
        "id": "ROpc5uXyNnGa",
        "outputId": "b85b4b2a-54ef-408a-b88f-f797543ee8b8"
      },
      "outputs": [
        {
          "output_type": "display_data",
          "data": {
            "text/plain": [
              "<Figure size 500x500 with 1 Axes>"
            ],
            "image/png": "[encoded data removed]"
          },
          "metadata": {}
        }
      ],
      "source": [
        "import numpy as np\n",
        "import matplotlib.pyplot as plt\n",
        "\n",
        "function_x = np.linspace(-3,3,100)\n",
        "function_y = function_x**3\n",
        "\n",
        "fig,ax = plt.subplots(figsize=(5,5))\n",
        "ax.plot(function_x, function_y)\n",
        "\n",
        "x = 3\n",
        "y = x**3\n",
        "learning_rate = .05 # learning rate를 너무 크게 혹은 작게 설정하면 안되는 이유 \n",
        "\n",
        "ax.scatter(x,y, color='red', s=200)\n",
        "\n",
        "\n",
        "for _ in range(10):\n",
        "    dy_dx = 3*x**2 # 미분계수 \n",
        "    x = x - learning_rate*dy_dx\n",
        "    y = x**3\n",
        "    \n",
        "    ax.scatter(x,y,color='red',s=100)\n",
        "\n",
        "plt.show()"
      ]
    },
    {
      "cell_type": "code",
      "source": [],
      "metadata": {
        "id": "5xK_NuT5YRsk"
      },
      "execution_count": null,
      "outputs": []
    },
    {
      "cell_type": "code",
      "source": [],
      "metadata": {
        "id": "cR5d2kVcYRuq"
      },
      "execution_count": null,
      "outputs": []
    },
    {
      "cell_type": "code",
      "source": [],
      "metadata": {
        "id": "t-qAqsgoYRww"
      },
      "execution_count": null,
      "outputs": []
    },
    {
      "cell_type": "code",
      "source": [],
      "metadata": {
        "id": "RZ1Nvv-0YRza"
      },
      "execution_count": null,
      "outputs": []
    },
    {
      "cell_type": "code",
      "source": [],
      "metadata": {
        "id": "jbOyPBHtYR1u"
      },
      "execution_count": null,
      "outputs": []
    },
    {
      "cell_type": "code",
      "source": [],
      "metadata": {
        "id": "uCZAm5DdYR4B"
      },
      "execution_count": null,
      "outputs": []
    },
    {
      "cell_type": "code",
      "source": [],
      "metadata": {
        "id": "tnhf4c4BYR6m"
      },
      "execution_count": null,
      "outputs": []
    },
    {
      "cell_type": "code",
      "source": [],
      "metadata": {
        "id": "BnGtIxNbYR9N"
      },
      "execution_count": null,
      "outputs": []
    },
    {
      "cell_type": "code",
      "source": [],
      "metadata": {
        "id": "Jy-2YCPyYR_w"
      },
      "execution_count": null,
      "outputs": []
    },
    {
      "cell_type": "code",
      "source": [],
      "metadata": {
        "id": "6-ZxDwSlYSB3"
      },
      "execution_count": null,
      "outputs": []
    }
  ]
}