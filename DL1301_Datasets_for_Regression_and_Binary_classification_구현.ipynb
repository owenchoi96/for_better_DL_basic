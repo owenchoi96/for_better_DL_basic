{
  "nbformat": 4,
  "nbformat_minor": 0,
  "metadata": {
    "colab": {
      "provenance": []
    },
    "kernelspec": {
      "name": "python3",
      "display_name": "Python 3"
    },
    "language_info": {
      "name": "python"
    }
  },
  "cells": [
    {
      "cell_type": "markdown",
      "source": [
        "# Datasets"
      ],
      "metadata": {
        "id": "2sP3OSSNtVTB"
      }
    },
    {
      "cell_type": "markdown",
      "source": [
        "## Dataset for Regression"
      ],
      "metadata": {
        "id": "MSYUgZhFSkNM"
      }
    },
    {
      "cell_type": "code",
      "source": [
        "# 정답을 알고 있는 데이터 셋을 먼저 만들기"
      ],
      "metadata": {
        "id": "rVWl5ZebSkPs"
      },
      "execution_count": null,
      "outputs": []
    },
    {
      "cell_type": "code",
      "source": [
        "import tensorflow as tf\n",
        "\n",
        "N, n_feature = 8, 5 # mini batch 8개\n",
        "\n",
        "t_weights = tf.constant([1,2,3,4,5], dtype=tf.float32) # (5,)\n",
        "t_bias = tf.constant([10], dtype=tf.float32) # ()\n",
        "\n",
        "X = tf.random.normal(mean=0, stddev=1, shape=(N, n_feature))\n",
        "Y = tf.reduce_sum(t_weights*X, axis=1 ) + t_bias\n",
        "\n",
        "print(X.shape, Y.shape)"
      ],
      "metadata": {
        "colab": {
          "base_uri": "https://localhost:8080/"
        },
        "id": "wkC9gbiDSkRz",
        "outputId": "0c96d015-f1f8-4431-a20f-fe145cd2c027"
      },
      "execution_count": 8,
      "outputs": [
        {
          "output_type": "stream",
          "name": "stdout",
          "text": [
            "(8, 5) (8,)\n"
          ]
        }
      ]
    },
    {
      "cell_type": "markdown",
      "source": [
        "## Dataset for Binary Classification"
      ],
      "metadata": {
        "id": "Rej0lKSCSkXA"
      }
    },
    {
      "cell_type": "code",
      "source": [
        "import tensorflow as tf\n",
        "\n",
        "N, n_feature = 8, 5 \n",
        "\n",
        "t_weights = tf.constant([1,2,3,4,5], dtype=tf.float32) \n",
        "t_bias = tf.constant([10], dtype=tf.float32) \n",
        "\n",
        "X = tf.random.normal(mean=0, stddev=1, shape=(N, n_feature))\n",
        "Y = tf.reduce_sum(t_weights*X, axis=1 ) + t_bias\n",
        "Y = tf.cast(Y > 5, tf.int32)\n",
        "print(X.shape, X, '\\n')\n",
        "print(Y.shape, Y)"
      ],
      "metadata": {
        "colab": {
          "base_uri": "https://localhost:8080/"
        },
        "id": "wRSgXpk8SkZj",
        "outputId": "0f4d96bb-d19c-41d3-9a8e-304e790d723d"
      },
      "execution_count": 18,
      "outputs": [
        {
          "output_type": "stream",
          "name": "stdout",
          "text": [
            "(8, 5) tf.Tensor(\n",
            "[[-0.20018962  0.1177167  -1.5105342  -0.0477264   0.04311876]\n",
            " [ 0.7130835   1.5572476  -0.2646124   0.407044    0.19028556]\n",
            " [-0.19904144 -0.07298378  0.19846337 -0.25174984  0.8863205 ]\n",
            " [ 1.9837765  -0.2346816  -0.2917984  -1.8556163  -0.85373735]\n",
            " [-0.48031613  0.2760819  -0.23653534 -0.62974    -0.3106397 ]\n",
            " [-0.05383489  0.31181493 -0.4802898  -0.08721877 -0.9449146 ]\n",
            " [ 1.3301098  -2.5622883  -0.3206272  -0.97047687  0.07988241]\n",
            " [ 1.4244637  -1.0809385   0.6657698  -1.3726407  -0.5704371 ]], shape=(8, 5), dtype=float32) \n",
            "\n",
            "(8,) tf.Tensor([1 1 1 0 1 0 0 0], shape=(8,), dtype=int32)\n"
          ]
        }
      ]
    },
    {
      "cell_type": "code",
      "source": [],
      "metadata": {
        "id": "B3D0wSpoSkcM"
      },
      "execution_count": null,
      "outputs": []
    },
    {
      "cell_type": "markdown",
      "source": [
        "## Dataset for Multi-class classification"
      ],
      "metadata": {
        "id": "NrRd71lnSked"
      }
    },
    {
      "cell_type": "code",
      "source": [
        "# 원핫 인코딩으로 바꿔주고 "
      ],
      "metadata": {
        "id": "nveFfNp4SkhC"
      },
      "execution_count": null,
      "outputs": []
    },
    {
      "cell_type": "code",
      "source": [
        "import tensorflow as tf\n",
        "import matplotlib.pyplot as plt\n",
        "plt.style.use('seaborn')\n",
        "\n",
        "N, n_feature = 30, 2\n",
        "n_class = 3\n",
        "\n",
        "X = tf.zeros(shape=(0, n_feature))\n",
        "Y = tf.zeros(shape=(0, 1), dtype=tf.int32)\n",
        "\n",
        "fig, ax = plt.subplots(figsize=(5,5))\n",
        "for class_idx in range(n_class):\n",
        "  center = tf.random.uniform(minval=-15, maxval=15, shape=(2,))\n",
        "\n",
        "  x1 = center[0] + tf.random.normal(shape=(N, 1))\n",
        "  x2 = center[1] + tf.random.normal(shape=(N, 1))\n",
        "\n",
        "  x = tf.concat((x1,x2), axis=1)\n",
        "  y = class_idx*tf.ones(shape=(N, 1), dtype=tf.int32)\n",
        "  \n",
        "  ax.scatter(x[:, 0].numpy(), x[:, 1].numpy(), alpha=.5)\n",
        "\n",
        "  X = tf.concat((X, x), axis=0)\n",
        "  Y = tf.concat((Y, y), axis=0)\n",
        "\n",
        "\n",
        "print(X.shape, X.numpy())\n",
        "print(Y.shape, Y.numpy())"
      ],
      "metadata": {
        "colab": {
          "base_uri": "https://localhost:8080/",
          "height": 1000
        },
        "id": "zsaht373SkjZ",
        "outputId": "ad118498-c467-4dbc-9620-9f949d0c04a3"
      },
      "execution_count": 30,
      "outputs": [
        {
          "output_type": "stream",
          "name": "stderr",
          "text": [
            "<ipython-input-30-8fdca72842cc>:3: MatplotlibDeprecationWarning: The seaborn styles shipped by Matplotlib are deprecated since 3.6, as they no longer correspond to the styles shipped by seaborn. However, they will remain available as 'seaborn-v0_8-<style>'. Alternatively, directly use the seaborn API instead.\n",
            "  plt.style.use('seaborn')\n"
          ]
        },
        {
          "output_type": "stream",
          "name": "stdout",
          "text": [
            "(90, 2) [[  9.2180605  12.527443 ]\n",
            " [  9.640397   12.038898 ]\n",
            " [ 10.864358   10.926008 ]\n",
            " [ 10.796625   10.756251 ]\n",
            " [ 10.194937   12.351825 ]\n",
            " [ 10.271783   11.901037 ]\n",
            " [  8.774584   13.34139  ]\n",
            " [  8.646242   11.34312  ]\n",
            " [  8.613375   12.073916 ]\n",
            " [  9.459363   13.184736 ]\n",
            " [  8.752873   12.428074 ]\n",
            " [  9.69505    11.994573 ]\n",
            " [  9.534289   11.807554 ]\n",
            " [  8.731401   12.591596 ]\n",
            " [ 10.743675   11.001719 ]\n",
            " [  9.635212   10.724481 ]\n",
            " [  8.64013    10.866952 ]\n",
            " [ 10.475378   11.11276  ]\n",
            " [  9.566466   13.254818 ]\n",
            " [  8.397896   12.806682 ]\n",
            " [  8.643276   12.427847 ]\n",
            " [ 10.292641   11.436679 ]\n",
            " [ 10.676537   11.22715  ]\n",
            " [ 10.029772   13.107731 ]\n",
            " [ 11.055709   11.589528 ]\n",
            " [  9.916994   11.7333355]\n",
            " [  8.300075   11.157229 ]\n",
            " [  8.361996   12.643889 ]\n",
            " [  9.065791   13.888342 ]\n",
            " [  9.774461   11.390318 ]\n",
            " [ -8.120186  -12.379941 ]\n",
            " [ -8.975316  -13.811905 ]\n",
            " [ -7.1398454 -11.843089 ]\n",
            " [ -5.623607  -13.233163 ]\n",
            " [ -6.9808016 -12.262522 ]\n",
            " [ -7.9959106 -13.325653 ]\n",
            " [ -6.398889  -12.677238 ]\n",
            " [ -7.038067  -13.560387 ]\n",
            " [ -6.8126    -13.111389 ]\n",
            " [ -7.2248325 -11.655966 ]\n",
            " [ -6.308229  -12.651862 ]\n",
            " [ -7.1688957 -13.164145 ]\n",
            " [ -6.8485513 -13.916557 ]\n",
            " [ -8.758381  -12.222959 ]\n",
            " [ -7.640033  -12.968715 ]\n",
            " [ -9.889893  -14.312149 ]\n",
            " [ -7.204275  -13.45768  ]\n",
            " [ -7.9793386 -12.943417 ]\n",
            " [ -7.875399  -13.716997 ]\n",
            " [ -8.094796  -14.508421 ]\n",
            " [ -8.616051  -12.0421095]\n",
            " [ -7.443959  -13.00186  ]\n",
            " [ -8.8081455 -12.991514 ]\n",
            " [ -6.476862  -15.405713 ]\n",
            " [ -6.1417174 -11.945871 ]\n",
            " [ -7.672436  -13.148865 ]\n",
            " [ -8.035866  -12.723165 ]\n",
            " [ -7.6882715 -12.433468 ]\n",
            " [ -6.558712  -12.239033 ]\n",
            " [ -8.872916  -12.519901 ]\n",
            " [ -9.373909   10.889608 ]\n",
            " [-10.970671   12.21901  ]\n",
            " [ -8.837485   12.923499 ]\n",
            " [ -8.574533   11.008716 ]\n",
            " [-10.98189    11.2019825]\n",
            " [ -9.611288   11.927112 ]\n",
            " [ -9.078235   12.393736 ]\n",
            " [-11.0955     10.283301 ]\n",
            " [ -8.996365   10.672254 ]\n",
            " [ -9.474949   10.910022 ]\n",
            " [-10.5685     11.703185 ]\n",
            " [ -8.398413   10.717445 ]\n",
            " [ -8.151481   12.905405 ]\n",
            " [ -8.494504   10.772446 ]\n",
            " [-10.276418   10.062985 ]\n",
            " [-10.0753975  10.142948 ]\n",
            " [ -9.47901    10.750604 ]\n",
            " [ -9.547412   12.5089855]\n",
            " [ -9.518889   11.162721 ]\n",
            " [ -9.512634   12.06065  ]\n",
            " [ -8.438462    9.261776 ]\n",
            " [ -8.304388   11.338227 ]\n",
            " [ -9.243493   10.910064 ]\n",
            " [ -9.453655   12.250069 ]\n",
            " [ -8.301809   10.595073 ]\n",
            " [ -9.338211   12.221953 ]\n",
            " [ -9.206579    9.763058 ]\n",
            " [ -8.197657   11.852153 ]\n",
            " [-11.048971   10.574971 ]\n",
            " [ -8.559017   10.712074 ]]\n",
            "(90, 1) [[0]\n",
            " [0]\n",
            " [0]\n",
            " [0]\n",
            " [0]\n",
            " [0]\n",
            " [0]\n",
            " [0]\n",
            " [0]\n",
            " [0]\n",
            " [0]\n",
            " [0]\n",
            " [0]\n",
            " [0]\n",
            " [0]\n",
            " [0]\n",
            " [0]\n",
            " [0]\n",
            " [0]\n",
            " [0]\n",
            " [0]\n",
            " [0]\n",
            " [0]\n",
            " [0]\n",
            " [0]\n",
            " [0]\n",
            " [0]\n",
            " [0]\n",
            " [0]\n",
            " [0]\n",
            " [1]\n",
            " [1]\n",
            " [1]\n",
            " [1]\n",
            " [1]\n",
            " [1]\n",
            " [1]\n",
            " [1]\n",
            " [1]\n",
            " [1]\n",
            " [1]\n",
            " [1]\n",
            " [1]\n",
            " [1]\n",
            " [1]\n",
            " [1]\n",
            " [1]\n",
            " [1]\n",
            " [1]\n",
            " [1]\n",
            " [1]\n",
            " [1]\n",
            " [1]\n",
            " [1]\n",
            " [1]\n",
            " [1]\n",
            " [1]\n",
            " [1]\n",
            " [1]\n",
            " [1]\n",
            " [2]\n",
            " [2]\n",
            " [2]\n",
            " [2]\n",
            " [2]\n",
            " [2]\n",
            " [2]\n",
            " [2]\n",
            " [2]\n",
            " [2]\n",
            " [2]\n",
            " [2]\n",
            " [2]\n",
            " [2]\n",
            " [2]\n",
            " [2]\n",
            " [2]\n",
            " [2]\n",
            " [2]\n",
            " [2]\n",
            " [2]\n",
            " [2]\n",
            " [2]\n",
            " [2]\n",
            " [2]\n",
            " [2]\n",
            " [2]\n",
            " [2]\n",
            " [2]\n",
            " [2]]\n"
          ]
        },
        {
          "output_type": "display_data",
          "data": {
            "text/plain": [
              "<Figure size 500x500 with 1 Axes>"
            ],
            "image/png": "[encoded data removed]"
          },
          "metadata": {}
        }
      ]
    },
    {
      "cell_type": "code",
      "source": [],
      "metadata": {
        "id": "5_Bej1MvYdYD"
      },
      "execution_count": 30,
      "outputs": []
    },
    {
      "cell_type": "markdown",
      "source": [
        "## code dataset for multi-class classification with one-hot encoding"
      ],
      "metadata": {
        "id": "PiPfe5ZFYdbS"
      }
    },
    {
      "cell_type": "code",
      "source": [
        "import tensorflow as tf\n",
        "import matplotlib.pyplot as plt\n",
        "plt.style.use('seaborn')\n",
        "\n",
        "N, n_feature = 30, 2\n",
        "n_class = 3\n",
        "\n",
        "X = tf.zeros(shape=(0, n_feature))\n",
        "Y = tf.zeros(shape=(0, ), dtype=tf.int32)\n",
        "\n",
        "fig, ax = plt.subplots(figsize=(5,5))\n",
        "for class_idx in range(n_class):\n",
        "  center = tf.random.uniform(minval=-15, maxval=15, shape=(2,))\n",
        "\n",
        "  x1 = center[0] + tf.random.normal(shape=(N, 1))\n",
        "  x2 = center[1] + tf.random.normal(shape=(N, 1))\n",
        "\n",
        "  x = tf.concat((x1,x2), axis=1)\n",
        "  y = class_idx*tf.ones(shape=(N, ), dtype=tf.int32)\n",
        "  \n",
        "  ax.scatter(x[:, 0].numpy(), x[:, 1].numpy(), alpha=.5)\n",
        "\n",
        "  X = tf.concat((X, x), axis=0)\n",
        "  Y = tf.concat((Y, y), axis=0)\n",
        "\n",
        "Y = tf.one_hot(Y, depth=n_class, dtype=tf.int32) # one hot encoding \n",
        "\n",
        "print(X.shape)\n",
        "print(Y.shape)"
      ],
      "metadata": {
        "colab": {
          "base_uri": "https://localhost:8080/",
          "height": 534
        },
        "id": "-WMR4EplYdeG",
        "outputId": "319fb4a0-2f03-4000-94cc-c72416311aef"
      },
      "execution_count": 35,
      "outputs": [
        {
          "output_type": "stream",
          "name": "stderr",
          "text": [
            "<ipython-input-35-7b359b92fd76>:3: MatplotlibDeprecationWarning: The seaborn styles shipped by Matplotlib are deprecated since 3.6, as they no longer correspond to the styles shipped by seaborn. However, they will remain available as 'seaborn-v0_8-<style>'. Alternatively, directly use the seaborn API instead.\n",
            "  plt.style.use('seaborn')\n"
          ]
        },
        {
          "output_type": "stream",
          "name": "stdout",
          "text": [
            "(90, 2)\n",
            "(90, 3)\n"
          ]
        },
        {
          "output_type": "display_data",
          "data": {
            "text/plain": [
              "<Figure size 500x500 with 1 Axes>"
            ],
            "image/png": "[encoded data removed]"
          },
          "metadata": {}
        }
      ]
    },
    {
      "cell_type": "markdown",
      "source": [
        "## Dataset objects"
      ],
      "metadata": {
        "id": "ZTAfbI3VSkmM"
      }
    },
    {
      "cell_type": "code",
      "source": [
        "import tensorflow as tf\n",
        "\n",
        "N, n_feature = 100, 5 \n",
        "batch_size = 32\n",
        "\n",
        "t_weights = tf.constant([1,2,3,4,5], dtype=tf.float32) \n",
        "t_bias = tf.constant([10], dtype=tf.float32) \n",
        "\n",
        "X = tf.random.normal(mean=0, stddev=1, shape=(N, n_feature))\n",
        "Y = tf.reduce_sum(t_weights*X, axis=1 ) + t_bias\n",
        "\n",
        "dataset = tf.data.Dataset.from_tensor_slices((X,Y)) # from_tensor_slices는 사이즈가 작을 때만 활용. \n",
        "dataset = dataset.batch(batch_size)\n",
        "\n",
        "for x,y in dataset:\n",
        "  print(x.shape, y.shape)"
      ],
      "metadata": {
        "colab": {
          "base_uri": "https://localhost:8080/"
        },
        "id": "IM88f9zISkox",
        "outputId": "2ee92928-30c2-4080-d097-072bda31fa1b"
      },
      "execution_count": 39,
      "outputs": [
        {
          "output_type": "stream",
          "name": "stdout",
          "text": [
            "(32, 5) (32,)\n",
            "(32, 5) (32,)\n",
            "(32, 5) (32,)\n",
            "(4, 5) (4,)\n"
          ]
        }
      ]
    },
    {
      "cell_type": "code",
      "source": [
        "# input pipeline이 layer를 쌓는 것 만큼 엄청 중요함. "
      ],
      "metadata": {
        "id": "Rq0BYspzTvL4"
      },
      "execution_count": null,
      "outputs": []
    }
  ]
}