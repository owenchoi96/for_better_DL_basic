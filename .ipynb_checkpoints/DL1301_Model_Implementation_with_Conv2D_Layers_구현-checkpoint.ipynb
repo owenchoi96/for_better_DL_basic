{
 "cells": [
  {
   "cell_type": "markdown",
   "metadata": {
    "id": "JCZQnBI_TQrU"
   },
   "source": [
    "# Models with Conv Layers"
   ]
  },
  {
   "cell_type": "markdown",
   "metadata": {
    "id": "z06QK7jvTV2J"
   },
   "source": [
    "## Models with Sequential Method"
   ]
  },
  {
   "cell_type": "code",
   "execution_count": 6,
   "metadata": {
    "colab": {
     "base_uri": "https://localhost:8080/"
    },
    "id": "bDbFxgCVTV45",
    "outputId": "1c05d50c-0a3e-45b9-9f2e-cc63661c2c6b"
   },
   "outputs": [
    {
     "name": "stdout",
     "output_type": "stream",
     "text": [
      "(3, 16, 16, 3)\n"
     ]
    }
   ],
   "source": [
    "import tensorflow as tf\n",
    "from tensorflow.keras.layers import Conv2D\n",
    "\n",
    "N, n_H, n_W, n_C = 3, 20, 20, 3\n",
    "n_filters = [4,3]\n",
    "k_size = 3\n",
    "\n",
    "images = tf.random.uniform(minval=0, maxval=1, \n",
    "                      shape=(N, n_H, n_W, n_C))\n",
    "conv1 = Conv2D(filters=n_filters[0], kernel_size=k_size)\n",
    "conv2 = Conv2D(filters=n_filters[1], kernel_size=k_size, activation='sigmoid')\n",
    "\n",
    "A = conv1(images) # A shape (3, 18, 18, 4)\n",
    "Y = conv2(A) # Y shape (3, 16, 16, 3)\n",
    "\n",
    "print(Y.shape)"
   ]
  },
  {
   "cell_type": "code",
   "execution_count": null,
   "metadata": {
    "id": "w-y927oYTV_P"
   },
   "outputs": [],
   "source": []
  },
  {
   "cell_type": "code",
   "execution_count": 17,
   "metadata": {
    "colab": {
     "base_uri": "https://localhost:8080/"
    },
    "id": "RZAAlLyOTWCD",
    "outputId": "9069a4b5-5cc9-433a-ca8f-5b38ffad1ace"
   },
   "outputs": [
    {
     "name": "stdout",
     "output_type": "stream",
     "text": [
      "(3, 3, 3, 10) (10,)\n",
      "(3, 3, 10, 20) (20,)\n",
      "(3, 3, 20, 30) (30,)\n",
      "========\n",
      "(3, 3, 3, 10)\n",
      "(10,)\n",
      "(3, 3, 10, 20)\n",
      "(20,)\n",
      "(3, 3, 20, 30)\n",
      "(30,)\n"
     ]
    }
   ],
   "source": [
    "import tensorflow as tf\n",
    "\n",
    "from tensorflow.keras.models import Sequential\n",
    "from tensorflow.keras.layers import Conv2D\n",
    "\n",
    "n_neurons = [10,20,30]\n",
    "\n",
    "model = Sequential()\n",
    "model.add(Conv2D(filters=n_neurons[0], kernel_size = 3, activation='relu')) \n",
    "model.add(Conv2D(filters=n_neurons[1],  kernel_size = 3, activation='relu'))\n",
    "model.add(Conv2D(filters=n_neurons[2],  kernel_size = 3, activation='relu'))\n",
    "\n",
    "x = tf.random.normal(shape=(32,28,28,3)) \n",
    "predictions = model(x)\n",
    "\n",
    "# print(\"input : {}\".format(x.shape))\n",
    "# print(\"output : {}\".format(predictions.shape))\n",
    "\n",
    "\n",
    "for layer in model.layers:\n",
    "  W, B = layer.get_weights()\n",
    "  print(W.shape, B.shape)\n",
    "\n",
    "print(\"========\")\n",
    "\n",
    "trainable_varibles = model.trainable_variables # weights와 biases를 가지고 있음을 알 수 있음. \n",
    "for train_var in trainable_varibles:\n",
    "  print(train_var.shape)"
   ]
  },
  {
   "cell_type": "code",
   "execution_count": null,
   "metadata": {
    "id": "0vME1wAmTWEn"
   },
   "outputs": [],
   "source": []
  },
  {
   "cell_type": "markdown",
   "metadata": {
    "id": "XLjly3z9TWKR"
   },
   "source": [
    "## Models with Model Sub-classing "
   ]
  },
  {
   "cell_type": "code",
   "execution_count": 26,
   "metadata": {
    "colab": {
     "base_uri": "https://localhost:8080/"
    },
    "id": "xK9KDt1_TWNF",
    "outputId": "c39a5fb8-8ca1-4dfc-ce4c-541e522030d0"
   },
   "outputs": [
    {
     "name": "stdout",
     "output_type": "stream",
     "text": [
      "Input:  (32, 28, 28, 3)\n",
      "\n",
      " ======= Conv Layers ==========\n",
      "W/B (3, 3, 3, 10)/(10,)\n",
      "X: (32, 26, 26, 10)\n",
      "W/B (3, 3, 10, 20)/(20,)\n",
      "X: (32, 24, 24, 20)\n",
      "W/B (3, 3, 20, 30)/(30,)\n",
      "X: (32, 22, 22, 30)\n"
     ]
    }
   ],
   "source": [
    "import tensorflow as tf\n",
    "\n",
    "from tensorflow.keras.models import Model\n",
    "from tensorflow.keras.layers import Conv2D\n",
    "\n",
    "n_neurons = [10, 20, 30]\n",
    "\n",
    "class TestModel(Model):\n",
    "  def __init__(self):\n",
    "    super(TestModel, self).__init__()\n",
    "    global n_neurons\n",
    "\n",
    "    self.conv_layers = []\n",
    "    for n_neuron in n_neurons:\n",
    "      self.conv_layers.aCppend(onv2D(filters=n_neuron, kernel_size = 3, activation='relu'))\n",
    "\n",
    "  def call(self, x):\n",
    "    print(\"Input: \", x.shape)\n",
    "\n",
    "    print(\"\\n ======= Conv Layers ==========\")\n",
    "    for conv_layer in self.conv_layers:\n",
    "      x = conv_layer(x)\n",
    "      W, B = conv_layer.get_weights()\n",
    "      print(\"W/B {}/{}\".format(W.shape, B.shape))\n",
    "      print(\"X: {}\".format(x.shape))\n",
    "    return x\n",
    "\n",
    "model = TestModel()\n",
    "x = tf.random.normal(shape=(32,28,28,3))\n",
    "predictions = model(x)\n",
    "\n",
    "# print(x.shape)\n",
    "# print(predictions.shape)\n",
    "\n",
    "for layer in model.layers:\n",
    "  W, B = layer.get_weights()\n",
    "  # print(W.shape, B.shape)\n",
    "\n",
    "# print(\"=======\")\n",
    "\n",
    "trainable_varibles = model.trainable_variables # weights와 biases를 가지고 있음을 알 수 있음. \n",
    "for train_var in trainable_varibles:\n",
    "  continue\n",
    "  # print(train_var.shape)\n",
    "\n"
   ]
  },
  {
   "cell_type": "code",
   "execution_count": null,
   "metadata": {
    "id": "A1G27S97TWP4"
   },
   "outputs": [],
   "source": []
  },
  {
   "cell_type": "code",
   "execution_count": null,
   "metadata": {
    "id": "i4u_e8bpTWSd"
   },
   "outputs": [],
   "source": []
  },
  {
   "cell_type": "code",
   "execution_count": null,
   "metadata": {
    "id": "-Sju20voTWVQ"
   },
   "outputs": [],
   "source": []
  },
  {
   "cell_type": "code",
   "execution_count": null,
   "metadata": {
    "id": "CEvI3H0JTWYF"
   },
   "outputs": [],
   "source": []
  },
  {
   "cell_type": "code",
   "execution_count": null,
   "metadata": {
    "id": "IvXcEk_fTWa5"
   },
   "outputs": [],
   "source": []
  },
  {
   "cell_type": "code",
   "execution_count": null,
   "metadata": {
    "id": "HuW_tHM3TWde"
   },
   "outputs": [],
   "source": []
  },
  {
   "cell_type": "code",
   "execution_count": null,
   "metadata": {
    "id": "Bu9KtemHTWgS"
   },
   "outputs": [],
   "source": []
  },
  {
   "cell_type": "code",
   "execution_count": null,
   "metadata": {
    "id": "xjZ7dXJ3TWjF"
   },
   "outputs": [],
   "source": []
  },
  {
   "cell_type": "code",
   "execution_count": null,
   "metadata": {
    "id": "ipYEi77dTWl7"
   },
   "outputs": [],
   "source": []
  },
  {
   "cell_type": "code",
   "execution_count": null,
   "metadata": {
    "id": "Go21rmMzTWot"
   },
   "outputs": [],
   "source": []
  },
  {
   "cell_type": "code",
   "execution_count": null,
   "metadata": {
    "id": "3KAfnEEhTWrj"
   },
   "outputs": [],
   "source": []
  },
  {
   "cell_type": "code",
   "execution_count": null,
   "metadata": {
    "id": "RsfM8uHdTWuV"
   },
   "outputs": [],
   "source": []
  },
  {
   "cell_type": "code",
   "execution_count": null,
   "metadata": {
    "id": "Pa0gDa9YTWxK"
   },
   "outputs": [],
   "source": []
  },
  {
   "cell_type": "code",
   "execution_count": null,
   "metadata": {
    "id": "euLa65frTWzu"
   },
   "outputs": [],
   "source": []
  }
 ],
 "metadata": {
  "colab": {
   "provenance": []
  },
  "kernelspec": {
   "display_name": "Python 3 (ipykernel)",
   "language": "python",
   "name": "python3"
  },
  "language_info": {
   "codemirror_mode": {
    "name": "ipython",
    "version": 3
   },
   "file_extension": ".py",
   "mimetype": "text/x-python",
   "name": "python",
   "nbconvert_exporter": "python",
   "pygments_lexer": "ipython3",
   "version": "3.9.16"
  },
  "toc": {
   "base_numbering": 1,
   "nav_menu": {},
   "number_sections": true,
   "sideBar": true,
   "skip_h1_title": false,
   "title_cell": "Table of Contents",
   "title_sidebar": "Contents",
   "toc_cell": false,
   "toc_position": {},
   "toc_section_display": true,
   "toc_window_display": false
  },
  "varInspector": {
   "cols": {
    "lenName": 16,
    "lenType": 16,
    "lenVar": 40
   },
   "kernels_config": {
    "python": {
     "delete_cmd_postfix": "",
     "delete_cmd_prefix": "del ",
     "library": "var_list.py",
     "varRefreshCmd": "print(var_dic_list())"
    },
    "r": {
     "delete_cmd_postfix": ") ",
     "delete_cmd_prefix": "rm(",
     "library": "var_list.r",
     "varRefreshCmd": "cat(var_dic_list()) "
    }
   },
   "types_to_exclude": [
    "module",
    "function",
    "builtin_function_or_method",
    "instance",
    "_Feature"
   ],
   "window_display": false
  }
 },
 "nbformat": 4,
 "nbformat_minor": 1
}
