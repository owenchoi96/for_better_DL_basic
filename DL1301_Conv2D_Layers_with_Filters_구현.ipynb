{
  "nbformat": 4,
  "nbformat_minor": 0,
  "metadata": {
    "colab": {
      "provenance": []
    },
    "kernelspec": {
      "name": "python3",
      "display_name": "Python 3"
    },
    "language_info": {
      "name": "python"
    }
  },
  "cells": [
    {
      "cell_type": "markdown",
      "source": [
        "# Conv Layers with Filters "
      ],
      "metadata": {
        "id": "d309KbJ9Lb-U"
      }
    },
    {
      "cell_type": "markdown",
      "source": [
        "## Shapes with Filters"
      ],
      "metadata": {
        "id": "vGj9JQd7LgE2"
      }
    },
    {
      "cell_type": "code",
      "source": [
        "import tensorflow as tf\n",
        "from tensorflow.keras.layers import Conv2D\n",
        "\n",
        "N, n_H, n_W, n_C = 1, 28, 28, 3 # N은 바뀌지 않음 \n",
        "n_filter = 5\n",
        "k_size = 3 # kernel size ==> f\n",
        "\n",
        "images = tf.random.uniform(minval=0, maxval=1, shape=(N, n_H, n_W, n_C))\n",
        "\n",
        "conv = Conv2D(filters=n_filter, kernel_size=k_size)\n",
        "\n",
        "Y = conv(images)\n",
        "\n",
        "W, B = conv.get_weights()\n",
        "\n",
        "print('input image : {}'.format(images.shape))\n",
        "print(\"W/B : {} / {}\".format(W.shape, B.shape))\n",
        "print(\"output image : {}\".format(Y.shape)) "
      ],
      "metadata": {
        "colab": {
          "base_uri": "https://localhost:8080/"
        },
        "id": "7yrMl1bjLgHf",
        "outputId": "5e65ce10-68de-4463-9450-d2d3b0dda645"
      },
      "execution_count": 2,
      "outputs": [
        {
          "output_type": "stream",
          "name": "stdout",
          "text": [
            "input image : (1, 28, 28, 3)\n",
            "W/B : (3, 3, 3, 5) / (5,)\n",
            "output image : (1, 26, 26, 5)\n"
          ]
        }
      ]
    },
    {
      "cell_type": "code",
      "source": [],
      "metadata": {
        "id": "VaQSRjKELgJs"
      },
      "execution_count": null,
      "outputs": []
    },
    {
      "cell_type": "code",
      "source": [],
      "metadata": {
        "id": "IXw9turRLgL4"
      },
      "execution_count": null,
      "outputs": []
    },
    {
      "cell_type": "markdown",
      "source": [
        "## Computations with Filters"
      ],
      "metadata": {
        "id": "QqEvv7ZxLgOJ"
      }
    },
    {
      "cell_type": "code",
      "source": [
        "import numpy as np\n",
        "import tensorflow as tf\n",
        "\n",
        "from tensorflow.keras.layers import Conv2D\n",
        "\n",
        "N, n_H, n_W, n_C = 1, 5, 5, 3 \n",
        "n_filter = 3\n",
        "k_size = 4 # kernel size ==> f\n",
        "images = tf.random.uniform(minval=0, maxval=1, shape=(N, n_H, n_W, n_C))\n",
        "\n",
        "# Forward Propagation\n",
        "conv = Conv2D(filters=n_filter, kernel_size=k_size)\n",
        "Y = conv(images)\n",
        "Y = np.transpose(Y.numpy().squeeze(), (2,0,1))\n",
        "\n",
        "# print(\"Y(Tensorflow) : \", Y.numpy())\n",
        "\n",
        "W, B = conv.get_weights()\n",
        "images = images.numpy().squeeze()\n",
        "\n",
        "Y_man = np.zeros(shape=(n_H - k_size + 1, n_W - k_size + 1, n_filter))\n",
        "for c in range(n_filter):\n",
        "  c_W = W[:, :, :, c]\n",
        "  c_b = B[c]\n",
        "\n",
        "  for h in range(n_H - k_size  + 1):\n",
        "    for w in range(n_W - k_size + 1):\n",
        "      window = images[h:h+k_size, w:w+k_size, :]\n",
        "      conv = np.sum(window*c_W) + c_b\n",
        "\n",
        "      Y_man[h, w, c] = conv\n",
        "\n",
        "    print(\"Y(Manual) : \", np.transpose(Y_man, (2,0,1)))"
      ],
      "metadata": {
        "colab": {
          "base_uri": "https://localhost:8080/"
        },
        "id": "p2hc31fgLgQd",
        "outputId": "8ca5eb67-ce7a-4ce6-979d-48abb55f641c"
      },
      "execution_count": 23,
      "outputs": [
        {
          "output_type": "stream",
          "name": "stdout",
          "text": [
            "Y(Manual) :  [[[-0.29113895  0.01894665]\n",
            "  [ 0.          0.        ]]\n",
            "\n",
            " [[ 0.          0.        ]\n",
            "  [ 0.          0.        ]]\n",
            "\n",
            " [[ 0.          0.        ]\n",
            "  [ 0.          0.        ]]]\n",
            "Y(Manual) :  [[[-0.29113895  0.01894665]\n",
            "  [-0.79150128 -0.32464659]]\n",
            "\n",
            " [[ 0.          0.        ]\n",
            "  [ 0.          0.        ]]\n",
            "\n",
            " [[ 0.          0.        ]\n",
            "  [ 0.          0.        ]]]\n",
            "Y(Manual) :  [[[-0.29113895  0.01894665]\n",
            "  [-0.79150128 -0.32464659]]\n",
            "\n",
            " [[-0.97480845 -0.4059453 ]\n",
            "  [ 0.          0.        ]]\n",
            "\n",
            " [[ 0.          0.        ]\n",
            "  [ 0.          0.        ]]]\n",
            "Y(Manual) :  [[[-0.29113895  0.01894665]\n",
            "  [-0.79150128 -0.32464659]]\n",
            "\n",
            " [[-0.97480845 -0.4059453 ]\n",
            "  [-0.39323807 -0.69562972]]\n",
            "\n",
            " [[ 0.          0.        ]\n",
            "  [ 0.          0.        ]]]\n",
            "Y(Manual) :  [[[-0.29113895  0.01894665]\n",
            "  [-0.79150128 -0.32464659]]\n",
            "\n",
            " [[-0.97480845 -0.4059453 ]\n",
            "  [-0.39323807 -0.69562972]]\n",
            "\n",
            " [[-0.42879999 -0.25904429]\n",
            "  [ 0.          0.        ]]]\n",
            "Y(Manual) :  [[[-0.29113895  0.01894665]\n",
            "  [-0.79150128 -0.32464659]]\n",
            "\n",
            " [[-0.97480845 -0.4059453 ]\n",
            "  [-0.39323807 -0.69562972]]\n",
            "\n",
            " [[-0.42879999 -0.25904429]\n",
            "  [ 0.10993385  0.08246848]]]\n"
          ]
        }
      ]
    },
    {
      "cell_type": "code",
      "source": [
        "import numpy as np\n",
        "\n",
        "images = np.random.randint(low=0, high=10, size=(2,3,4))\n",
        "for c in range(4):\n",
        "  # print(images[:, :, c])\n",
        "  break\n",
        "\n",
        "images = np.transpose(images, (2,0,1))\n",
        "for c in range(4):\n",
        "  print(images[c, :, :])"
      ],
      "metadata": {
        "colab": {
          "base_uri": "https://localhost:8080/"
        },
        "id": "UpOrFYvMLgSc",
        "outputId": "8b15fe01-58aa-4e2f-b4b6-c5e8fb6e9f17"
      },
      "execution_count": 15,
      "outputs": [
        {
          "output_type": "stream",
          "name": "stdout",
          "text": [
            "[[7 4 9]\n",
            " [1 3 2]]\n",
            "[[1 4 6]\n",
            " [5 5 9]]\n",
            "[[9 7 1]\n",
            " [6 3 1]]\n",
            "[[7 3 8]\n",
            " [6 4 0]]\n"
          ]
        }
      ]
    },
    {
      "cell_type": "code",
      "source": [],
      "metadata": {
        "id": "8SVmj8g-LgU5"
      },
      "execution_count": null,
      "outputs": []
    },
    {
      "cell_type": "markdown",
      "source": [
        "# Conv Layers with Activation Functions"
      ],
      "metadata": {
        "id": "wo7K2sb8LgXK"
      }
    },
    {
      "cell_type": "markdown",
      "source": [
        "## Conv Layers with Activation Functions "
      ],
      "metadata": {
        "id": "7QaWae1YLgZn"
      }
    },
    {
      "cell_type": "code",
      "source": [
        "import numpy as np\n",
        "import tensorflow as tf\n",
        "\n",
        "from tensorflow.keras.layers import Conv2D\n",
        "\n",
        "N, n_H, n_W, n_C = 1, 5, 5, 3 \n",
        "n_filter = 3 # neuron의 개수 \n",
        "k_size = 4 # kernel size ==> f\n",
        "images = tf.random.uniform(minval=0, maxval=1, shape=(N, n_H, n_W, n_C))\n",
        "\n",
        "# Forward Propagation\n",
        "conv = Conv2D(filters=n_filter, kernel_size=k_size, activation='sigmoid')\n",
        "Y = conv(images)\n",
        "Y = np.transpose(Y.numpy().squeeze(), (2,0,1)) \n",
        "\n",
        "# print(\"Y(Tensorflow) : \", Y.numpy())\n",
        "\n",
        "W, B = conv.get_weights()\n",
        "images = images.numpy().squeeze()\n",
        "\n",
        "Y_man = np.zeros(shape=(n_H - k_size + 1, n_W - k_size + 1, n_filter))\n",
        "for c in range(n_filter):\n",
        "  c_W = W[:, :, :, c]\n",
        "  c_b = B[c]\n",
        "\n",
        "  for h in range(n_H - k_size  + 1):\n",
        "    for w in range(n_W - k_size + 1):\n",
        "      window = images[h:h+k_size, w:w+k_size, :]\n",
        "      conv = np.sum(window*c_W) + c_b\n",
        "      conv = 1/(1+np.exp(-conv))\n",
        "\n",
        "      Y_man[h, w, c] = conv\n",
        "\n",
        "print(\"Y(Manual) : \", np.transpose(Y_man, (2,0,1)))"
      ],
      "metadata": {
        "colab": {
          "base_uri": "https://localhost:8080/"
        },
        "id": "Igx4fYRaLgd6",
        "outputId": "5437da2c-c293-4267-a16b-4e4db9866f53"
      },
      "execution_count": 26,
      "outputs": [
        {
          "output_type": "stream",
          "name": "stdout",
          "text": [
            "Y(Manual) :  [[[0.62180265 0.76775445]\n",
            "  [0.79980172 0.74457332]]\n",
            "\n",
            " [[0.16224888 0.39913339]\n",
            "  [0.18996118 0.25916207]]\n",
            "\n",
            " [[0.55455776 0.71781146]\n",
            "  [0.72485382 0.6572594 ]]]\n"
          ]
        }
      ]
    },
    {
      "cell_type": "code",
      "source": [],
      "metadata": {
        "id": "seqjyK-wLggh"
      },
      "execution_count": null,
      "outputs": []
    },
    {
      "cell_type": "code",
      "source": [],
      "metadata": {
        "id": "egg5BXGRLgio"
      },
      "execution_count": null,
      "outputs": []
    },
    {
      "cell_type": "code",
      "source": [],
      "metadata": {
        "id": "2dHTUDLdLgk7"
      },
      "execution_count": null,
      "outputs": []
    },
    {
      "cell_type": "code",
      "source": [],
      "metadata": {
        "id": "mnXGFrZ7Lgm9"
      },
      "execution_count": null,
      "outputs": []
    }
  ]
}