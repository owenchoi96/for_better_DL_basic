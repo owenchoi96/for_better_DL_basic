{
  "nbformat": 4,
  "nbformat_minor": 0,
  "metadata": {
    "colab": {
      "provenance": []
    },
    "kernelspec": {
      "name": "python3",
      "display_name": "Python 3"
    },
    "language_info": {
      "name": "python"
    },
    "widgets": {
      "application/vnd.jupyter.widget-state+json": {
        "f758893458504c6aa01fd03e8e335a17": {
          "model_module": "@jupyter-widgets/controls",
          "model_name": "HBoxModel",
          "model_module_version": "1.5.0",
          "state": {
            "_dom_classes": [],
            "_model_module": "@jupyter-widgets/controls",
            "_model_module_version": "1.5.0",
            "_model_name": "HBoxModel",
            "_view_count": null,
            "_view_module": "@jupyter-widgets/controls",
            "_view_module_version": "1.5.0",
            "_view_name": "HBoxView",
            "box_style": "",
            "children": [
              "IPY_MODEL_dfaf05eb74564c01b0661efa1346e873",
              "IPY_MODEL_10ce443331664088b4d7d04db71f6358",
              "IPY_MODEL_f634a522088a414a983f271681f0bbf9"
            ],
            "layout": "IPY_MODEL_bfbc68c5fb2c4d7686a4048b21f321d6"
          }
        },
        "dfaf05eb74564c01b0661efa1346e873": {
          "model_module": "@jupyter-widgets/controls",
          "model_name": "HTMLModel",
          "model_module_version": "1.5.0",
          "state": {
            "_dom_classes": [],
            "_model_module": "@jupyter-widgets/controls",
            "_model_module_version": "1.5.0",
            "_model_name": "HTMLModel",
            "_view_count": null,
            "_view_module": "@jupyter-widgets/controls",
            "_view_module_version": "1.5.0",
            "_view_name": "HTMLView",
            "description": "",
            "description_tooltip": null,
            "layout": "IPY_MODEL_5f55762117b44d9898e6b2c29f531e3a",
            "placeholder": "​",
            "style": "IPY_MODEL_d62df057896441e98a063ac4d1f24c4d",
            "value": "Dl Completed...: 100%"
          }
        },
        "10ce443331664088b4d7d04db71f6358": {
          "model_module": "@jupyter-widgets/controls",
          "model_name": "FloatProgressModel",
          "model_module_version": "1.5.0",
          "state": {
            "_dom_classes": [],
            "_model_module": "@jupyter-widgets/controls",
            "_model_module_version": "1.5.0",
            "_model_name": "FloatProgressModel",
            "_view_count": null,
            "_view_module": "@jupyter-widgets/controls",
            "_view_module_version": "1.5.0",
            "_view_name": "ProgressView",
            "bar_style": "success",
            "description": "",
            "description_tooltip": null,
            "layout": "IPY_MODEL_974b181671ae44cbbe2a110fa5a936e2",
            "max": 5,
            "min": 0,
            "orientation": "horizontal",
            "style": "IPY_MODEL_f23ef5ac1e204a2194afae1fe5d2a39d",
            "value": 5
          }
        },
        "f634a522088a414a983f271681f0bbf9": {
          "model_module": "@jupyter-widgets/controls",
          "model_name": "HTMLModel",
          "model_module_version": "1.5.0",
          "state": {
            "_dom_classes": [],
            "_model_module": "@jupyter-widgets/controls",
            "_model_module_version": "1.5.0",
            "_model_name": "HTMLModel",
            "_view_count": null,
            "_view_module": "@jupyter-widgets/controls",
            "_view_module_version": "1.5.0",
            "_view_name": "HTMLView",
            "description": "",
            "description_tooltip": null,
            "layout": "IPY_MODEL_f03b1c82b983450599dc3f4fcaf92dd3",
            "placeholder": "​",
            "style": "IPY_MODEL_afb99c5e271a4738a2df526ce9b2cd3a",
            "value": " 5/5 [00:00&lt;00:00, 12.72 file/s]"
          }
        },
        "bfbc68c5fb2c4d7686a4048b21f321d6": {
          "model_module": "@jupyter-widgets/base",
          "model_name": "LayoutModel",
          "model_module_version": "1.2.0",
          "state": {
            "_model_module": "@jupyter-widgets/base",
            "_model_module_version": "1.2.0",
            "_model_name": "LayoutModel",
            "_view_count": null,
            "_view_module": "@jupyter-widgets/base",
            "_view_module_version": "1.2.0",
            "_view_name": "LayoutView",
            "align_content": null,
            "align_items": null,
            "align_self": null,
            "border": null,
            "bottom": null,
            "display": null,
            "flex": null,
            "flex_flow": null,
            "grid_area": null,
            "grid_auto_columns": null,
            "grid_auto_flow": null,
            "grid_auto_rows": null,
            "grid_column": null,
            "grid_gap": null,
            "grid_row": null,
            "grid_template_areas": null,
            "grid_template_columns": null,
            "grid_template_rows": null,
            "height": null,
            "justify_content": null,
            "justify_items": null,
            "left": null,
            "margin": null,
            "max_height": null,
            "max_width": null,
            "min_height": null,
            "min_width": null,
            "object_fit": null,
            "object_position": null,
            "order": null,
            "overflow": null,
            "overflow_x": null,
            "overflow_y": null,
            "padding": null,
            "right": null,
            "top": null,
            "visibility": null,
            "width": null
          }
        },
        "5f55762117b44d9898e6b2c29f531e3a": {
          "model_module": "@jupyter-widgets/base",
          "model_name": "LayoutModel",
          "model_module_version": "1.2.0",
          "state": {
            "_model_module": "@jupyter-widgets/base",
            "_model_module_version": "1.2.0",
            "_model_name": "LayoutModel",
            "_view_count": null,
            "_view_module": "@jupyter-widgets/base",
            "_view_module_version": "1.2.0",
            "_view_name": "LayoutView",
            "align_content": null,
            "align_items": null,
            "align_self": null,
            "border": null,
            "bottom": null,
            "display": null,
            "flex": null,
            "flex_flow": null,
            "grid_area": null,
            "grid_auto_columns": null,
            "grid_auto_flow": null,
            "grid_auto_rows": null,
            "grid_column": null,
            "grid_gap": null,
            "grid_row": null,
            "grid_template_areas": null,
            "grid_template_columns": null,
            "grid_template_rows": null,
            "height": null,
            "justify_content": null,
            "justify_items": null,
            "left": null,
            "margin": null,
            "max_height": null,
            "max_width": null,
            "min_height": null,
            "min_width": null,
            "object_fit": null,
            "object_position": null,
            "order": null,
            "overflow": null,
            "overflow_x": null,
            "overflow_y": null,
            "padding": null,
            "right": null,
            "top": null,
            "visibility": null,
            "width": null
          }
        },
        "d62df057896441e98a063ac4d1f24c4d": {
          "model_module": "@jupyter-widgets/controls",
          "model_name": "DescriptionStyleModel",
          "model_module_version": "1.5.0",
          "state": {
            "_model_module": "@jupyter-widgets/controls",
            "_model_module_version": "1.5.0",
            "_model_name": "DescriptionStyleModel",
            "_view_count": null,
            "_view_module": "@jupyter-widgets/base",
            "_view_module_version": "1.2.0",
            "_view_name": "StyleView",
            "description_width": ""
          }
        },
        "974b181671ae44cbbe2a110fa5a936e2": {
          "model_module": "@jupyter-widgets/base",
          "model_name": "LayoutModel",
          "model_module_version": "1.2.0",
          "state": {
            "_model_module": "@jupyter-widgets/base",
            "_model_module_version": "1.2.0",
            "_model_name": "LayoutModel",
            "_view_count": null,
            "_view_module": "@jupyter-widgets/base",
            "_view_module_version": "1.2.0",
            "_view_name": "LayoutView",
            "align_content": null,
            "align_items": null,
            "align_self": null,
            "border": null,
            "bottom": null,
            "display": null,
            "flex": null,
            "flex_flow": null,
            "grid_area": null,
            "grid_auto_columns": null,
            "grid_auto_flow": null,
            "grid_auto_rows": null,
            "grid_column": null,
            "grid_gap": null,
            "grid_row": null,
            "grid_template_areas": null,
            "grid_template_columns": null,
            "grid_template_rows": null,
            "height": null,
            "justify_content": null,
            "justify_items": null,
            "left": null,
            "margin": null,
            "max_height": null,
            "max_width": null,
            "min_height": null,
            "min_width": null,
            "object_fit": null,
            "object_position": null,
            "order": null,
            "overflow": null,
            "overflow_x": null,
            "overflow_y": null,
            "padding": null,
            "right": null,
            "top": null,
            "visibility": null,
            "width": null
          }
        },
        "f23ef5ac1e204a2194afae1fe5d2a39d": {
          "model_module": "@jupyter-widgets/controls",
          "model_name": "ProgressStyleModel",
          "model_module_version": "1.5.0",
          "state": {
            "_model_module": "@jupyter-widgets/controls",
            "_model_module_version": "1.5.0",
            "_model_name": "ProgressStyleModel",
            "_view_count": null,
            "_view_module": "@jupyter-widgets/base",
            "_view_module_version": "1.2.0",
            "_view_name": "StyleView",
            "bar_color": null,
            "description_width": ""
          }
        },
        "f03b1c82b983450599dc3f4fcaf92dd3": {
          "model_module": "@jupyter-widgets/base",
          "model_name": "LayoutModel",
          "model_module_version": "1.2.0",
          "state": {
            "_model_module": "@jupyter-widgets/base",
            "_model_module_version": "1.2.0",
            "_model_name": "LayoutModel",
            "_view_count": null,
            "_view_module": "@jupyter-widgets/base",
            "_view_module_version": "1.2.0",
            "_view_name": "LayoutView",
            "align_content": null,
            "align_items": null,
            "align_self": null,
            "border": null,
            "bottom": null,
            "display": null,
            "flex": null,
            "flex_flow": null,
            "grid_area": null,
            "grid_auto_columns": null,
            "grid_auto_flow": null,
            "grid_auto_rows": null,
            "grid_column": null,
            "grid_gap": null,
            "grid_row": null,
            "grid_template_areas": null,
            "grid_template_columns": null,
            "grid_template_rows": null,
            "height": null,
            "justify_content": null,
            "justify_items": null,
            "left": null,
            "margin": null,
            "max_height": null,
            "max_width": null,
            "min_height": null,
            "min_width": null,
            "object_fit": null,
            "object_position": null,
            "order": null,
            "overflow": null,
            "overflow_x": null,
            "overflow_y": null,
            "padding": null,
            "right": null,
            "top": null,
            "visibility": null,
            "width": null
          }
        },
        "afb99c5e271a4738a2df526ce9b2cd3a": {
          "model_module": "@jupyter-widgets/controls",
          "model_name": "DescriptionStyleModel",
          "model_module_version": "1.5.0",
          "state": {
            "_model_module": "@jupyter-widgets/controls",
            "_model_module_version": "1.5.0",
            "_model_name": "DescriptionStyleModel",
            "_view_count": null,
            "_view_module": "@jupyter-widgets/base",
            "_view_module_version": "1.2.0",
            "_view_name": "StyleView",
            "description_width": ""
          }
        }
      }
    }
  },
  "cells": [
    {
      "cell_type": "markdown",
      "source": [
        "# dataset load 01"
      ],
      "metadata": {
        "id": "FX8wcDXjtTHI"
      }
    },
    {
      "cell_type": "code",
      "source": [
        "import tensorflow as tf\n",
        "import numpy as np\n",
        "\n",
        "train_x = np.arange(20).astype(np.float32).reshape(-1,1)\n",
        "train_y = 3*train_x + 1\n",
        "\n",
        "train_ds = tf.data.Dataset.from_tensor_slices((train_x, train_y))\n",
        "train_ds = train_ds.shuffle(100).batch(32)\n",
        "\n",
        "for x, y in train_ds:\n",
        "    print(x.shape)\n",
        "    print(y.shape, '\\n')"
      ],
      "metadata": {
        "colab": {
          "base_uri": "https://localhost:8080/"
        },
        "id": "C_PSG1yptTqW",
        "outputId": "4742d6b3-7875-48d4-d4b3-510b9ff0d9ae"
      },
      "execution_count": 4,
      "outputs": [
        {
          "output_type": "stream",
          "name": "stdout",
          "text": [
            "(20, 1)\n",
            "(20, 1) \n",
            "\n"
          ]
        }
      ]
    },
    {
      "cell_type": "code",
      "source": [
        "from tensorflow.keras.datasets import mnist\n",
        "from tensorflow.data import Dataset\n",
        "import matplotlib.pyplot as plt\n",
        "%matplotlib inline\n",
        "\n",
        "(train_images, train_labels), (test_images, test_labels) = mnist.load_data()\n",
        "# print(type(train_images))\n",
        "# print(train_images.shape)\n",
        "# print(train_labels.shape)\n",
        "# print(test_images.shape)\n",
        "# print(test_labels.shape)\n",
        "\n",
        "train_ds = Dataset.from_tensor_slices((train_images, train_labels))\n",
        "train_ds = train_ds.shuffle(60000).batch(9)\n",
        "\n",
        "test_ds = Dataset.from_tensor_slices((test_images, test_labels))\n",
        "test_ds = test_ds.batch(9)\n",
        "\n",
        "train_ds_iter = iter(train_ds)\n",
        "images, labels = next(train_ds_iter)\n",
        "\n",
        "fig, axes = plt.subplots(3,2, figsize=(10,10))\n",
        "\n",
        "# image 데이터를 가져옴. \n",
        "for ax_idx, ax in enumerate(axes.flat):\n",
        "    image = images[ax_idx, ...]\n",
        "    label = labels[ax_idx]\n",
        "\n",
        "    ax.imshow(image.numpy(), 'gray')\n",
        "    ax.set_title(label.numpy(), fontsize=20)\n",
        "\n",
        "    ax.get_xaxis().set_visible(False)\n",
        "    ax.get_yaxis().set_visible(False)\n"
      ],
      "metadata": {
        "colab": {
          "base_uri": "https://localhost:8080/",
          "height": 837
        },
        "id": "uIOlgIgDtTtK",
        "outputId": "0127c446-89f0-4799-8341-62b9f93ccce0"
      },
      "execution_count": 19,
      "outputs": [
        {
          "output_type": "display_data",
          "data": {
            "text/plain": [
              "<Figure size 1000x1000 with 6 Axes>"
            ],
            "image/png": "[encoded data removed]"
          },
          "metadata": {}
        }
      ]
    },
    {
      "cell_type": "code",
      "source": [],
      "metadata": {
        "id": "0qka-tZBtTv9"
      },
      "execution_count": null,
      "outputs": []
    },
    {
      "cell_type": "markdown",
      "source": [
        "# dataset load 02"
      ],
      "metadata": {
        "id": "iRVDPZ7MtTyT"
      }
    },
    {
      "cell_type": "code",
      "source": [
        "# 그 전엔 keras에서 가져옴\n",
        "# 이번에는 tensorflow에서 가져오기 "
      ],
      "metadata": {
        "id": "U6qvIY9ctT08"
      },
      "execution_count": null,
      "outputs": []
    },
    {
      "cell_type": "code",
      "source": [
        "import tensorflow_datasets as tfds\n",
        "\n",
        "dataset, ds_info = tfds.load(name='mnist',\n",
        "                             shuffle_files = True,\n",
        "                             with_info=True # info를 같이 출력해줌. \n",
        "                             )\n",
        "\n",
        "print(ds_info)\n",
        "print(ds_info.features)\n",
        "print(ds_info.splits)"
      ],
      "metadata": {
        "colab": {
          "base_uri": "https://localhost:8080/",
          "height": 694,
          "referenced_widgets": [
            "f758893458504c6aa01fd03e8e335a17",
            "dfaf05eb74564c01b0661efa1346e873",
            "10ce443331664088b4d7d04db71f6358",
            "f634a522088a414a983f271681f0bbf9",
            "bfbc68c5fb2c4d7686a4048b21f321d6",
            "5f55762117b44d9898e6b2c29f531e3a",
            "d62df057896441e98a063ac4d1f24c4d",
            "974b181671ae44cbbe2a110fa5a936e2",
            "f23ef5ac1e204a2194afae1fe5d2a39d",
            "f03b1c82b983450599dc3f4fcaf92dd3",
            "afb99c5e271a4738a2df526ce9b2cd3a"
          ]
        },
        "id": "dBDDr9UxtT3O",
        "outputId": "84ac1858-83c3-4329-fe1d-a8ab63b16f6e"
      },
      "execution_count": 21,
      "outputs": [
        {
          "output_type": "stream",
          "name": "stdout",
          "text": [
            "Downloading and preparing dataset Unknown size (download: Unknown size, generated: Unknown size, total: Unknown size) to /root/tensorflow_datasets/mnist/3.0.1...\n"
          ]
        },
        {
          "output_type": "display_data",
          "data": {
            "text/plain": [
              "Dl Completed...:   0%|          | 0/5 [00:00<?, ? file/s]"
            ],
            "application/vnd.jupyter.widget-view+json": {
              "version_major": 2,
              "version_minor": 0,
              "model_id": "f758893458504c6aa01fd03e8e335a17"
            }
          },
          "metadata": {}
        },
        {
          "output_type": "stream",
          "name": "stdout",
          "text": [
            "Dataset mnist downloaded and prepared to /root/tensorflow_datasets/mnist/3.0.1. Subsequent calls will reuse this data.\n",
            "tfds.core.DatasetInfo(\n",
            "    name='mnist',\n",
            "    full_name='mnist/3.0.1',\n",
            "    description=\"\"\"\n",
            "    The MNIST database of handwritten digits.\n",
            "    \"\"\",\n",
            "    homepage='http://yann.lecun.com/exdb/mnist/',\n",
            "    data_path='/root/tensorflow_datasets/mnist/3.0.1.incompleteJ1WEUD',\n",
            "    file_format=tfrecord,\n",
            "    download_size=11.06 MiB,\n",
            "    dataset_size=21.00 MiB,\n",
            "    features=FeaturesDict({\n",
            "        'image': Image(shape=(28, 28, 1), dtype=uint8),\n",
            "        'label': ClassLabel(shape=(), dtype=int64, num_classes=10),\n",
            "    }),\n",
            "    supervised_keys=('image', 'label'),\n",
            "    disable_shuffling=False,\n",
            "    splits={\n",
            "        'test': <SplitInfo num_examples=10000, num_shards=1>,\n",
            "        'train': <SplitInfo num_examples=60000, num_shards=1>,\n",
            "    },\n",
            "    citation=\"\"\"@article{lecun2010mnist,\n",
            "      title={MNIST handwritten digit database},\n",
            "      author={LeCun, Yann and Cortes, Corinna and Burges, CJ},\n",
            "      journal={ATT Labs [Online]. Available: http://yann.lecun.com/exdb/mnist},\n",
            "      volume={2},\n",
            "      year={2010}\n",
            "    }\"\"\",\n",
            ")\n",
            "FeaturesDict({\n",
            "    'image': Image(shape=(28, 28, 1), dtype=uint8),\n",
            "    'label': ClassLabel(shape=(), dtype=int64, num_classes=10),\n",
            "})\n",
            "{'test': <SplitInfo num_examples=10000, num_shards=1>, 'train': <SplitInfo num_examples=60000, num_shards=1>}\n"
          ]
        }
      ]
    },
    {
      "cell_type": "code",
      "source": [
        "dataset= tfds.load(name='mnist',\n",
        "                             shuffle_files = True,\n",
        "                             )\n",
        "# print(type(dataset))\n",
        "# print(dataset.keys())\n",
        "\n",
        "train_ds = dataset['train'].batch(32)\n",
        "test_ds = dataset['test']\n",
        "\n",
        "# print(type(train_ds))\n",
        "# print(type(test_ds))\n",
        "\n",
        "# 원래 하던 방식. \n",
        "for epoch in range(epochs):\n",
        "    for data in train_ds:\n",
        "        images = data['image']\n",
        "        labels = data['label']\n",
        "\n",
        "\n",
        "for tmp in train_ds:\n",
        "    # print(type(tmp))\n",
        "\n",
        "    # print(tmp.keys())\n",
        "    images = tmp['image']\n",
        "    labels = tmp['label']\n",
        "\n",
        "    print(images.shape)\n",
        "    print(labels.shape)\n",
        "    break"
      ],
      "metadata": {
        "colab": {
          "base_uri": "https://localhost:8080/"
        },
        "id": "ml1UREq6tT5z",
        "outputId": "cbdda0e4-8f60-44ac-c725-96627c176b9a"
      },
      "execution_count": 28,
      "outputs": [
        {
          "output_type": "stream",
          "name": "stdout",
          "text": [
            "(32, 28, 28, 1)\n",
            "(32,)\n"
          ]
        }
      ]
    },
    {
      "cell_type": "code",
      "source": [
        "dataset = tfds.load(name='mnist',\n",
        "                    shuffle_files=True,\n",
        "                    as_supervised=True)\n",
        "\n",
        "train_ds = dataset['train'].batch(32)\n",
        "test_ds = dataset['test']\n",
        "\n",
        "\n",
        "for images, labels in train_ds:\n",
        "    # tuple로 가져올 수 있음. \n",
        "    print(images.shape)\n",
        "    print(labels.shape)\n",
        "    break"
      ],
      "metadata": {
        "colab": {
          "base_uri": "https://localhost:8080/"
        },
        "id": "J0MBzQuXtT8n",
        "outputId": "5ab6fa52-6fb3-46ba-b693-348026849768"
      },
      "execution_count": 30,
      "outputs": [
        {
          "output_type": "stream",
          "name": "stdout",
          "text": [
            "(32, 28, 28, 1)\n",
            "(32,)\n"
          ]
        }
      ]
    },
    {
      "cell_type": "code",
      "source": [
        "# 한번에 나누는 방법\n",
        "(train_ds, test_ds), ds_info = tfds.load(name='mnist',\n",
        "                                        shuffle_files=True,\n",
        "                                        as_supervised=True\n",
        "                                        split=['train', 'test'],\n",
        "                                        with_info=True)\n",
        "\n",
        "train_ds = train_ds.batch(32)\n",
        "\n",
        "for images, labels in train_ds:\n",
        "    print(images.shape)\n",
        "    print(labels.shape)\n",
        "    break\n",
        "\n"
      ],
      "metadata": {
        "id": "cC4MHOWjtT_c"
      },
      "execution_count": null,
      "outputs": []
    },
    {
      "cell_type": "code",
      "source": [
        "dataset, ds_info = tfds.load(name='patch_camelyon',\n",
        "                            shuffle_files=True,\n",
        "                            as_supervised=True,\n",
        "                            with_info=True)\n",
        "print(ds_info.featuers, '\\n')\n",
        "print(ds_info.splits)"
      ],
      "metadata": {
        "id": "MCBKDtG0tUCB"
      },
      "execution_count": 33,
      "outputs": []
    },
    {
      "cell_type": "code",
      "source": [
        "dataset, ds_info = tfds.load(name='patch_camelyon',\n",
        "                            shuffle_files=True,\n",
        "                            as_supervised=True,\n",
        "                            spilt = ['train', 'validation']\n",
        "                            with_info=True,\n",
        "                            batch_size=9)\n",
        "\n",
        "train_ds_iter = iter(train_ds)\n",
        "images, labels = next(train_ds_iter)\n",
        "images = images.numpy()\n",
        "labels = labels.numpy()\n",
        "\n",
        "import matplotlib.pyplot as plt\n",
        "fig,axes = plt.subplots(3,3,figsize=(15,15))\n",
        "\n",
        "for ax_idx, ax in enumerate(axes.flat):\n",
        "    ax.imshow(images[ax_idx, ...])\n",
        "    ax.set_title(labels[ax_idx], fontsize=30)\n",
        "\n",
        "    ax.set_xaxis().set_visible(False)\n",
        "    ax.set_yaxis().set_visible(False)\n",
        "\n"
      ],
      "metadata": {
        "id": "1PTAWbHZtUE1"
      },
      "execution_count": null,
      "outputs": []
    },
    {
      "cell_type": "code",
      "source": [],
      "metadata": {
        "id": "XA0WK2U7tUHp"
      },
      "execution_count": null,
      "outputs": []
    },
    {
      "cell_type": "markdown",
      "source": [
        "# data split"
      ],
      "metadata": {
        "id": "RFu9TcmatUKd"
      }
    },
    {
      "cell_type": "code",
      "source": [
        "# 데이터 셋 쪼개기"
      ],
      "metadata": {
        "id": "VaG-ItomtUNE"
      },
      "execution_count": null,
      "outputs": []
    },
    {
      "cell_type": "code",
      "source": [
        "import tensorflow as tf\n",
        "import tensorflow_datasets as tfds\n",
        "\n",
        "train_x = np.arange(100).reshape(-1,1)\n",
        "train_y = 3*train_x + 1\n",
        "\n",
        "train_validation_ds = tf.data.Dataset.from_tensor_slices((train_x, train_y))\n",
        "\n",
        "# tmp_ds = train_ds.take(10) # take API를 사용하여 데이터 셋 가져오기 \n",
        "#                            # 10개를 뽑아서 넣는다 \n",
        "\n",
        "# for x, y in tmp_ds:\n",
        "#     print(x)\n",
        "#     print(y, '\\n')\n",
        "\n",
        "n_train_validation = 100\n",
        "train_ratio = 0.8\n",
        "n_train = int(n_train_validation * train_ratio)\n",
        "\n",
        "print(n_train_validation)\n",
        "print(n_train)\n",
        "\n",
        "train_ds = train_validation_ds.take(n_train) # 첫번째 80개만 가져오기. \n"
      ],
      "metadata": {
        "colab": {
          "base_uri": "https://localhost:8080/"
        },
        "id": "2DdGxNIjCDdM",
        "outputId": "8b28b9cd-ca37-4482-bf71-628df5672f66"
      },
      "execution_count": 38,
      "outputs": [
        {
          "output_type": "stream",
          "name": "stdout",
          "text": [
            "100\n",
            "80\n"
          ]
        }
      ]
    },
    {
      "cell_type": "code",
      "source": [
        "n_train_validation = 100\n",
        "train_ratio = 0.8\n",
        "n_train = int(n_train_validation * train_ratio)\n",
        "n_validation = n_train_validation - n_train\n",
        "\n",
        "train_x = np.arange(100).reshape(-1,1)\n",
        "train_y = 3*train_x + 1\n",
        "\n",
        "train_validation_ds = tf.data.Dataset.from_tensor_slices((train_x, train_y))\n",
        "\n",
        "remaining_ds = train_validation_ds.skip(10) # 10개를 건너뛰고 (생략하고) 출력. \n",
        "validation_ds = remaining_ds.take(n_validation)\n",
        "\n",
        "\n",
        "for x,y in remaining_ds:\n",
        "    print(x)\n",
        "    print(y, '\\n')\n",
        "    "
      ],
      "metadata": {
        "id": "JqMyp1EiCDf9"
      },
      "execution_count": null,
      "outputs": []
    },
    {
      "cell_type": "code",
      "source": [
        "(train_validation_ds, test_ds), ds_info = tfds.load(name='mnist',\n",
        "                                                    shuffle_files=True,\n",
        "                                                    as_supervised=True,\n",
        "                                                    split=['train', 'test'],\n",
        "                                                    with_info=True)\n",
        "print(ds_info.splits['train'].num_examples)\n",
        "train_ratio=.8\n",
        "n_train = int(n_train_validation * train_ratio)\n",
        "n_validation = n_train_validation - n_train\n",
        "\n",
        "train_ds = train_validation_ds.take(n_train)\n",
        "remaining_ds = train_validation_ds.skip(n_train)\n",
        "validation_ds = remaining_ds.take(n_validation)\n",
        "\n",
        "train_ds = train_ds.shuffle(100).batch(32)\n",
        "validation_ds = validation_ds.batch(32)\n",
        "test_ds = test_ds.batch(32)"
      ],
      "metadata": {
        "colab": {
          "base_uri": "https://localhost:8080/"
        },
        "id": "sec9ITP-CDjC",
        "outputId": "a8777dc6-8dda-402d-ded6-38153f65bce2"
      },
      "execution_count": 47,
      "outputs": [
        {
          "output_type": "stream",
          "name": "stdout",
          "text": [
            "60000\n"
          ]
        }
      ]
    },
    {
      "cell_type": "code",
      "source": [],
      "metadata": {
        "id": "GqQEL6nsCDlk"
      },
      "execution_count": null,
      "outputs": []
    },
    {
      "cell_type": "markdown",
      "source": [
        "# Dataset proprocessing"
      ],
      "metadata": {
        "id": "hNciyrFoCDoY"
      }
    },
    {
      "cell_type": "code",
      "source": [
        "import tensorflow as tf\n",
        "import tensorflow_datasets as tfds\n",
        "\n",
        "train_ds = tfds.load(name='mnist',\n",
        "                     shuffle_files=True,\n",
        "                     as_supervised=True,\n",
        "                     split='train',\n",
        "                     batch_size=4)\n",
        "for images, labels in train_ds:\n",
        "    # print(images.shape)\n",
        "    # print(images.dtype)\n",
        "\n",
        "    # print(tf.reduce_max(images))\n",
        "    # print(labels.shape)\n",
        "    # print(labels.dtype)\n",
        "    break\n",
        "\n",
        "# standarization 함수 만들기\n",
        "def standardization(images, labels):\n",
        "    images = tf.cast(images, tf.float32) / 255\n",
        "    return [images, labels]\n",
        "\n",
        "\n",
        "# standardization 적용 전\n",
        "train_ds_iter = iter(train_ds)\n",
        "images, labels = next(train_ds_iter)\n",
        "print(images.dtype, tf.reduce_max(images))\n",
        "\n",
        "# standardization 적용 후\n",
        "train_ds = train_ds.map(standardization)\n",
        "train_ds_iter = iter(train_ds)\n",
        "images, labels = next(train_ds_iter)\n",
        "print(images.dtype, tf.reduce_max(images))\n",
        "\n",
        "\n"
      ],
      "metadata": {
        "colab": {
          "base_uri": "https://localhost:8080/"
        },
        "id": "s3mLi7xyCDrM",
        "outputId": "238302d3-9abe-45c5-bc14-13569f69e830"
      },
      "execution_count": 58,
      "outputs": [
        {
          "output_type": "stream",
          "name": "stdout",
          "text": [
            "<dtype: 'uint8'> tf.Tensor(255, shape=(), dtype=uint8)\n",
            "<dtype: 'float32'> tf.Tensor(1.0, shape=(), dtype=float32)\n"
          ]
        }
      ]
    },
    {
      "cell_type": "markdown",
      "source": [],
      "metadata": {
        "id": "PqICFPjhLJQ3"
      }
    },
    {
      "cell_type": "code",
      "source": [
        "# map 활용\n",
        "a = [1,2,3,4,5]\n",
        "def double(in_val):\n",
        "    return 2*in_val\n",
        "\n",
        "doubled = list(map(double, a))\n",
        "print(doubled)\n",
        "\n",
        "# lambda 활용\n",
        "doubled_2 = list(map(lambda x : 2*x, a))\n",
        "print(doubled_2)\n",
        "\n",
        "# tf.cast\n",
        "t1 = tf.constant([1,2,3,4,5])\n",
        "print(t1.dtype)\n",
        "t2 = tf.cast(t1, tf.float32)\n",
        "print(t2.dtype)"
      ],
      "metadata": {
        "colab": {
          "base_uri": "https://localhost:8080/"
        },
        "id": "UyV_mGYZCDuA",
        "outputId": "3451a2d1-b89e-44bb-8f54-e1050e4f93d9"
      },
      "execution_count": 54,
      "outputs": [
        {
          "output_type": "stream",
          "name": "stdout",
          "text": [
            "[2, 4, 6, 8, 10]\n",
            "[2, 4, 6, 8, 10]\n",
            "<dtype: 'int32'>\n",
            "<dtype: 'float32'>\n"
          ]
        }
      ]
    },
    {
      "cell_type": "code",
      "source": [
        "import tensorflow as tf\n",
        "import tensorflow_datasets as tfds\n",
        "\n",
        "def minst_data_loader():\n",
        "\n",
        "    def standardization(images, labels):\n",
        "        images = tf.cast(images, tf.float32) / 255\n",
        "        return [images, labels]\n",
        "\n",
        "\n",
        "    train_ds, test_ds = tfds.load(name='mnist',\n",
        "                        shuffle_files=True,\n",
        "                        as_supervised=True,\n",
        "                        split=['train', 'test'],\n",
        "                        batch_size=4)\n",
        "\n",
        "    train_ds = train_ds.map(standardization)\n",
        "    test_ds = test_ds.map(standardization)\n",
        "    return train_ds, test_ds\n"
      ],
      "metadata": {
        "id": "1Ue-orcyCDxE"
      },
      "execution_count": null,
      "outputs": []
    },
    {
      "cell_type": "code",
      "source": [],
      "metadata": {
        "id": "c63L4UrrCDzo"
      },
      "execution_count": null,
      "outputs": []
    },
    {
      "cell_type": "markdown",
      "source": [
        "## Losses and Metrics"
      ],
      "metadata": {
        "id": "F2-ChpV4CD2d"
      }
    },
    {
      "cell_type": "code",
      "source": [
        "import tensorflow as tf\n",
        "import numpy as np\n",
        "\n",
        "from tensorflow.keras.losses import BinaryCrossentropy\n",
        "from tensorflow.keras.losses import CategoricalCrossentropy\n",
        "from tensorflow.keras.losses import SparseCategoricalCrossentropy\n",
        "\n",
        "from tensorflow.keras.metrics import CategoricalAccuracy\n",
        "from tensorflow.keras.metrics import SparseCategoricalAccuracy\n",
        "\n",
        "# binary cross entropy\n",
        "\n",
        "loss_object = BinaryCrossentropy()\n",
        "\n",
        "predictions = np.array([0.3]).reshape(-1,1)\n",
        "labels = np.array([1])\n",
        "\n",
        "loss = loss_object(labels, predictions)\n",
        "loss_manual = -1*(labels*np.log(predictions) + (1-labels)*np.log(1-predictions))\n",
        "\n",
        "# print(loss.numpy())\n",
        "# print(loss_manual)\n",
        "\n",
        "# 2개의 샘플\n",
        "predictions = np.array([0.3, 0.6]).reshape(-1,1)  # 마지막은 컬럼 벡터\n",
        "labels = np.array([1,0]).reshape(-1,1)\n",
        "\n",
        "loss = loss_object(labels, predictions)\n",
        "loss_manual = -1*(labels*np.log(predictions) + (1-labels)*np.log(1-predictions))  # row wise로 계산이 됨\n",
        "loss_manual = np.mean(loss_manual) # 마지막으로 평균을 구해야 됨\n",
        "\n",
        "print(loss.numpy())\n",
        "print(loss_manual)\n",
        "\n"
      ],
      "metadata": {
        "colab": {
          "base_uri": "https://localhost:8080/"
        },
        "id": "jPBQNSymCD5R",
        "outputId": "13130a73-e059-4355-d5bc-b0ea99600192"
      },
      "execution_count": 62,
      "outputs": [
        {
          "output_type": "stream",
          "name": "stdout",
          "text": [
            "1.0601314764334222\n",
            "1.0601317681000455\n"
          ]
        }
      ]
    },
    {
      "cell_type": "code",
      "source": [
        "predictions = np.array([[0.3, 0.7],\n",
        "                        [0.4, 0.6],\n",
        "                        [0.1, 0.9]])\n",
        "labels = np.array([[0,1],\n",
        "                   [1,0],\n",
        "                   [1,0]])\n",
        "loss = loss_object(labels, predictions)\n",
        "\n",
        "loss_manual = -1*labels*np.log(predictions)\n",
        "loss_manual = np.sum(loss_manual, axis=-1)\n",
        "loss_manual = np.mean(loss_manual)\n",
        "print(loss_manual)\n",
        "print(loss.numpy())"
      ],
      "metadata": {
        "colab": {
          "base_uri": "https://localhost:8080/"
        },
        "id": "5vnd9RR2CD8F",
        "outputId": "dac812a0-3cac-497b-8c7b-22246653071a"
      },
      "execution_count": 71,
      "outputs": [
        {
          "output_type": "stream",
          "name": "stdout",
          "text": [
            "1.1918502562689777\n",
            "1.1918497919834439\n"
          ]
        }
      ]
    },
    {
      "cell_type": "code",
      "source": [
        "# categorical cross entropy\n",
        "\n",
        "loss_object = CategoricalCrossentropy()\n",
        "\n",
        "predictions = np.array([[0.2, 0.1, 0.7],\n",
        "                        [0.4, 0.3, 0.3],\n",
        "                        [0.1, 0.8, 0.1]])\n",
        "labels = np.array([[0,0,1],\n",
        "                   [0,1,0],\n",
        "                   [1,0,0]])\n",
        "loss = loss_object(labels, predictions)\n",
        "\n",
        "loss_manual = -1*labels*np.log(predictions)\n",
        "loss_manual = np.sum(loss_manual, axis=1) \n",
        "loss_manual = np.mean(loss_manual)\n",
        "print(loss_manual)\n"
      ],
      "metadata": {
        "colab": {
          "base_uri": "https://localhost:8080/"
        },
        "id": "CvKB9y5DCD-5",
        "outputId": "51c64974-70d9-4be8-9471-524782c07b90"
      },
      "execution_count": 75,
      "outputs": [
        {
          "output_type": "stream",
          "name": "stdout",
          "text": [
            "1.2877442804195713\n"
          ]
        }
      ]
    },
    {
      "cell_type": "code",
      "source": [
        "import tensorflow as tf\n",
        "import numpy as np\n",
        "\n",
        "from tensorflow.keras.losses import BinaryCrossentropy\n",
        "from tensorflow.keras.losses import CategoricalCrossentropy\n",
        "from tensorflow.keras.losses import SparseCategoricalCrossentropy\n",
        "\n",
        "from tensorflow.keras.metrics import CategoricalAccuracy\n",
        "from tensorflow.keras.metrics import SparseCategoricalAccuracy\n",
        "\n",
        "# SparseCategoricalCrossentropy\n",
        "\n",
        "loss_object = SparseCategoricalCrossentropy()\n",
        "\n",
        "predictions = np.array([[0.2, 0.1, 0.7],\n",
        "                        [0.4, 0.3, 0.3],\n",
        "                        [0.1, 0.8, 0.1]])\n",
        "labels = np.array([2,1,0])\n",
        "\n",
        "loss = loss_object(tf.constant(labels), tf.constant(predictions))\n",
        "\n",
        "ce_loss = 0\n",
        "for data_idx in range(len(labels)):\n",
        "    prediction = predictions[data_idx]\n",
        "    label = labels[data_idx]\n",
        "\n",
        "    t_prediction = prediction[label]\n",
        "    ce_loss += -1*np.log(t_prediction)\n",
        "ce_loss = ce_loss / len(labels)\n",
        "\n",
        "print(loss.numpy())\n",
        "print(ce_loss)"
      ],
      "metadata": {
        "colab": {
          "base_uri": "https://localhost:8080/"
        },
        "id": "_4ipNiCaCEBs",
        "outputId": "4179b28b-91ea-4902-ef41-e64d20a4cc96"
      },
      "execution_count": 8,
      "outputs": [
        {
          "output_type": "stream",
          "name": "stdout",
          "text": [
            "1.2877442804195713\n",
            "1.2877442804195713\n"
          ]
        }
      ]
    },
    {
      "cell_type": "code",
      "source": [
        "import tensorflow_datasets as tfds\n",
        "\n",
        "train_ds = tfds.load(name='mnist',\n",
        "                     shuffle_files=True,\n",
        "                     as_supervised=True,\n",
        "                     split='train')\n",
        "train_ds = trainds.batch(8)\n",
        "\n",
        "train_ds_iter = iter(train_ds)\n",
        "images, labels = next(train_ds_iter) # sparse 모양으로 나오면 sparse categorical로 이용하기 "
      ],
      "metadata": {
        "id": "Dd7ZMaVGCEE0"
      },
      "execution_count": null,
      "outputs": []
    },
    {
      "cell_type": "code",
      "source": [
        "from tensorflow.keras.metrics import CategoricalAccuracy\n",
        "from tensorflow.keras.metrics import SparseCategoricalAccuracy\n",
        "\n",
        "# categorical accuracy \n",
        "metric = CategoricalAccuracy()\n",
        "\n",
        "predictions = np.array([[0.2, 0.2, 0.6], [0.1, 0.8, 0.1]])\n",
        "labels = np.array([[0,0,1], [0,0,1]]) # one hot vector\n",
        "\n",
        "acc = metric(labels, predictions)\n",
        "print(acc*100)\n",
        "\n",
        "# spare categorical accuracy \n",
        "metric = SparseCategoricalAccuracy()\n",
        "predictions = np.array([[0.2, 0.2, 0.6], [0.1, 0.8, 0.1]])\n",
        "labels = np.array([2,0]) # sparse vector \n",
        "\n",
        "acc = metric(labels, predictions)\n",
        "print(acc*100)"
      ],
      "metadata": {
        "colab": {
          "base_uri": "https://localhost:8080/"
        },
        "id": "E2-uYAlZCEHG",
        "outputId": "0b644457-de13-4f76-dcff-f59abe36d2f8"
      },
      "execution_count": 14,
      "outputs": [
        {
          "output_type": "stream",
          "name": "stdout",
          "text": [
            "tf.Tensor(50.0, shape=(), dtype=float32)\n",
            "tf.Tensor(50.0, shape=(), dtype=float32)\n"
          ]
        }
      ]
    },
    {
      "cell_type": "code",
      "source": [],
      "metadata": {
        "id": "77PVM1sqCEKJ"
      },
      "execution_count": null,
      "outputs": []
    },
    {
      "cell_type": "code",
      "source": [
        " "
      ],
      "metadata": {
        "id": "P5G5bqpKtUQF"
      },
      "execution_count": null,
      "outputs": []
    },
    {
      "cell_type": "code",
      "source": [],
      "metadata": {
        "id": "drirqUmCTjiy"
      },
      "execution_count": null,
      "outputs": []
    },
    {
      "cell_type": "code",
      "source": [],
      "metadata": {
        "id": "yvgzP5CDTjlm"
      },
      "execution_count": null,
      "outputs": []
    },
    {
      "cell_type": "code",
      "source": [],
      "metadata": {
        "id": "quGdNQAzTjoX"
      },
      "execution_count": null,
      "outputs": []
    },
    {
      "cell_type": "code",
      "source": [],
      "metadata": {
        "id": "_tO_L_CnTjrb"
      },
      "execution_count": null,
      "outputs": []
    },
    {
      "cell_type": "code",
      "source": [],
      "metadata": {
        "id": "o6XOL3FRTjuO"
      },
      "execution_count": null,
      "outputs": []
    },
    {
      "cell_type": "code",
      "source": [],
      "metadata": {
        "id": "94MoYv0gTjxE"
      },
      "execution_count": null,
      "outputs": []
    },
    {
      "cell_type": "code",
      "source": [],
      "metadata": {
        "id": "mHvelh54Tj0F"
      },
      "execution_count": null,
      "outputs": []
    },
    {
      "cell_type": "code",
      "source": [],
      "metadata": {
        "id": "BitrqV0RTj3m"
      },
      "execution_count": null,
      "outputs": []
    },
    {
      "cell_type": "code",
      "source": [],
      "metadata": {
        "id": "ULVTWgiztUSt"
      },
      "execution_count": null,
      "outputs": []
    },
    {
      "cell_type": "code",
      "source": [],
      "metadata": {
        "id": "HYfxd_aYtUVO"
      },
      "execution_count": null,
      "outputs": []
    }
  ]
}