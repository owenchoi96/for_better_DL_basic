{
  "nbformat": 4,
  "nbformat_minor": 0,
  "metadata": {
    "colab": {
      "provenance": []
    },
    "kernelspec": {
      "name": "python3",
      "display_name": "Python 3"
    },
    "language_info": {
      "name": "python"
    }
  },
  "cells": [
    {
      "cell_type": "markdown",
      "source": [
        "# Max/Avg Pooling"
      ],
      "metadata": {
        "id": "e15bOwA_fhnj"
      }
    },
    {
      "cell_type": "markdown",
      "source": [
        "## Max Pooling"
      ],
      "metadata": {
        "id": "-4tWblFOr_vM"
      }
    },
    {
      "cell_type": "code",
      "source": [
        "import numpy as np\n",
        "import tensorflow as tf\n",
        "\n",
        "from tensorflow.keras.layers import MaxPooling1D\n",
        "\n",
        "L, f, s = 10, 2, 1\n",
        "\n",
        "x = tf.random.normal(shape=(1, L, 1)) # 3차원일 때 계산 가능. \n",
        "pool_max = MaxPooling1D(pool_size=f, strides=s)\n",
        "pooled_max = pool_max(x)\n",
        "\n",
        "print(\"x: {}\\n{}\".format(x.shape, x.numpy().flatten()))\n",
        "print(\"pooled_max(Tensorflow) : {}\\n{}\".format(pooled_max.shape, pooled_max.numpy().flatten()))\n",
        "\n",
        "x = x.numpy().flatten()\n",
        "pooled_max_man = np.zeros((L-f+1,)) \n",
        "for i in range(L-f+1):\n",
        "  window = x[i:i+f]\n",
        "  pooled_max_man[i] = np.max(window)\n",
        "  # print(pooled_max_man)\n",
        "\n",
        "print(\"pooled_max(Manual) : {}\\n\".format(pooled_max_man))\n"
      ],
      "metadata": {
        "colab": {
          "base_uri": "https://localhost:8080/"
        },
        "id": "di4mfV01r_xd",
        "outputId": "27731561-15eb-4caf-f753-b18eb8999ca6"
      },
      "execution_count": 13,
      "outputs": [
        {
          "output_type": "stream",
          "name": "stdout",
          "text": [
            "pooled_max(Manual) : [ 0.43230307  0.43230307  0.02597376 -0.14710608 -1.00229859 -0.11765051\n",
            "  1.00736463  1.00736463 -0.03045913]\n",
            "\n"
          ]
        }
      ]
    },
    {
      "cell_type": "code",
      "source": [],
      "metadata": {
        "id": "d4_4tYf8r_zy"
      },
      "execution_count": null,
      "outputs": []
    },
    {
      "cell_type": "code",
      "source": [],
      "metadata": {
        "id": "1dZdzZuYr_2J"
      },
      "execution_count": null,
      "outputs": []
    },
    {
      "cell_type": "markdown",
      "source": [
        "## Average Pooling"
      ],
      "metadata": {
        "id": "DyuM-CVkr_4z"
      }
    },
    {
      "cell_type": "code",
      "source": [
        "import numpy as np\n",
        "import tensorflow as tf\n",
        "\n",
        "from tensorflow.keras.layers import AveragePooling1D\n",
        "\n",
        "L, f, s = 10, 2, 1\n",
        "\n",
        "x = tf.random.normal(shape=(1, L, 1)) # 3차원일 때 계산 가능. \n",
        "pool_avg = AveragePooling1D(pool_size=f, strides=s)\n",
        "pooled_avg = pool_avg(x)\n",
        "\n",
        "\n",
        "print(\"x: {}\\n{}\".format(x.shape, x.numpy().flatten()))\n",
        "print(\"pooled_avg(Tensorflow) : {}\\n{}\".format(pooled_avg.shape, pooled_avg.numpy().flatten()))\n",
        "\n",
        "x = x.numpy().flatten()\n",
        "pooled_avg_man = np.zeros((L-f+1,)) \n",
        "for i in range(L-f+1):\n",
        "  window = x[i:i+f]\n",
        "  pooled_avg_man[i] = np.mean(window)\n",
        "  # print(pooled_max_man)\n",
        "\n",
        "print(\"pooled_avg(Manual) :\\n{}\".format(pooled_avg_man))\n",
        "\n",
        "\n"
      ],
      "metadata": {
        "colab": {
          "base_uri": "https://localhost:8080/"
        },
        "id": "hdwfvKXhr_7h",
        "outputId": "29562567-8be1-4514-ebaf-c3ccd8204f38"
      },
      "execution_count": 15,
      "outputs": [
        {
          "output_type": "stream",
          "name": "stdout",
          "text": [
            "x: (1, 10, 1)\n",
            "[ 0.5806279  -0.11873829  1.6386622   0.580814    1.782138   -0.87815917\n",
            "  0.34080777 -0.4899891  -0.47728065 -0.46357438]\n",
            "pooled_avg(Tensorflow) : (1, 9, 1)\n",
            "[ 0.23094481  0.75996196  1.1097381   1.181476    0.4519894  -0.26867568\n",
            " -0.07459067 -0.4836349  -0.4704275 ]\n",
            "pooled_avg(Manual) :\n",
            "[ 0.23094481  0.75996196  1.10973811  1.181476    0.45198941 -0.26867568\n",
            " -0.07459067 -0.48363489 -0.47042751]\n"
          ]
        }
      ]
    },
    {
      "cell_type": "code",
      "source": [],
      "metadata": {
        "id": "mwM9jopHr_-G"
      },
      "execution_count": null,
      "outputs": []
    },
    {
      "cell_type": "markdown",
      "source": [
        "# Max/Avg Pooling"
      ],
      "metadata": {
        "id": "eG5mXfuPsAAu"
      }
    },
    {
      "cell_type": "markdown",
      "source": [
        "## 2D Max Pooling"
      ],
      "metadata": {
        "id": "us9JxAFxsADB"
      }
    },
    {
      "cell_type": "code",
      "source": [
        "import numpy as np\n",
        "import tensorflow as tf\n",
        "\n",
        "from tensorflow.keras.layers import MaxPooling2D\n",
        "\n",
        "N, n_H, n_W, n_C = 1, 5, 5, 1\n",
        "f, s = 2, 1\n",
        "\n",
        "x = tf.random.normal(shape=(N, n_H, n_W, n_C))\n",
        "pool_max = MaxPooling2D(pool_size=f, strides=s)\n",
        "pooled_max = pool_max(x)\n",
        "\n",
        "print(\"x: {}\\n{}\".format(x.shape, x.numpy().squeeze()))\n",
        "print(\"pooled_max(Tensorflow) : {}\\n{}\".format(pooled_max.shape, pooled_max.numpy().squeeze()))\n",
        "\n",
        "x = x.numpy().squeeze()\n",
        "pooled_max_man = np.zeros(shape=(n_H - f + 1, n_W - f + 1))\n",
        "for i in range(n_H -f + 1):\n",
        "  for j in range(n_W -f + 1):\n",
        "    window = x[i:i+f, j:j+f]\n",
        "    pooled_max_man[i, j] = np.max(window)\n",
        "\n",
        "print(\"pooled_max(Manual) : {}\\n{}\".format(pooled_max_man.shape, pooled_max_man))  "
      ],
      "metadata": {
        "colab": {
          "base_uri": "https://localhost:8080/"
        },
        "id": "CkVOkVmIsAFl",
        "outputId": "267499c3-13c7-4667-b9f4-2b3a510a161f"
      },
      "execution_count": 19,
      "outputs": [
        {
          "output_type": "stream",
          "name": "stdout",
          "text": [
            "x: (1, 5, 5, 1)\n",
            "[[-0.11996275  0.18582931  0.44811437 -2.3166907   0.10782502]\n",
            " [ 1.7188647   0.50383055 -0.24422099 -0.5284736  -0.71517366]\n",
            " [-0.20210882 -0.8496307  -0.43785483  1.835503   -0.72683686]\n",
            " [ 0.33328086  0.24795516  1.2561157   0.15867923  2.0626938 ]\n",
            " [ 2.6990075  -1.0460392  -1.1551968  -0.47410753  1.9190351 ]]\n",
            "pooled_max(Tensorflow) : (1, 4, 4, 1)\n",
            "[[1.7188647  0.50383055 0.44811437 0.10782502]\n",
            " [1.7188647  0.50383055 1.835503   1.835503  ]\n",
            " [0.33328086 1.2561157  1.835503   2.0626938 ]\n",
            " [2.6990075  1.2561157  1.2561157  2.0626938 ]]\n",
            "pooled_max(Manual) : (4, 4)\n",
            "[[1.71886468 0.50383055 0.44811437 0.10782502]\n",
            " [1.71886468 0.50383055 1.83550298 1.83550298]\n",
            " [0.33328086 1.25611567 1.83550298 2.06269383]\n",
            " [2.69900751 1.25611567 1.25611567 2.06269383]]\n"
          ]
        }
      ]
    },
    {
      "cell_type": "code",
      "source": [],
      "metadata": {
        "id": "uL2wKgzKsAIN"
      },
      "execution_count": null,
      "outputs": []
    },
    {
      "cell_type": "markdown",
      "source": [
        "## 2D Average Pooling"
      ],
      "metadata": {
        "id": "ZymaT8BmsALA"
      }
    },
    {
      "cell_type": "code",
      "source": [
        "import numpy as np\n",
        "import tensorflow as tf\n",
        "\n",
        "from tensorflow.keras.layers import AveragePooling2D\n",
        "\n",
        "N, n_H, n_W, n_C = 1, 5, 5, 1\n",
        "f, s = 2, 1\n",
        "\n",
        "x = tf.random.normal(shape=(N, n_H, n_W, n_C))\n",
        "pool_avg = AveragePooling2D(pool_size=f, strides=s)\n",
        "pooled_avg = pool_avg(x)\n",
        "\n",
        "print(\"x: {}\\n{}\".format(x.shape, x.numpy().squeeze()))\n",
        "print(\"pooled_avg(Tensorflow) : {}\\n{}\".format(pooled_avg.shape, pooled_avg.numpy().squeeze()))\n",
        "\n",
        "x = x.numpy().squeeze()\n",
        "pooled_avg_man = np.zeros(shape=(n_H - f + 1, n_W - f + 1))\n",
        "for i in range(n_H -f + 1):\n",
        "  for j in range(n_W -f + 1):\n",
        "    window = x[i:i+f, j:j+f]\n",
        "    pooled_avg_man[i, j] = np.mean(window)\n",
        "\n",
        "print(\"pooled_avg(Manual) : {}\\n{}\".format(pooled_avg_man.shape, pooled_avg_man))  "
      ],
      "metadata": {
        "colab": {
          "base_uri": "https://localhost:8080/"
        },
        "id": "RbdOQPSzsANk",
        "outputId": "903c96ad-d6a7-4690-c93d-d233c7d0c31f"
      },
      "execution_count": 21,
      "outputs": [
        {
          "output_type": "stream",
          "name": "stdout",
          "text": [
            "x: (1, 5, 5, 1)\n",
            "[[ 1.2556248  -0.7113386  -0.6657185  -0.1771483   0.64586395]\n",
            " [-0.6604482   1.5283269   0.3955521   1.0075039   2.0399806 ]\n",
            " [-0.23434629 -0.95503914 -0.57146376 -0.19074748 -0.82568806]\n",
            " [ 0.07381323  0.32564598 -0.83676416 -0.72356427 -0.23446925]\n",
            " [-0.6864427  -0.72069263 -0.27341676  0.05199142  1.3934609 ]]\n",
            "pooled_avg(Tensorflow) : (1, 4, 4, 1)\n",
            "[[ 0.35304123  0.13670547  0.1400473   0.87905   ]\n",
            " [-0.08037668  0.099344    0.16021116  0.5077622 ]\n",
            " [-0.19748156 -0.50940526 -0.58063495 -0.49361727]\n",
            " [-0.25191903 -0.3763069  -0.44543844  0.12185469]]\n",
            "pooled_avg(Manual) : (4, 4)\n",
            "[[ 0.35304123  0.13670547  0.1400473   0.87905002]\n",
            " [-0.08037668  0.099344    0.16021116  0.50776219]\n",
            " [-0.19748156 -0.50940526 -0.58063495 -0.49361727]\n",
            " [-0.25191903 -0.37630689 -0.44543844  0.12185469]]\n"
          ]
        }
      ]
    },
    {
      "cell_type": "code",
      "source": [],
      "metadata": {
        "id": "zHeIVHdMsAP6"
      },
      "execution_count": null,
      "outputs": []
    },
    {
      "cell_type": "code",
      "source": [],
      "metadata": {
        "id": "15_7INzisASe"
      },
      "execution_count": null,
      "outputs": []
    },
    {
      "cell_type": "code",
      "source": [],
      "metadata": {
        "id": "zw8SMmDQsAVD"
      },
      "execution_count": null,
      "outputs": []
    },
    {
      "cell_type": "code",
      "source": [],
      "metadata": {
        "id": "egZZPjhjsAXc"
      },
      "execution_count": null,
      "outputs": []
    },
    {
      "cell_type": "code",
      "source": [],
      "metadata": {
        "id": "FiDptUfSsAZv"
      },
      "execution_count": null,
      "outputs": []
    }
  ]
}