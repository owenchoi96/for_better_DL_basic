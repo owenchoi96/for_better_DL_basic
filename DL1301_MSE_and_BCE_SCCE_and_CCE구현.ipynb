{
  "nbformat": 4,
  "nbformat_minor": 0,
  "metadata": {
    "colab": {
      "provenance": []
    },
    "kernelspec": {
      "name": "python3",
      "display_name": "Python 3"
    },
    "language_info": {
      "name": "python"
    }
  },
  "cells": [
    {
      "cell_type": "markdown",
      "source": [
        "# Mean Squared Error"
      ],
      "metadata": {
        "id": "D5GGdlgYg1Z1"
      }
    },
    {
      "cell_type": "markdown",
      "source": [
        "## MSE calculation"
      ],
      "metadata": {
        "id": "sx-592r1g1hN"
      }
    },
    {
      "cell_type": "code",
      "source": [
        "import tensorflow as tf\n",
        "\n",
        "from tensorflow.keras.losses import MeanSquaredError\n",
        "\n",
        "loss_object = MeanSquaredError()\n",
        "\n",
        "batch_size=32\n",
        "predictions = tf.random.normal(shape=(batch_size,1))\n",
        "labels = tf.random.normal(shape=(batch_size,1))\n",
        "\n",
        "mse = loss_object(labels, predictions)\n",
        "mse_manual = tf.reduce_mean(tf.math.pow(labels - predictions, 2))\n",
        "\n",
        "print(mse.numpy())\n",
        "print(mse_manual.numpy())"
      ],
      "metadata": {
        "colab": {
          "base_uri": "https://localhost:8080/"
        },
        "id": "Rv2sLKn3g1jX",
        "outputId": "071de0dd-deaa-4c5d-ebb8-38063e28deca"
      },
      "execution_count": 48,
      "outputs": [
        {
          "output_type": "stream",
          "name": "stdout",
          "text": [
            "2.183768\n",
            "2.183768\n"
          ]
        }
      ]
    },
    {
      "cell_type": "code",
      "source": [],
      "metadata": {
        "id": "vO9uixS8g1lV"
      },
      "execution_count": null,
      "outputs": []
    },
    {
      "cell_type": "code",
      "source": [],
      "metadata": {
        "id": "Z5NI0jhTg1nl"
      },
      "execution_count": null,
      "outputs": []
    },
    {
      "cell_type": "markdown",
      "source": [
        "## MSE with Model/Dataset"
      ],
      "metadata": {
        "id": "GXHW_EMig1pg"
      }
    },
    {
      "cell_type": "code",
      "source": [
        "import tensorflow as tf\n",
        "\n",
        "from tensorflow.keras.layers import Dense\n",
        "from tensorflow.keras.losses import MeanSquaredError\n",
        "\n",
        "N, n_feature = 100, 5\n",
        "batch_size = 32\n",
        "\n",
        "X = tf.random.normal(shape=(N, n_feature))\n",
        "Y = tf.random.normal(shape=(N, 1))\n",
        "\n",
        "dataset = tf.data.Dataset.from_tensor_slices((X, Y))\n",
        "dataset = dataset.batch(batch_size)\n",
        "\n",
        "model = Dense(units=1, activation='linear')\n",
        "loss_object = MeanSquaredError()\n",
        "\n",
        "for x,y in dataset:\n",
        "  predictions = model(x)\n",
        "  loss = loss_object(y, predictions)\n",
        "  print(loss.numpy())"
      ],
      "metadata": {
        "colab": {
          "base_uri": "https://localhost:8080/"
        },
        "id": "IxgoVvxag1ro",
        "outputId": "0b978f64-2b88-4b4a-da3f-9968081a4290"
      },
      "execution_count": 50,
      "outputs": [
        {
          "output_type": "stream",
          "name": "stdout",
          "text": [
            "2.872729\n",
            "2.0929174\n",
            "2.7242224\n",
            "2.8337092\n"
          ]
        }
      ]
    },
    {
      "cell_type": "code",
      "source": [],
      "metadata": {
        "id": "kFZ_00ODg1tY"
      },
      "execution_count": null,
      "outputs": []
    },
    {
      "cell_type": "code",
      "source": [],
      "metadata": {
        "id": "PD9vhFR2g1vq"
      },
      "execution_count": null,
      "outputs": []
    },
    {
      "cell_type": "markdown",
      "source": [
        "# Binary Cross Entropy"
      ],
      "metadata": {
        "id": "vtHlb4rkg1xy"
      }
    },
    {
      "cell_type": "markdown",
      "source": [
        "## BCE calculation"
      ],
      "metadata": {
        "id": "LjffO7_eg1zs"
      }
    },
    {
      "cell_type": "code",
      "source": [
        "import tensorflow as tf\n",
        "\n",
        "from tensorflow.keras.losses import BinaryCrossentropy\n",
        "\n",
        "batch_size = 4\n",
        "n_class = 2\n",
        "\n",
        "predictions = tf.random.uniform(shape=(batch_size, 1),\n",
        "                                minval=0, maxval=1,\n",
        "                                dtype=tf.float32) # 확률\n",
        "labels = tf.random.uniform(shape=(batch_size, 1),\n",
        "                           minval=0, maxval=n_class,\n",
        "                           dtype=tf.int32)                                                      \n",
        "\n",
        "loss_object = BinaryCrossentropy()\n",
        "loss = loss_object(labels, predictions)\n",
        "\n",
        "labels = tf.cast(labels, tf.float32)\n",
        "bce_man = -(labels*tf.math.log(predictions) + (1-labels)*tf.math.log(1-predictions))\n",
        "bce_man = tf.reduce_mean(bce_man)\n",
        "\n",
        "print(loss.numpy())\n",
        "print(bce_man.numpy())"
      ],
      "metadata": {
        "colab": {
          "base_uri": "https://localhost:8080/"
        },
        "id": "mpBPQb0Og12J",
        "outputId": "9726089a-f2a4-4795-fa70-4ba20a3fd8cb"
      },
      "execution_count": 56,
      "outputs": [
        {
          "output_type": "stream",
          "name": "stdout",
          "text": [
            "0.5132806\n",
            "0.5132807\n"
          ]
        }
      ]
    },
    {
      "cell_type": "code",
      "source": [],
      "metadata": {
        "id": "yNn3aH65g14b"
      },
      "execution_count": null,
      "outputs": []
    },
    {
      "cell_type": "code",
      "source": [],
      "metadata": {
        "id": "-XNjE7Ucg165"
      },
      "execution_count": null,
      "outputs": []
    },
    {
      "cell_type": "markdown",
      "source": [
        "## BCE with Model/Dataset"
      ],
      "metadata": {
        "id": "Zwe7keE3g19B"
      }
    },
    {
      "cell_type": "code",
      "source": [
        "import tensorflow as tf\n",
        "from tensorflow.keras.layers import Dense\n",
        "from tensorflow.keras.losses import BinaryCrossentropy\n",
        "\n",
        "N, n_feature = 100, 5\n",
        "t_weights = tf.constant([1,2,3,4,5], dtype=tf.float32)\n",
        "t_bias = tf.constant([10], dtype=tf.float32)\n",
        "\n",
        "X = tf.random.normal(mean = 0, stddev=1, shape=(N, n_feature))\n",
        "Y = tf.reduce_sum(t_weights*X, axis=1) + t_bias\n",
        "Y = tf.cast(Y > 5, tf.int32)\n",
        "\n",
        "dataset = tf.data.Dataset.from_tensor_slices((X,Y))\n",
        "dataset = dataset.batch(batch_size)\n",
        "\n",
        "model = Dense(units=1, activation='sigmoid')\n",
        "loss_object = BinaryCrossentropy()\n",
        "\n",
        "for x,y in dataset:\n",
        "  predictions = model(x)\n",
        "  loss = loss_object(y, predictions)\n",
        "  print(loss.numpy())\n"
      ],
      "metadata": {
        "colab": {
          "base_uri": "https://localhost:8080/"
        },
        "id": "JGh0YkXAg1_Q",
        "outputId": "e4b9ad59-75eb-44c6-8701-341d3d696840"
      },
      "execution_count": 92,
      "outputs": [
        {
          "output_type": "stream",
          "name": "stdout",
          "text": [
            "0.634935\n",
            "0.678746\n",
            "0.75250363\n",
            "0.85017854\n",
            "0.68910384\n",
            "0.60146445\n",
            "0.37607324\n",
            "7\n",
            "16\n"
          ]
        }
      ]
    },
    {
      "cell_type": "code",
      "source": [],
      "metadata": {
        "id": "VuXO_xi5g2BY"
      },
      "execution_count": null,
      "outputs": []
    },
    {
      "cell_type": "markdown",
      "source": [
        "# Sparse Categorical Cross Entropy"
      ],
      "metadata": {
        "id": "ZxnkmtdSg2Dg"
      }
    },
    {
      "cell_type": "markdown",
      "source": [
        "## SCCE Calculation"
      ],
      "metadata": {
        "id": "QKtZIAiYg2F0"
      }
    },
    {
      "cell_type": "code",
      "source": [
        "import tensorflow as tf\n",
        "\n",
        "from tensorflow.keras.losses import SparseCategoricalCrossentropy\n",
        "\n",
        "batch_size, n_class = 16, 5\n",
        "\n",
        "predictions = tf.random.uniform(shape=(batch_size, n_class),\n",
        "                                minval=0, maxval=1,\n",
        "                                dtype=tf.float32)\n",
        "pred_sum = tf.reshape(tf.reduce_sum(predictions, axis=1), (-1,1)) \n",
        "predictions = predictions/pred_sum\n",
        "\n",
        "labels = tf.random.uniform(shape=(batch_size,),\n",
        "                           minval=0, maxval=n_class,\n",
        "                           dtype=tf.int32)\n",
        "loss_object = SparseCategoricalCrossentropy()\n",
        "loss = loss_object(labels, predictions)\n",
        "\n",
        "print(loss.numpy())\n",
        "\n",
        "ce = 0 \n",
        "for label, prediction in zip(labels, predictions):\n",
        "  ce += -tf.math.log(prediction[label])\n",
        "ce /= batch_size\n",
        "print(ce.numpy())"
      ],
      "metadata": {
        "colab": {
          "base_uri": "https://localhost:8080/"
        },
        "id": "i7fV9mfsg2IB",
        "outputId": "f2186df2-bfc4-4f9e-a271-c0efdcebdc9e"
      },
      "execution_count": 67,
      "outputs": [
        {
          "output_type": "stream",
          "name": "stdout",
          "text": [
            "1.5470383\n",
            "1.5470386\n"
          ]
        }
      ]
    },
    {
      "cell_type": "code",
      "source": [],
      "metadata": {
        "id": "ht4nETs-g2KW"
      },
      "execution_count": null,
      "outputs": []
    },
    {
      "cell_type": "markdown",
      "source": [
        "## SCCE with Model/Dataset"
      ],
      "metadata": {
        "id": "pLb0fwfag2Mo"
      }
    },
    {
      "cell_type": "code",
      "source": [
        "import tensorflow as tf\n",
        "\n",
        "from tensorflow.keras.layers import Dense\n",
        "from tensorflow.keras.losses import SparseCategoricalCrossentropy\n",
        "\n",
        "N, n_feature = 100, 2\n",
        "n_class = 5\n",
        "batch_size = 32\n",
        "\n",
        "X = tf.zeros(shape=(0, n_feature))\n",
        "Y = tf.zeros(shape=(0, 1), dtype=tf.int32)\n",
        "\n",
        "for class_idx in range(n_class):\n",
        "  center = tf.random.uniform(minval=-15, maxval=15, shape=(2,))\n",
        "\n",
        "  x1 = center[0] + tf.random.normal(shape=(N, 1))\n",
        "  x2 = center[1] + tf.random.normal(shape=(N, 1))\n",
        "\n",
        "  x = tf.concat((x1,x2), axis=1)\n",
        "  y = class_idx*tf.ones(shape=(N, 1), dtype=tf.int32)\n",
        "  \n",
        "  ax.scatter(x[:, 0].numpy(), x[:, 1].numpy(), alpha=.5)\n",
        "\n",
        "  X = tf.concat((X, x), axis=0)\n",
        "  Y = tf.concat((Y, y), axis=0)\n",
        "\n",
        "dataset = tf.data.Dataset.from_tensor_slices((X,Y))\n",
        "dataset = dataset.batch(batch_size)\n",
        "\n",
        "model = Dense(units=n_class, activation='softmax')\n",
        "loss_object = SparseCategoricalCrossentropy()\n",
        "\n",
        "for x,y in dataset:\n",
        "  predictions = model(x)\n",
        "  loss = loss_object(y, predictions)\n",
        "  print(loss.numpy())"
      ],
      "metadata": {
        "colab": {
          "base_uri": "https://localhost:8080/"
        },
        "id": "M08-V2Zcg2Ow",
        "outputId": "84c7fe94-4947-413d-fb20-291d731f1ccb"
      },
      "execution_count": 74,
      "outputs": [
        {
          "output_type": "stream",
          "name": "stdout",
          "text": [
            "0.004548295\n",
            "0.004500071\n",
            "0.004862447\n",
            "5.7942038\n",
            "6.7117443\n",
            "6.4192877\n",
            "6.8884254\n",
            "6.9945364\n",
            "7.011345\n",
            "2.6138034\n",
            "0.0002351755\n",
            "0.00022262099\n",
            "0.56284493\n",
            "1.1161035\n",
            "1.1474557\n",
            "1.2776468\n"
          ]
        }
      ]
    },
    {
      "cell_type": "code",
      "source": [],
      "metadata": {
        "id": "LFCXHin8g2RC"
      },
      "execution_count": null,
      "outputs": []
    },
    {
      "cell_type": "markdown",
      "source": [
        "# Categorical Cross Entropy"
      ],
      "metadata": {
        "id": "27BtH6M-g2TU"
      }
    },
    {
      "cell_type": "markdown",
      "source": [
        "## CCE Calculation"
      ],
      "metadata": {
        "id": "2_3NNIOWlYO8"
      }
    },
    {
      "cell_type": "code",
      "source": [
        "import tensorflow as tf\n",
        "from tensorflow.keras.losses import CategoricalCrossentropy\n",
        "\n",
        "batch_size, n_class = 16, 5\n",
        "\n",
        "predictions = tf.random.uniform(shape=(batch_size, n_class),\n",
        "                                minval=0, maxval=1,\n",
        "                                dtype=tf.float32)\n",
        "pred_sum = tf.reshape(tf.reduce_sum(predictions, axis=1), (-1,1)) \n",
        "predictions = predictions/pred_sum\n",
        "\n",
        "labels = tf.random.uniform(shape=(batch_size,),\n",
        "                           minval=0, maxval=n_class,\n",
        "                           dtype=tf.int32)\n",
        "labels = tf.one_hot(labels, n_class)\n",
        "\n",
        "loss_object = CategoricalCrossentropy() # one hot encoding이 되어있을 때\n",
        "loss = loss_object(labels, predictions)\n",
        "\n",
        "print(loss.numpy())\n",
        "\n",
        "tmp = tf.reduce_mean(tf.reduce_sum(-labels*tf.math.log(predictions), axis=1))\n",
        "print(\"CCE(Manual) : \", tmp.numpy())\n",
        "\n"
      ],
      "metadata": {
        "colab": {
          "base_uri": "https://localhost:8080/"
        },
        "id": "yQxA5EQvlYRP",
        "outputId": "4059f763-12e5-4df0-c71d-93e4a70b57ac"
      },
      "execution_count": 81,
      "outputs": [
        {
          "output_type": "stream",
          "name": "stdout",
          "text": [
            "1.8141121\n",
            "CCE(Manual) :  1.8141121\n"
          ]
        }
      ]
    },
    {
      "cell_type": "code",
      "source": [],
      "metadata": {
        "id": "on-1L8hWlYTl"
      },
      "execution_count": null,
      "outputs": []
    },
    {
      "cell_type": "code",
      "source": [],
      "metadata": {
        "id": "fbMVKbrElYVn"
      },
      "execution_count": null,
      "outputs": []
    },
    {
      "cell_type": "markdown",
      "source": [
        "## CCE with Model/Dataset"
      ],
      "metadata": {
        "id": "p2PTJC4FlYXv"
      }
    },
    {
      "cell_type": "code",
      "source": [
        "import tensorflow as tf\n",
        "\n",
        "from tensorflow.keras.layers import Dense\n",
        "from tensorflow.keras.losses import CategoricalCrossentropy\n",
        "\n",
        "N, n_feature = 8, 2\n",
        "n_class = 5\n",
        "\n",
        "\n",
        "X = tf.zeros(shape=(0, n_feature))\n",
        "Y = tf.zeros(shape=(0, ), dtype=tf.int32)\n",
        "\n",
        "for class_idx in range(n_class):\n",
        "  center = tf.random.uniform(minval=-15, maxval=15, shape=(2,))\n",
        "\n",
        "  x1 = center[0] + tf.random.normal(shape=(N, 1))\n",
        "  x2 = center[1] + tf.random.normal(shape=(N, 1))\n",
        "\n",
        "  x = tf.concat((x1,x2), axis=1)\n",
        "  y = class_idx*tf.ones(shape=(N, ), dtype=tf.int32)\n",
        "  \n",
        "\n",
        "  X = tf.concat((X, x), axis=0)\n",
        "  Y = tf.concat((Y, y), axis=0)\n",
        "\n",
        "Y = tf.one_hot(Y, depth=n_class, dtype=tf.int32)\n",
        "\n",
        "dataset = tf.data.Dataset.from_tensor_slices((X,Y))\n",
        "dataset = dataset.batch(batch_size)\n",
        "\n",
        "model = Dense(units=n_class, activation='softmax')\n",
        "loss_object = CategoricalCrossentropy()\n",
        "\n",
        "for x,y in dataset:\n",
        "  predictions = model(x)\n",
        "  loss = loss_object(y, predictions)\n",
        "  print(loss.numpy())"
      ],
      "metadata": {
        "colab": {
          "base_uri": "https://localhost:8080/"
        },
        "id": "PAbs-iLalYZ2",
        "outputId": "a5a9b9a8-6092-4c6a-ae30-3917cb042fba"
      },
      "execution_count": 89,
      "outputs": [
        {
          "output_type": "stream",
          "name": "stdout",
          "text": [
            "1.0656629\n",
            "16.06192\n",
            "2.358817\n"
          ]
        }
      ]
    },
    {
      "cell_type": "code",
      "source": [],
      "metadata": {
        "id": "3cO9uX4plYcH"
      },
      "execution_count": null,
      "outputs": []
    },
    {
      "cell_type": "code",
      "source": [],
      "metadata": {
        "id": "XQqvK4MklYeJ"
      },
      "execution_count": null,
      "outputs": []
    },
    {
      "cell_type": "code",
      "source": [],
      "metadata": {
        "id": "kG0wVYXplYgT"
      },
      "execution_count": null,
      "outputs": []
    },
    {
      "cell_type": "code",
      "source": [],
      "metadata": {
        "id": "Bk7Nvm5GlYiU"
      },
      "execution_count": null,
      "outputs": []
    },
    {
      "cell_type": "code",
      "source": [],
      "metadata": {
        "id": "CtaFfa9alYkd"
      },
      "execution_count": null,
      "outputs": []
    },
    {
      "cell_type": "code",
      "source": [],
      "metadata": {
        "id": "-S28BLg4lYma"
      },
      "execution_count": null,
      "outputs": []
    },
    {
      "cell_type": "code",
      "source": [],
      "metadata": {
        "id": "ndwJzzg8lYoR"
      },
      "execution_count": null,
      "outputs": []
    },
    {
      "cell_type": "code",
      "source": [],
      "metadata": {
        "id": "Nsi3rttBg2Vs"
      },
      "execution_count": null,
      "outputs": []
    },
    {
      "cell_type": "code",
      "source": [],
      "metadata": {
        "id": "me-H0JcMg2X8"
      },
      "execution_count": null,
      "outputs": []
    }
  ]
}