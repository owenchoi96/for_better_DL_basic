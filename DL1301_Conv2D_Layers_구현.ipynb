{
  "nbformat": 4,
  "nbformat_minor": 0,
  "metadata": {
    "colab": {
      "provenance": []
    },
    "kernelspec": {
      "name": "python3",
      "display_name": "Python 3"
    },
    "language_info": {
      "name": "python"
    }
  },
  "cells": [
    {
      "cell_type": "markdown",
      "source": [
        "# Conv Layers"
      ],
      "metadata": {
        "id": "bSek81aVeLQV"
      }
    },
    {
      "cell_type": "markdown",
      "source": [
        "## Shapes of Conv Layers"
      ],
      "metadata": {
        "id": "2xFDZWPNeLR6"
      }
    },
    {
      "cell_type": "code",
      "source": [
        "import tensorflow as tf\n",
        "from tensorflow.keras.layers import Conv2D\n",
        "\n",
        "N, n_H, n_W, n_C = 1, 28, 28, 5\n",
        "n_filter=10 # l1 \n",
        "k_size=3 # f (kernel size, window size) \n",
        "\n",
        "images = tf.random.uniform(minval=0, maxval=1, shape=(N,n_H,n_W,n_C))\n",
        "conv = Conv2D(filters = n_filter, kernel_size=k_size)\n",
        "y=conv(images)\n",
        "W, B = conv.get_weights()\n",
        "\n",
        "\n",
        "print(images.shape)\n",
        "print(W.shape)\n",
        "print(B.shape)\n",
        "print(y.shape)"
      ],
      "metadata": {
        "id": "91sIDK-BeLT3",
        "colab": {
          "base_uri": "https://localhost:8080/"
        },
        "outputId": "966033a5-7d7d-4aa0-89a5-d4c34ec1cf78"
      },
      "execution_count": 16,
      "outputs": [
        {
          "output_type": "stream",
          "name": "stdout",
          "text": [
            "(1, 28, 28, 5)\n",
            "(3, 3, 5, 10)\n",
            "(10,)\n",
            "(1, 26, 26, 10)\n"
          ]
        }
      ]
    },
    {
      "cell_type": "code",
      "source": [],
      "metadata": {
        "id": "0v9rIazZeLWF"
      },
      "execution_count": 6,
      "outputs": []
    },
    {
      "cell_type": "code",
      "source": [],
      "metadata": {
        "id": "GDxXoVCJeLXi"
      },
      "execution_count": null,
      "outputs": []
    },
    {
      "cell_type": "markdown",
      "source": [
        "## Correlation Calculation"
      ],
      "metadata": {
        "id": "a48fbgpjeLaP"
      }
    },
    {
      "cell_type": "code",
      "source": [
        "import numpy as np\n",
        "import tensorflow as tf\n",
        "from tensorflow.keras.layers import Conv2D\n",
        "\n",
        "N, n_H, n_W, n_C = 1, 5, 5, 1\n",
        "n_filter=1\n",
        "k_size=3 # f\n",
        "\n",
        "images = tf.random.uniform(minval=0, maxval=1, shape=(N,n_H,n_W,n_C))\n",
        "conv = Conv2D(filters = n_filter, kernel_size=k_size)\n",
        "y=conv(images)\n",
        "print(\"Y(Tensorflow) : \", y.numpy().squeeze().shape)\n",
        "W, B = conv.get_weights()\n",
        "\n",
        "####\n",
        "images = images.numpy().squeeze()\n",
        "W = W.squeeze()\n",
        "\n",
        "y_man = np.zeros(shape=(n_H - k_size + 1, n_W - k_size + 1)) # 먼저 선언해주기 \n",
        "for i in range(n_H - k_size + 1):\n",
        "  for j in range(n_W - k_size + 1):\n",
        "    window = images[i : i+k_size , j : j + k_size]\n",
        "    y_man[i,j] = np.sum(window*W) + B\n",
        "\n",
        "print(\"Y(Manual) :\\n\", y_man)"
      ],
      "metadata": {
        "id": "bgxoNXjieLhP",
        "colab": {
          "base_uri": "https://localhost:8080/"
        },
        "outputId": "bc234b5c-9e5d-4028-d419-44fc95203705"
      },
      "execution_count": 26,
      "outputs": [
        {
          "output_type": "stream",
          "name": "stdout",
          "text": [
            "Y(Tensorflow) :  (3, 3)\n",
            "Y(Manual) :\n",
            " [[-0.17782167  0.05653065 -0.49518126]\n",
            " [-0.46050531 -0.63567066  0.09783878]\n",
            " [-0.25700805  0.33131561  0.0665929 ]]\n"
          ]
        }
      ]
    },
    {
      "cell_type": "code",
      "source": [],
      "metadata": {
        "id": "8x5qF0tIeLjU"
      },
      "execution_count": null,
      "outputs": []
    },
    {
      "cell_type": "code",
      "source": [],
      "metadata": {
        "id": "KlMIrmxveLlr"
      },
      "execution_count": null,
      "outputs": []
    },
    {
      "cell_type": "code",
      "source": [],
      "metadata": {
        "id": "-0ylqwvmeLoA"
      },
      "execution_count": null,
      "outputs": []
    },
    {
      "cell_type": "markdown",
      "source": [
        "## Correlation with n-channel "
      ],
      "metadata": {
        "id": "Qsr1pRG9eLqH"
      }
    },
    {
      "cell_type": "code",
      "source": [
        "import numpy as np\n",
        "import tensorflow as tf\n",
        "from tensorflow.keras.layers import Conv2D\n",
        "\n",
        "N, n_H, n_W, n_C = 1, 5, 5, 3 # channel이 바뀐다고 해서 weight, bias가 바뀌지 않음. \n",
        "n_filter=1\n",
        "k_size=3 # f\n",
        "\n",
        "images = tf.random.uniform(minval=0, maxval=1, shape=(N,n_H,n_W,n_C))\n",
        "conv = Conv2D(filters = n_filter, kernel_size=k_size)\n",
        "y=conv(images)\n",
        "print(\"Y(Tensorflow) : \", y.numpy().squeeze().shape)\n",
        "W, B = conv.get_weights()\n",
        "\n",
        "####\n",
        "images = images.numpy().squeeze()\n",
        "W = W.squeeze()\n",
        "\n",
        "y_man = np.zeros(shape=(n_H - k_size + 1, n_W - k_size + 1))\n",
        "for i in range(n_H - k_size + 1):\n",
        "  for j in range(n_W - k_size + 1):\n",
        "    window = images[i : i+k_size , j : j + k_size, :] # 여기만 바뀜 \n",
        "    y_man[i,j] = np.sum(window*W) + B\n",
        "\n",
        "print(\"Y(Manual) :\\n\", y_man)"
      ],
      "metadata": {
        "id": "E_5D8RxyeLsO",
        "colab": {
          "base_uri": "https://localhost:8080/"
        },
        "outputId": "ea392cab-c7d5-44c2-bd4e-aba7210dca3a"
      },
      "execution_count": 27,
      "outputs": [
        {
          "output_type": "stream",
          "name": "stdout",
          "text": [
            "Y(Tensorflow) :  (3, 3)\n",
            "Y(Manual) :\n",
            " [[0.2737211  0.45337757 0.58229768]\n",
            " [0.38881022 0.54598999 0.40068793]\n",
            " [0.74647772 0.68667763 0.50215912]]\n"
          ]
        }
      ]
    },
    {
      "cell_type": "code",
      "source": [],
      "metadata": {
        "id": "RQMIlPDCeLul"
      },
      "execution_count": null,
      "outputs": []
    },
    {
      "cell_type": "code",
      "source": [],
      "metadata": {
        "id": "5zV05j6ZeLxS"
      },
      "execution_count": null,
      "outputs": []
    }
  ]
}