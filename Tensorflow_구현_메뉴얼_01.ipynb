{
  "nbformat": 4,
  "nbformat_minor": 0,
  "metadata": {
    "colab": {
      "provenance": []
    },
    "kernelspec": {
      "name": "python3",
      "display_name": "Python 3"
    },
    "language_info": {
      "name": "python"
    }
  },
  "cells": [
    {
      "cell_type": "markdown",
      "source": [
        "# constant and variable Tensors"
      ],
      "metadata": {
        "id": "v2aQYZgBKVAu"
      }
    },
    {
      "cell_type": "code",
      "source": [
        "# 학습이 필요없는 객체 => immutable\n",
        "# 학습이 필요한 weight and bias => mutable "
      ],
      "metadata": {
        "colab": {
          "base_uri": "https://localhost:8080/"
        },
        "id": "FYGdUAEzKVbS",
        "outputId": "286117e8-0e4a-4710-f068-730c692cefca"
      },
      "execution_count": 5,
      "outputs": [
        {
          "output_type": "stream",
          "name": "stdout",
          "text": [
            "2.12.0\n"
          ]
        }
      ]
    },
    {
      "cell_type": "code",
      "source": [
        "import tensorflow as tf\n",
        "import numpy as np\n",
        "\n",
        "t1 = tf.Variable([1,2,3]) # 파라미터 역할을 해줌\n",
        "t2 = tf.constant([1,2,3]) # 데이터 셋 안에 들어있는 것은 constant tensor \n",
        "\n",
        "print(type(t1), sep='\\n') # mutable \n",
        "print(type(t2)) # immutable"
      ],
      "metadata": {
        "colab": {
          "base_uri": "https://localhost:8080/"
        },
        "id": "nLcNvOu3KVdp",
        "outputId": "66b7863e-46c2-4302-ab87-68b27dcc0238"
      },
      "execution_count": 12,
      "outputs": [
        {
          "output_type": "stream",
          "name": "stdout",
          "text": [
            "<class 'tensorflow.python.ops.resource_variable_ops.ResourceVariable'>\n",
            "<class 'tensorflow.python.framework.ops.EagerTensor'>\n"
          ]
        }
      ]
    },
    {
      "cell_type": "code",
      "source": [
        "test_list = [1,2,3]\n",
        "test_np = np.array([1,2,3])\n",
        "\n",
        "print(type(test_list))\n",
        "print(type(test_np))\n",
        "\n",
        "t1 = tf.constant(test_list)\n",
        "t2 = tf.constant(test_np)\n",
        "\n",
        "print(type(t1))\n",
        "print(type(t2))\n",
        "\n"
      ],
      "metadata": {
        "colab": {
          "base_uri": "https://localhost:8080/"
        },
        "id": "nplvYGDKKVf8",
        "outputId": "8fd26913-b12f-41e4-df16-c6154b75117c"
      },
      "execution_count": 14,
      "outputs": [
        {
          "output_type": "stream",
          "name": "stdout",
          "text": [
            "<class 'list'>\n",
            "<class 'numpy.ndarray'>\n",
            "<class 'tensorflow.python.framework.ops.EagerTensor'>\n",
            "<class 'tensorflow.python.framework.ops.EagerTensor'>\n"
          ]
        }
      ]
    },
    {
      "cell_type": "code",
      "source": [
        "# resource variable\n",
        "test_list = [1,2,3]\n",
        "test_np = np.array([1,2,3])\n",
        "\n",
        "t1 = tf.Variable(test_list)\n",
        "t2 = tf.Variable(test_np)\n",
        "\n",
        "print(type(t1))\n",
        "print(type(t2))\n",
        "\n"
      ],
      "metadata": {
        "colab": {
          "base_uri": "https://localhost:8080/"
        },
        "id": "kA7Nj41_KViw",
        "outputId": "28a96a6f-b1a2-42f3-e428-875b0f579fb8"
      },
      "execution_count": 15,
      "outputs": [
        {
          "output_type": "stream",
          "name": "stdout",
          "text": [
            "<class 'tensorflow.python.ops.resource_variable_ops.ResourceVariable'>\n",
            "<class 'tensorflow.python.ops.resource_variable_ops.ResourceVariable'>\n"
          ]
        }
      ]
    },
    {
      "cell_type": "code",
      "source": [
        "t1 = tf.constant(test_list)\n",
        "t2 = tf.Variable(test_list)\n",
        "\n",
        "t3 = tf.constant(t2)\n",
        "\n",
        "t1 = tf.convert_to_tensor(test_list)\n",
        "t2 = tf.convert_to_tensor(test_np) # advanced 된 테크닉이 필요할 때 쓰임. \n",
        "print(type(t1))\n",
        "print(type(t2))\n",
        "\n"
      ],
      "metadata": {
        "colab": {
          "base_uri": "https://localhost:8080/"
        },
        "id": "1yzcQQfAKVlJ",
        "outputId": "f5f09012-3c7f-49ee-ab5b-a39d139e7614"
      },
      "execution_count": 23,
      "outputs": [
        {
          "output_type": "stream",
          "name": "stdout",
          "text": [
            "<class 'tensorflow.python.framework.ops.EagerTensor'>\n",
            "<class 'tensorflow.python.framework.ops.EagerTensor'>\n"
          ]
        }
      ]
    },
    {
      "cell_type": "code",
      "source": [
        "test_list1 = [10,20,30]\n",
        "test_list2 = [1,2,3]\n",
        "\n",
        "t1 = tf.constant(test_list1) # from dataset\n",
        "t2 = tf.Variable(test_list2) # weight and bias \n",
        "\n",
        "print(type(t1 + t2)) # => EagerTensor"
      ],
      "metadata": {
        "colab": {
          "base_uri": "https://localhost:8080/"
        },
        "id": "vl-kg9hZKVnc",
        "outputId": "3360fcd6-0295-4e95-b90a-9e4f5355c56f"
      },
      "execution_count": 24,
      "outputs": [
        {
          "output_type": "stream",
          "name": "stdout",
          "text": [
            "<class 'tensorflow.python.framework.ops.EagerTensor'>\n"
          ]
        }
      ]
    },
    {
      "cell_type": "code",
      "source": [],
      "metadata": {
        "id": "uofJz6b7KVqB"
      },
      "execution_count": null,
      "outputs": []
    },
    {
      "cell_type": "markdown",
      "source": [
        "# Making Tensors with API"
      ],
      "metadata": {
        "id": "qeu9WeIqKVsX"
      }
    },
    {
      "cell_type": "code",
      "source": [
        "import tensorflow as tf\n",
        "import numpy as np\n",
        "\n",
        "test_list = [1,1,1,1,1,1]\n",
        "\n",
        "t1 = tf.constant(test_list)\n",
        "print(t1)\n",
        "\n",
        "t2 = tf.ones(shape=(100,2))\n",
        "print(t2.shape)\n",
        "\n",
        "t3 = tf.ones(shape=(128,128,3))\n",
        "print(t3.shape)\n",
        "\n",
        "t4 = tf.zeros(shape=(128,128,3))\n",
        "print(t4.shape)\n",
        "\n",
        "t5 = 3*tf.ones(shape=(128,128,3))\n",
        "print(t5.shape) "
      ],
      "metadata": {
        "colab": {
          "base_uri": "https://localhost:8080/"
        },
        "id": "C1qgssV3KVu7",
        "outputId": "f5147657-fe4d-420e-9e9c-e65bb51a9c77"
      },
      "execution_count": 37,
      "outputs": [
        {
          "output_type": "stream",
          "name": "stdout",
          "text": [
            "tf.Tensor([1 1 1 1 1 1], shape=(6,), dtype=int32)\n",
            "(100, 2)\n",
            "(128, 128, 3)\n",
            "(128, 128, 3)\n",
            "(128, 128, 3)\n"
          ]
        }
      ]
    },
    {
      "cell_type": "code",
      "source": [
        "test_list = [[1,2,3], [4,5,6]]\n",
        "\n",
        "t1 = tf.Variable(test_list)\n",
        "print(t1)\n",
        "\n",
        "t2 = tf.ones_like(t1)\n",
        "print(t2)\n",
        "\n",
        "t3 = tf.zeros_like(t1)\n",
        "print(t3)"
      ],
      "metadata": {
        "colab": {
          "base_uri": "https://localhost:8080/"
        },
        "id": "9nNPWNQWKVxg",
        "outputId": "1cfc2e4d-6d42-4658-9add-5a584814ce84"
      },
      "execution_count": 41,
      "outputs": [
        {
          "output_type": "stream",
          "name": "stdout",
          "text": [
            "<tf.Variable 'Variable:0' shape=(2, 3) dtype=int32, numpy=\n",
            "array([[1, 2, 3],\n",
            "       [4, 5, 6]], dtype=int32)>\n",
            "tf.Tensor(\n",
            "[[1 1 1]\n",
            " [1 1 1]], shape=(2, 3), dtype=int32)\n",
            "tf.Tensor(\n",
            "[[0 0 0]\n",
            " [0 0 0]], shape=(2, 3), dtype=int32)\n"
          ]
        }
      ]
    },
    {
      "cell_type": "code",
      "source": [
        "import tensorflow as tf\n",
        "import numpy as np\n",
        "np.random.seed(1)\n",
        "tf.random.set_seed(0) # tf.random.set_seed()\n",
        "\n",
        "t1 = tf.random.normal(shape=(3,3))\n",
        "print(t1)"
      ],
      "metadata": {
        "colab": {
          "base_uri": "https://localhost:8080/"
        },
        "id": "Kac0vIZhKVz2",
        "outputId": "377f903e-329c-4a89-a886-f71177a8e39a"
      },
      "execution_count": 49,
      "outputs": [
        {
          "output_type": "stream",
          "name": "stdout",
          "text": [
            "tf.Tensor(\n",
            "[[ 1.5110626   0.42292204 -0.41969493]\n",
            " [-1.0360372  -1.2368279   0.47027302]\n",
            " [-0.01397489  1.1888583   0.60253334]], shape=(3, 3), dtype=float32)\n"
          ]
        }
      ]
    },
    {
      "cell_type": "code",
      "source": [
        "import matplotlib.pyplot as plt\n",
        "\n",
        "t2 = tf.random.normal(mean=3, stddev=3, shape=(1000,))\n",
        "\n",
        "fig, ax = plt.subplots(figsize=(5,5))\n",
        "ax.hist(t2.numpy(), bins=50)\n",
        "plt.show()"
      ],
      "metadata": {
        "colab": {
          "base_uri": "https://localhost:8080/",
          "height": 445
        },
        "id": "zp-a8vP-KV2c",
        "outputId": "e856f23b-f389-4e92-816c-d3eea8d8f200"
      },
      "execution_count": 56,
      "outputs": [
        {
          "output_type": "display_data",
          "data": {
            "text/plain": [
              "<Figure size 500x500 with 1 Axes>"
            ],
            "image/png": "[encoded data removed]"
          },
          "metadata": {}
        }
      ]
    },
    {
      "cell_type": "code",
      "source": [
        "t2 = tf.random.uniform(shape=(1000,), minval=-10, maxval=10)\n",
        "plt.hist(t2.numpy(), bins=50)\n",
        "plt.show()"
      ],
      "metadata": {
        "colab": {
          "base_uri": "https://localhost:8080/",
          "height": 430
        },
        "id": "A8qLR6WbKV4x",
        "outputId": "95621656-99e4-4774-f12a-5b7827745e1e"
      },
      "execution_count": 57,
      "outputs": [
        {
          "output_type": "display_data",
          "data": {
            "text/plain": [
              "<Figure size 640x480 with 1 Axes>"
            ],
            "image/png": "[encoded data removed]"
          },
          "metadata": {}
        }
      ]
    },
    {
      "cell_type": "code",
      "source": [
        "t2 = tf.random.poisson(shape=(1000,), lam=5)\n",
        "plt.hist(t2.numpy(), bins=50)\n",
        "plt.show()"
      ],
      "metadata": {
        "colab": {
          "base_uri": "https://localhost:8080/",
          "height": 430
        },
        "id": "eyjL8gXuKV7I",
        "outputId": "7285c6c0-891a-481a-f8a0-dfd6a870a1fa"
      },
      "execution_count": 58,
      "outputs": [
        {
          "output_type": "display_data",
          "data": {
            "text/plain": [
              "<Figure size 640x480 with 1 Axes>"
            ],
            "image/png": "[encoded data removed]"
          },
          "metadata": {}
        }
      ]
    },
    {
      "cell_type": "code",
      "source": [
        "t1 = tf.random.normal(shape=(128,128,3))\n",
        "print(\"shape : \", t1.shape)\n",
        "print(\"dtype : \", t1.dtype)\n"
      ],
      "metadata": {
        "colab": {
          "base_uri": "https://localhost:8080/"
        },
        "id": "apNBSWPLKV9i",
        "outputId": "0035efc4-1f94-4603-9a14-bfe2eeb70a6e"
      },
      "execution_count": 60,
      "outputs": [
        {
          "output_type": "stream",
          "name": "stdout",
          "text": [
            "shape :  (128, 128, 3)\n",
            "dtype :  <dtype: 'float32'>\n"
          ]
        }
      ]
    },
    {
      "cell_type": "code",
      "source": [
        "test_np = np.random.normal(0,1,size=(100,))\n",
        "print(test_np.dtype)"
      ],
      "metadata": {
        "colab": {
          "base_uri": "https://localhost:8080/"
        },
        "id": "Qxfc3XHwKV_1",
        "outputId": "860e6217-501b-4581-e760-4e90c6aa39c7"
      },
      "execution_count": 61,
      "outputs": [
        {
          "output_type": "stream",
          "name": "stdout",
          "text": [
            "float64\n"
          ]
        }
      ]
    },
    {
      "cell_type": "code",
      "source": [
        "test_np = np.random.randint(-10,10,size=(100,))\n",
        "print(test_np.dtype)\n",
        "\n",
        "t1 = tf.constant(test_np, dtype=tf.float32)\n",
        "print(t1.shape)"
      ],
      "metadata": {
        "colab": {
          "base_uri": "https://localhost:8080/"
        },
        "id": "fH3vgQvW3WCI",
        "outputId": "ab671117-39cb-4c2f-d50f-e7f31e28fc75"
      },
      "execution_count": 64,
      "outputs": [
        {
          "output_type": "stream",
          "name": "stdout",
          "text": [
            "int64\n",
            "(100,)\n"
          ]
        }
      ]
    },
    {
      "cell_type": "code",
      "source": [],
      "metadata": {
        "id": "4UHHNAqC3WEr"
      },
      "execution_count": null,
      "outputs": []
    },
    {
      "cell_type": "markdown",
      "source": [
        "# Tensor operations"
      ],
      "metadata": {
        "id": "4ZjEdnKE3WHv"
      }
    },
    {
      "cell_type": "code",
      "source": [
        "import tensorflow as tf\n",
        "import numpy as np\n",
        "\n",
        "t1 = tf.constant([1,2,3])\n",
        "t2 = tf.constant([10,20,30])\n",
        "\n",
        "print(t1 + t2)\n",
        "\n",
        "# 전부 element-wise로 연산이 됨. \n",
        "# dot product => matmul"
      ],
      "metadata": {
        "colab": {
          "base_uri": "https://localhost:8080/"
        },
        "id": "CVDF1NLA3WKy",
        "outputId": "a03be12a-d30c-4356-9307-46701b1f1906"
      },
      "execution_count": 67,
      "outputs": [
        {
          "output_type": "stream",
          "name": "stdout",
          "text": [
            "tf.Tensor([11 22 33], shape=(3,), dtype=int32)\n",
            "[1, 2, 3, 10, 20, 30]\n"
          ]
        }
      ]
    },
    {
      "cell_type": "code",
      "source": [
        "# braodcasting \n",
        "t1 = tf.random.normal(shape=(3,1), mean=0, stddev=5)\n",
        "t2 = tf.random.normal(shape=(1,4), mean=0, stddev=5)\n",
        "\n",
        "t1 = tf.cast(t1, dtype=tf.int16) # dtype을 바꿔줌\n",
        "t2 = tf.cast(t2, dtype=tf.int16)\n",
        "\n",
        "t3 = t1 + t2\n",
        "\n",
        "print(t1.numpy(), '\\n')\n",
        "print(t2.numpy(), '\\n')\n",
        "print(t3.numpy(), '\\n')\n",
        "\n"
      ],
      "metadata": {
        "colab": {
          "base_uri": "https://localhost:8080/"
        },
        "id": "oG67_T2x3WN1",
        "outputId": "a1e78b7d-7f02-4321-bb50-de30f89bd939"
      },
      "execution_count": 78,
      "outputs": [
        {
          "output_type": "stream",
          "name": "stdout",
          "text": [
            "[[-2]\n",
            " [ 2]\n",
            " [ 0]] \n",
            "\n",
            "[[-3  6  2 -1]] \n",
            "\n",
            "[[-5  4  0 -3]\n",
            " [-1  8  4  1]\n",
            " [-3  6  2 -1]] \n",
            "\n"
          ]
        }
      ]
    },
    {
      "cell_type": "code",
      "source": [
        "t1 = tf.random.normal(shape=(3,4), mean=0, stddev=5)\n",
        "t1 = tf.cast(t1, dtype=tf.int16)\n",
        "\n",
        "# tf.reduce_sum\n",
        "# tf.reduce_prod\n",
        "\n",
        "# tf.reduce_max\n",
        "# tf.reduce_min\n",
        "\n",
        "# tf.reduce_mean\n",
        "# tf.reduce_std\n",
        "# tf.reduce_variance\n",
        "\n",
        "# tf.reduce_all\n",
        "# tf.reduce_any"
      ],
      "metadata": {
        "colab": {
          "base_uri": "https://localhost:8080/"
        },
        "id": "pY6hsrWD3WQ3",
        "outputId": "c5dc3a03-29a7-4e93-ef62-2df12f24d5e2"
      },
      "execution_count": 79,
      "outputs": [
        {
          "output_type": "stream",
          "name": "stdout",
          "text": [
            "[[-1  0 -3  2]\n",
            " [-5 -6 -2  4]\n",
            " [ 0 -3 -1  2]]\n"
          ]
        }
      ]
    },
    {
      "cell_type": "code",
      "source": [
        "# reduce_sum\n",
        "t2 = tf.reduce_sum(t1)\n",
        "print(t1.numpy())\n",
        "print(t2.numpy())"
      ],
      "metadata": {
        "colab": {
          "base_uri": "https://localhost:8080/"
        },
        "id": "wDYYIWnt3WT6",
        "outputId": "3eb1bf99-8bd1-42b7-f87f-4a664a86941e"
      },
      "execution_count": 80,
      "outputs": [
        {
          "output_type": "stream",
          "name": "stdout",
          "text": [
            "[[-1  0 -3  2]\n",
            " [-5 -6 -2  4]\n",
            " [ 0 -3 -1  2]]\n",
            "-13\n"
          ]
        }
      ]
    },
    {
      "cell_type": "code",
      "source": [
        "t2 = tf.reduce_sum(t1, axis=0)\n",
        "# print(t2.numpy())\n",
        "\n",
        "t3 = tf.reduce_sum(t1, axis=1)\n",
        "# print(t3.numpy())\n",
        "\n",
        "temp_tf = tf.random.normal(shape=(3,4,3), mean=0, stddev=5)\n",
        "print(tf.reduce_sum(temp_tf, axis=-1).shape)\n"
      ],
      "metadata": {
        "colab": {
          "base_uri": "https://localhost:8080/"
        },
        "id": "rjcbu6rx3WW9",
        "outputId": "77e37a28-3014-4ba9-c16c-589b7a151c6e"
      },
      "execution_count": 86,
      "outputs": [
        {
          "output_type": "stream",
          "name": "stdout",
          "text": [
            "(3, 4)\n"
          ]
        }
      ]
    },
    {
      "cell_type": "code",
      "source": [],
      "metadata": {
        "id": "9sZv_l1e3WZx"
      },
      "execution_count": null,
      "outputs": []
    },
    {
      "cell_type": "markdown",
      "source": [
        "# Gradient Tape in Tensorflow"
      ],
      "metadata": {
        "id": "F1JgplEn3WdD"
      }
    },
    {
      "cell_type": "code",
      "source": [
        "import tensorflow as tf\n",
        "import matplotlib.pyplot as plt\n",
        "\n",
        "# tf.GradientTape()\n",
        "# backpropagation이 진행될 때 \n",
        "# forward propagation에서 진행된 값들이 저장되있을 필요가 있다.\n",
        "# ==> forward propagation이 진행될 때 그 값들을 테이프로 저장해 놓는다. \n",
        "# ==> weight, bias 등등 모두 저장해 놓음\n",
        "\n",
        "t1 = tf.Variable([1,2,3], dtype=tf.float32)\n",
        "t2 = tf.Variable([10,20,30], dtype=tf.float32)\n",
        "\n",
        "with tf.GradientTape() as tape:\n",
        "    t3 = t1 * t2 # 여기서 forward propagation이 일어남. \n",
        "\n",
        "gradients = tape.gradient(t3, [t1, t2]) # t3에 대하여 t1, t2 편미분 한 것을 가져와라\n",
        "print(type(gradients)) # 편미분 값을 리스트로 저장을 해놓았다가 가져올 수 있음. \n",
        "\n",
        "print('dt1: ', gradients[0])\n",
        "print('dt2: ', gradients[1])"
      ],
      "metadata": {
        "colab": {
          "base_uri": "https://localhost:8080/"
        },
        "id": "QEzqqUv13Wf6",
        "outputId": "13555e61-1a06-4adc-abde-532dd9ffb816"
      },
      "execution_count": 91,
      "outputs": [
        {
          "output_type": "stream",
          "name": "stdout",
          "text": [
            "<class 'list'>\n",
            "dt1:  tf.Tensor([10. 20. 30.], shape=(3,), dtype=float32)\n",
            "dt2:  tf.Tensor([1. 2. 3.], shape=(3,), dtype=float32)\n"
          ]
        }
      ]
    },
    {
      "cell_type": "code",
      "source": [
        "t1 = tf.Variable([1,2,3], dtype=tf.float32)\n",
        "t2 = tf.Variable([10,20,30], dtype=tf.float32)\n",
        "\n",
        "with tf.GradientTape() as tape:\n",
        "    t3 = t1 * t2 \n",
        "    t4 = t3 + t2\n",
        "\n",
        "gradients = tape.gradient(t4, [t1, t2, t3]) \n",
        "print(type(gradients)) \n",
        "\n",
        "print('dt1: ', gradients[0])\n",
        "print('dt2: ', gradients[1])\n",
        "print('dt3: ', gradients[2]) "
      ],
      "metadata": {
        "colab": {
          "base_uri": "https://localhost:8080/"
        },
        "id": "i6_waF-h3WjJ",
        "outputId": "2ded6b3e-3425-4bc2-b107-a23f7e6eb458"
      },
      "execution_count": 92,
      "outputs": [
        {
          "output_type": "stream",
          "name": "stdout",
          "text": [
            "<class 'list'>\n",
            "dt1:  tf.Tensor([10. 20. 30.], shape=(3,), dtype=float32)\n",
            "dt2:  tf.Tensor([2. 3. 4.], shape=(3,), dtype=float32)\n",
            "dt3:  tf.Tensor([1. 1. 1.], shape=(3,), dtype=float32)\n"
          ]
        }
      ]
    },
    {
      "cell_type": "code",
      "source": [
        "t1 = tf.constant([1,2,3], dtype=tf.float32)\n",
        "t2 = tf.Variable([10,20,30], dtype=tf.float32)\n",
        "\n",
        "with tf.GradientTape() as tape:\n",
        "    t3 = t1 * t2 \n",
        "\n",
        "gradients = tape.gradient(t3, [t1, t2]) \n",
        "print(type(gradients)) \n",
        "\n",
        "print('dt1: ', gradients[0]) # constant는 gradient가 필요없는 값. \n",
        "print('dt2: ', gradients[1])"
      ],
      "metadata": {
        "colab": {
          "base_uri": "https://localhost:8080/"
        },
        "id": "uUrFzkFA3WmM",
        "outputId": "9c89b7a6-c6a7-436d-cb3d-441dfd4b9291"
      },
      "execution_count": 94,
      "outputs": [
        {
          "output_type": "stream",
          "name": "stdout",
          "text": [
            "<class 'list'>\n",
            "dt1:  None\n",
            "dt2:  tf.Tensor([1. 2. 3.], shape=(3,), dtype=float32)\n"
          ]
        }
      ]
    },
    {
      "cell_type": "code",
      "source": [
        "x_data = tf.random.normal(shape=(1000,), dtype=tf.float32)\n",
        "y_data = 3*x_data + 1 # y = 3x + 1 노이즈 추가 X\n",
        "\n",
        "w = tf.Variable(-1.)\n",
        "b = tf.Variable(-1.)\n",
        "\n",
        "learning_rate = 0.01\n",
        "epochs = 10\n",
        "\n",
        "w_trace, b_trace = list(), list()\n",
        "for epoch in range(epochs):\n",
        "    for x,y in zip(x_data, y_data):\n",
        "        with tf.GradientTape() as tape: # 이 부분 잘 기억해놓기. \n",
        "            prediction = w*x + b # model \n",
        "            loss = (prediction - y)**2\n",
        "\n",
        "        gradients = tape.gradient(loss, [w,b]) # loss에 대하여 weight, bias를 편미분한 값을 가져오기. \n",
        "\n",
        "        w_trace.append(w.numpy())\n",
        "        b_trace.append(b.numpy())\n",
        "\n",
        "        w = tf.Variable(w - learning_rate*gradients[0])\n",
        "        b = tf.Variable(b - learning_rate*gradients[1])\n",
        "\n",
        "fig, ax = plt.subplots(figsize=(20,10))\n",
        "\n",
        "ax.plot(w_trace, label='weight')\n",
        "ax.plot(b_trace, label='bias')\n",
        "\n",
        "ax.tick_params(labelsize=20)\n",
        "ax.legend(fontsize=30)\n",
        "plt.show()\n"
      ],
      "metadata": {
        "colab": {
          "base_uri": "https://localhost:8080/",
          "height": 438
        },
        "id": "o6JHMlGO3WpT",
        "outputId": "6387d528-93e1-46fa-b29a-266bdfae0453"
      },
      "execution_count": 102,
      "outputs": [
        {
          "output_type": "display_data",
          "data": {
            "text/plain": [
              "<Figure size 2000x1000 with 1 Axes>"
            ],
            "image/png": "[encoded data removed]"
          },
          "metadata": {}
        }
      ]
    },
    {
      "cell_type": "code",
      "source": [],
      "metadata": {
        "id": "R2xouGmA3Wsh"
      },
      "execution_count": null,
      "outputs": []
    },
    {
      "cell_type": "markdown",
      "source": [
        "# Model Implementation"
      ],
      "metadata": {
        "id": "jKSy5XV33WvV"
      }
    },
    {
      "cell_type": "code",
      "source": [
        "import tensorflow as tf\n",
        "import matplotlib.pyplot as plt\n",
        "\n",
        "x_train = tf.random.normal(shape=(1000,1), dtype=tf.float32)\n",
        "y_train = 3*x_train + 1 + 0.2*tf.random.normal(shape=(1000,1), dtype=tf.float32)\n",
        "\n",
        "\n",
        "x_test = tf.random.normal(shape=(300,1), dtype=tf.float32)\n",
        "y_test = 3*x_test + 1 + 0.2*tf.random.normal(shape=(300,1), dtype=tf.float32)\n",
        "\n",
        "\n",
        "model = tf.keras.models.Sequential([\n",
        "    tf.keras.layers.Dense(units=1, \n",
        "                          activation='linear')\n",
        "])\n",
        "\n",
        "model.compile(loss='mean_squared_error', # forward propagation, backpropagation 둘다 한번에 됨.\n",
        "              optimizer='SGD') \n",
        "\n",
        "## model compile하는 두번째 방법\n",
        "# model.compile(\n",
        "#     loss=tf.keras.losses.mse, \n",
        "#     optimizer=tf.keras.optimizers.SGD(),\n",
        "# )\n",
        "\n",
        "model.fit(x_train, y_train, epochs=50, verbose=2) # 2차원으로 만들어야지 돌아감..\n",
        "model.evaluate(x_test, y_test, verbose=2) # test set에 대한 evaluate\n",
        "\n",
        "\n",
        "# fig,ax = plt.subplots(figsize=(5,5))\n",
        "# ax.scatter(x_train.numpy(), y_train.numpy())\n",
        "# ax.tick_params(labelsize=20)\n",
        "# ax.grid()"
      ],
      "metadata": {
        "id": "za8VuBooQrLo"
      },
      "execution_count": null,
      "outputs": []
    },
    {
      "cell_type": "code",
      "source": [
        "# sequential\n",
        "\n",
        "# model 만들기\n",
        "model = tf.keras.models.Sequential([\n",
        "    tf.keras.layers.Dense(units=1, \n",
        "                          activation='linear')\n",
        "])\n",
        "\n",
        "# loss와 optimizer 만들어주기\n",
        "model.compile(loss='mean_squared_error', \n",
        "              optimizer='SGD') \n",
        "\n",
        "# fit & predict \n",
        "model.fit(x_train, y_train, epochs=50, verbose=2) # 2차원으로 만들어야지 돌아감..\n",
        "model.evaluate(x_test, y_test, verbose=2)"
      ],
      "metadata": {
        "id": "1LH5h6s_QrN8"
      },
      "execution_count": null,
      "outputs": []
    },
    {
      "cell_type": "code",
      "source": [
        "# subclasssing\n",
        "import tensorflow as tf\n",
        "import matplotlib.pyplot as plt\n",
        "from termcolor import colored\n",
        "\n",
        "x_train = tf.random.normal(shape=(10,1), dtype=tf.float32)\n",
        "y_train = 3*x_train + 1 + 0.2*tf.random.normal(shape=(10,1), dtype=tf.float32)\n",
        "\n",
        "\n",
        "x_test = tf.random.normal(shape=(30,1), dtype=tf.float32)\n",
        "y_test = 3*x_test + 1 + 0.2*tf.random.normal(shape=(30,1), dtype=tf.float32)\n",
        "\n",
        "# modeling\n",
        "class LinearPredictor(tf.keras.Model): # Model 상속을 받음. \n",
        "    def __init__(self):\n",
        "        super(LinearPredictor, self).__init__()\n",
        "\n",
        "        self.d1 = tf.keras.layers.Dense(units=1, \n",
        "                                        activation='linear')\n",
        "        \n",
        "    def call(self, x): # 실행시키는 코드\n",
        "        x = self.d1(x)\n",
        "        return x\n",
        "        \n",
        "EPOCHS = 10\n",
        "LR = 0.01\n",
        "\n",
        "# instantiation learning objects\n",
        "model = LinearPredictor()\n",
        "\n",
        "loss_object = tf.keras.losses.MeanSquaredError()\n",
        "optimizer = tf.keras.optimizers.SGD(learning_rate = LR)\n",
        "\n",
        "# learning\n",
        "for epoch in range(EPOCHS):\n",
        "    for x,y in zip(x_train, y_train):\n",
        "        x = tf.reshape(x, (1,1))\n",
        "        with tf.GradientTape() as tape: # forward propagation\n",
        "            prediction = model(x)\n",
        "            loss = loss_object(y, prediction)\n",
        "\n",
        "        # backpropagation\n",
        "        gradients = tape.gradient(loss, model.trainable_variables) # weight, bias가 들어있음. \n",
        "        # parameter update\n",
        "        optimizer.apply_gradients(zip(gradients, model.trainable_variables))\n",
        "\n",
        "    print(colored('Epoch:', 'red', 'on_white'), epoch+1)\n",
        "\n",
        "    template = 'Train Loss : {:.4f}\\n'\n",
        "    print(template.format(loss))\n",
        "\n",
        "\n",
        "\n"
      ],
      "metadata": {
        "colab": {
          "base_uri": "https://localhost:8080/"
        },
        "id": "xVd2WfVtQrQk",
        "outputId": "2037984d-6736-4df0-ca5b-42b095ee45f5"
      },
      "execution_count": 136,
      "outputs": [
        {
          "output_type": "stream",
          "name": "stdout",
          "text": [
            "Epoch: 1\n",
            "Train Loss : 2.7452\n",
            "\n",
            "Epoch: 2\n",
            "Train Loss : 2.3659\n",
            "\n",
            "Epoch: 3\n",
            "Train Loss : 2.0240\n",
            "\n",
            "Epoch: 4\n",
            "Train Loss : 1.7229\n",
            "\n",
            "Epoch: 5\n",
            "Train Loss : 1.4622\n",
            "\n",
            "Epoch: 6\n",
            "Train Loss : 1.2394\n",
            "\n",
            "Epoch: 7\n",
            "Train Loss : 1.0508\n",
            "\n",
            "Epoch: 8\n",
            "Train Loss : 0.8923\n",
            "\n",
            "Epoch: 9\n",
            "Train Loss : 0.7597\n",
            "\n",
            "Epoch: 10\n",
            "Train Loss : 0.6492\n",
            "\n"
          ]
        }
      ]
    },
    {
      "cell_type": "code",
      "source": [],
      "metadata": {
        "id": "d0MuDzGHQrSo"
      },
      "execution_count": null,
      "outputs": []
    },
    {
      "cell_type": "code",
      "source": [],
      "metadata": {
        "id": "3huk9V7jQrU-"
      },
      "execution_count": null,
      "outputs": []
    },
    {
      "cell_type": "code",
      "source": [],
      "metadata": {
        "id": "YEX_q5LgQrXU"
      },
      "execution_count": null,
      "outputs": []
    },
    {
      "cell_type": "code",
      "source": [],
      "metadata": {
        "id": "QQPpkZfkQrZ6"
      },
      "execution_count": null,
      "outputs": []
    },
    {
      "cell_type": "code",
      "source": [],
      "metadata": {
        "id": "J9jczqQLQrb1"
      },
      "execution_count": null,
      "outputs": []
    },
    {
      "cell_type": "code",
      "source": [],
      "metadata": {
        "id": "A4fwcyY3QreV"
      },
      "execution_count": null,
      "outputs": []
    },
    {
      "cell_type": "code",
      "source": [],
      "metadata": {
        "id": "u3TmzQm73Wyr"
      },
      "execution_count": null,
      "outputs": []
    },
    {
      "cell_type": "code",
      "source": [],
      "metadata": {
        "id": "CC8JrOM0KWCK"
      },
      "execution_count": null,
      "outputs": []
    },
    {
      "cell_type": "code",
      "source": [],
      "metadata": {
        "id": "T_OVa7cuKWEv"
      },
      "execution_count": null,
      "outputs": []
    },
    {
      "cell_type": "code",
      "source": [],
      "metadata": {
        "id": "t4LAbEuQKWHH"
      },
      "execution_count": null,
      "outputs": []
    }
  ]
}