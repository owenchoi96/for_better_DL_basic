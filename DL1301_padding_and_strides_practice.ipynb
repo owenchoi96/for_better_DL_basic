{
  "nbformat": 4,
  "nbformat_minor": 0,
  "metadata": {
    "colab": {
      "provenance": []
    },
    "kernelspec": {
      "name": "python3",
      "display_name": "Python 3"
    },
    "language_info": {
      "name": "python"
    }
  },
  "cells": [
    {
      "cell_type": "markdown",
      "source": [
        "# 3D Max/Avg Pooling"
      ],
      "metadata": {
        "id": "kAMWTqKwyocI"
      }
    },
    {
      "cell_type": "markdown",
      "source": [
        "## 3D Max Pooling"
      ],
      "metadata": {
        "id": "QTCfwQqkypd8"
      }
    },
    {
      "cell_type": "code",
      "source": [
        "import tensorflow as tf\n",
        "import math\n",
        "import numpy as np\n",
        "from tensorflow.keras.layers import MaxPooling2D\n",
        "\n",
        "N, n_H, n_W, n_C = 1, 5, 5, 3\n",
        "f, s = 2, 2\n",
        "\n",
        "x = tf.random.normal(shape=(N, n_H, n_W, n_C))\n",
        "# print(\"x : {}\\n{}\".format(x.shape,\n",
        "#                           np.transpose(x.numpy().squeeze(), (2,0,1))))\n",
        "\n",
        "pool_max = MaxPooling2D(pool_size=f, strides=s)\n",
        "pooled_max = pool_max(x)\n",
        "\n",
        "pooled_max_t = np.transpose(pooled_max.numpy().squeeze(), (2,0,1))\n",
        "print(\"pooled_max(Tensorflow): {}\\n{}\".format(pooled_max.shape,\n",
        "                                              pooled_max_t))\n",
        "\n",
        "####\n",
        "x = x.numpy().squeeze()\n",
        "n_H_ = math.floor((n_H - f)/s + 1)\n",
        "n_W_ = math.floor((n_W - f)/s + 1)\n",
        "pooled_max_man = np.zeros(shape=(n_H_, n_W_, n_C))\n",
        "\n",
        "# print(pooled_max_man.shape)\n",
        "\n",
        "for c in range(n_C):\n",
        "  c_image = x[:, :, c]\n",
        "\n",
        "  h_ = 0\n",
        "  for h in range(0, n_H - f + 1, s):\n",
        "    w_ = 0\n",
        "    for w in range(0, n_W - f + 1, s):\n",
        "      window = c_image[h:h+f, w:w+f]\n",
        "      pooled_max_man[h_, w_, c] = np.max(window)\n",
        "      w_ += 1\n",
        "    h_ += 1\n",
        "\n",
        "print(pooled_max_man.shape)\n",
        "pooled_max_man_t = np.transpose(pooled_max_man, (2,0,1))\n",
        "print(pooled_max_man_t)"
      ],
      "metadata": {
        "colab": {
          "base_uri": "https://localhost:8080/"
        },
        "id": "YoNRRUOoypgb",
        "outputId": "36e12997-c4ff-4e05-d7f2-c2175fe5b8ca"
      },
      "execution_count": 27,
      "outputs": [
        {
          "output_type": "stream",
          "name": "stdout",
          "text": [
            "pooled_max(Tensorflow): (1, 2, 2, 3)\n",
            "[[[ 1.5178254   1.6692628 ]\n",
            "  [ 0.22894178  0.6404183 ]]\n",
            "\n",
            " [[-0.7180076   0.4883472 ]\n",
            "  [ 0.64314157  0.833219  ]]\n",
            "\n",
            " [[ 2.0994518   1.2276293 ]\n",
            "  [ 1.960604    0.6074714 ]]]\n",
            "(2, 2, 3)\n",
            "[[[ 1.51782537  1.66926277]\n",
            "  [ 0.22894178  0.64041829]]\n",
            "\n",
            " [[-0.71800762  0.4883472 ]\n",
            "  [ 0.64314157  0.83321899]]\n",
            "\n",
            " [[ 2.09945178  1.2276293 ]\n",
            "  [ 1.96060395  0.60747141]]]\n"
          ]
        }
      ]
    },
    {
      "cell_type": "code",
      "source": [],
      "metadata": {
        "id": "mWmF2k6Dypi0"
      },
      "execution_count": null,
      "outputs": []
    },
    {
      "cell_type": "code",
      "source": [],
      "metadata": {
        "id": "sbBsvUFZyplW"
      },
      "execution_count": null,
      "outputs": []
    },
    {
      "cell_type": "markdown",
      "source": [
        "# Padding"
      ],
      "metadata": {
        "id": "21D1g6pSypoJ"
      }
    },
    {
      "cell_type": "markdown",
      "source": [
        "## ZeroPadding2D Layer"
      ],
      "metadata": {
        "id": "XrlVXqDLypq9"
      }
    },
    {
      "cell_type": "code",
      "source": [
        "import numpy as np\n",
        "import tensorflow as tf\n",
        "from tensorflow.keras.layers import ZeroPadding2D\n",
        "\n",
        "images = tf.random.normal(shape=(1,28,28,3))\n",
        "# print(np.transpose(images.numpy().squeeze(), (2,0,1)))\n",
        "print(images.shape)\n",
        "\n",
        "zero_padding = ZeroPadding2D(padding=1)\n",
        "y = zero_padding(images)\n",
        "\n",
        "# print(np.transpose(y.numpy().squeeze(), (2,0,1)))\n",
        "print(y.shape)"
      ],
      "metadata": {
        "colab": {
          "base_uri": "https://localhost:8080/"
        },
        "id": "rKTijGjkypti",
        "outputId": "f024886a-24da-491a-ed1a-1e8a368889df"
      },
      "execution_count": 29,
      "outputs": [
        {
          "output_type": "stream",
          "name": "stdout",
          "text": [
            "(1, 28, 28, 3)\n",
            "(1, 30, 30, 3)\n"
          ]
        }
      ]
    },
    {
      "cell_type": "code",
      "source": [],
      "metadata": {
        "id": "BKMO43htypwY"
      },
      "execution_count": null,
      "outputs": []
    },
    {
      "cell_type": "markdown",
      "source": [
        "## Zero Padding with Conv2D Layers"
      ],
      "metadata": {
        "id": "bS6OylWRypzK"
      }
    },
    {
      "cell_type": "code",
      "source": [
        "import tensorflow as tf\n",
        "\n",
        "from tensorflow.keras.layers import Conv2D\n",
        "\n",
        "images = tf.random.normal(shape=(1,28,28,3))\n",
        "conv = Conv2D(filters=1, kernel_size=3, padding='same') # 크기가 줄어들지 않게\n",
        "y= conv(images)\n",
        "print(y.shape)\n"
      ],
      "metadata": {
        "colab": {
          "base_uri": "https://localhost:8080/"
        },
        "id": "LifGLq-Hyp1_",
        "outputId": "e8306796-f483-48f2-82be-f671ecb12435"
      },
      "execution_count": 30,
      "outputs": [
        {
          "output_type": "stream",
          "name": "stdout",
          "text": [
            "(1, 28, 28, 1)\n"
          ]
        }
      ]
    },
    {
      "cell_type": "code",
      "source": [],
      "metadata": {
        "id": "nMUbnzTZyp4j"
      },
      "execution_count": null,
      "outputs": []
    },
    {
      "cell_type": "code",
      "source": [],
      "metadata": {
        "id": "3vTvK0YFyp7Z"
      },
      "execution_count": null,
      "outputs": []
    },
    {
      "cell_type": "code",
      "source": [],
      "metadata": {
        "id": "KxzR1-Jdyp-L"
      },
      "execution_count": null,
      "outputs": []
    },
    {
      "cell_type": "markdown",
      "source": [
        "# Strides"
      ],
      "metadata": {
        "id": "3CBoL3dZyqBg"
      }
    },
    {
      "cell_type": "markdown",
      "source": [
        "## Strides in Conv2D Layers "
      ],
      "metadata": {
        "id": "qHZLOA7hyqES"
      }
    },
    {
      "cell_type": "code",
      "source": [
        "import tensorflow as tf\n",
        "\n",
        "from tensorflow.keras.layers import Conv2D\n",
        "\n",
        "images = tf.random.normal(shape=(1,28,28,3))\n",
        "conv = Conv2D(filters=1, kernel_size=3, padding='valid', strides=2) \n",
        "y=conv(images)\n",
        "\n",
        "print(images.shape)\n",
        "print(y.shape)"
      ],
      "metadata": {
        "colab": {
          "base_uri": "https://localhost:8080/"
        },
        "id": "NNYqkoARyqG3",
        "outputId": "dd4dd9f0-dfab-45c9-dfc8-7229d896bd08"
      },
      "execution_count": 31,
      "outputs": [
        {
          "output_type": "stream",
          "name": "stdout",
          "text": [
            "(1, 28, 28, 3)\n",
            "(1, 13, 13, 1)\n"
          ]
        }
      ]
    },
    {
      "cell_type": "code",
      "source": [],
      "metadata": {
        "id": "_kIULeyfyqJ6"
      },
      "execution_count": null,
      "outputs": []
    },
    {
      "cell_type": "code",
      "source": [],
      "metadata": {
        "id": "WVlfno-fyqMt"
      },
      "execution_count": null,
      "outputs": []
    },
    {
      "cell_type": "markdown",
      "source": [
        "## Strides in Pooling Layers"
      ],
      "metadata": {
        "id": "F09XmH14yqQD"
      }
    },
    {
      "cell_type": "code",
      "source": [
        "import tensorflow as tf\n",
        "\n",
        "from tensorflow.keras.layers import MaxPooling2D\n",
        "\n",
        "images = tf.random.normal(shape=(1,28,28,3))\n",
        "pool = MaxPooling2D(pool_size=3, strides=2) \n",
        "y=pool(images)\n",
        "\n",
        "print(images.shape)\n",
        "print(y.shape)"
      ],
      "metadata": {
        "colab": {
          "base_uri": "https://localhost:8080/"
        },
        "id": "gJiZHETjzLyo",
        "outputId": "91bec97a-a0ce-4bd5-8489-494f8b25ed9a"
      },
      "execution_count": 32,
      "outputs": [
        {
          "output_type": "stream",
          "name": "stdout",
          "text": [
            "(1, 28, 28, 3)\n",
            "(1, 13, 13, 3)\n"
          ]
        }
      ]
    },
    {
      "cell_type": "code",
      "source": [],
      "metadata": {
        "id": "q9vnnHZJzL1c"
      },
      "execution_count": null,
      "outputs": []
    },
    {
      "cell_type": "code",
      "source": [],
      "metadata": {
        "id": "bDP5YtI_zL4C"
      },
      "execution_count": null,
      "outputs": []
    },
    {
      "cell_type": "code",
      "source": [],
      "metadata": {
        "id": "wtNqsM2_zL61"
      },
      "execution_count": null,
      "outputs": []
    },
    {
      "cell_type": "code",
      "source": [],
      "metadata": {
        "id": "0xswNrlXzL94"
      },
      "execution_count": null,
      "outputs": []
    },
    {
      "cell_type": "code",
      "source": [],
      "metadata": {
        "id": "71YOBgJuzMAc"
      },
      "execution_count": null,
      "outputs": []
    },
    {
      "cell_type": "code",
      "source": [],
      "metadata": {
        "id": "Uwni8NFwzMC8"
      },
      "execution_count": null,
      "outputs": []
    }
  ]
}