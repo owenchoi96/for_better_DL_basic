{
  "nbformat": 4,
  "nbformat_minor": 0,
  "metadata": {
    "colab": {
      "provenance": []
    },
    "kernelspec": {
      "name": "python3",
      "display_name": "Python 3"
    },
    "language_info": {
      "name": "python"
    }
  },
  "cells": [
    {
      "cell_type": "markdown",
      "source": [
        "# Shapes in CNNS"
      ],
      "metadata": {
        "id": "7e8IYkKD2BGV"
      }
    },
    {
      "cell_type": "markdown",
      "source": [
        "## Shapes in the Feature Extractors"
      ],
      "metadata": {
        "id": "dwBLXhFL6TFr"
      }
    },
    {
      "cell_type": "code",
      "source": [
        "import tensorflow as tf\n",
        "from tensorflow.keras.layers import Conv2D\n",
        "from tensorflow.keras.layers import MaxPooling2D\n",
        "from tensorflow.keras.layers import Flatten\n",
        "\n",
        "\n",
        "N, n_H, n_W, n_C = 32, 28, 28, 3\n",
        "n_conv_filter = 5\n",
        "batch_size=32\n",
        "k_size=3 # f (kernel_size)\n",
        "pool_size, pool_strides = 2,2\n",
        "\n",
        "x = tf.random.normal(shape=(N, n_H, n_W, n_C))\n",
        "\n",
        "conv1 = Conv2D(filters=n_conv_filter, kernel_size=k_size,\n",
        "              padding='same', activation='relu')\n",
        "conv1_pool = MaxPooling2D(pool_size=pool_size, \n",
        "                          strides=pool_strides\n",
        "                          )\n",
        "\n",
        "conv2 = Conv2D(filters=n_conv_filter, \n",
        "               kernel_size=k_size,\n",
        "               padding='same', \n",
        "               activation='relu')\n",
        "conv2_pool = MaxPooling2D(pool_size=pool_size, \n",
        "                          strides=pool_strides\n",
        "                          )\n",
        "\n",
        "flatten = Flatten()\n",
        "\n",
        "print('first input\\n', x.shape)\n",
        "\n",
        "x = conv1(x)\n",
        "W,B = conv1.get_weights()\n",
        "print('after conv1\\n', x.shape)\n",
        "print('W,B : {}/{}'.format(W.shape, B.shape))\n",
        "x = conv1_pool(x)\n",
        "print('after conv1 pool\\n', x.shape) # 2x2 pooling을 하여 shape가 반으로 줄어듬. \n",
        "\n",
        "x = conv2(x)\n",
        "W,B = conv2.get_weights()\n",
        "print('after conv2\\n', x.shape)\n",
        "print('W,B : {}/{}'.format(W.shape, B.shape))\n",
        "\n",
        "x = conv2_pool(x)\n",
        "print('after conv2 pool\\n', x.shape)\n",
        "\n",
        "x = flatten(x)\n",
        "print('after flatten\\n', x.shape) "
      ],
      "metadata": {
        "colab": {
          "base_uri": "https://localhost:8080/"
        },
        "id": "z-By2U9N6TIZ",
        "outputId": "2dae2d6c-ecee-4937-fe6a-2f4dc10a08e2"
      },
      "execution_count": 21,
      "outputs": [
        {
          "output_type": "stream",
          "name": "stdout",
          "text": [
            "first input\n",
            " (32, 28, 28, 3)\n",
            "after conv1\n",
            " (32, 28, 28, 5)\n",
            "W,B : (3, 3, 3, 5)/(5,)\n",
            "after conv1 pool\n",
            " (32, 14, 14, 5)\n",
            "after conv2\n",
            " (32, 14, 14, 5)\n",
            "W,B : (3, 3, 5, 5)/(5,)\n",
            "after conv2 pool\n",
            " (32, 7, 7, 5)\n",
            "after flatten\n",
            " (32, 245)\n"
          ]
        }
      ]
    },
    {
      "cell_type": "code",
      "source": [],
      "metadata": {
        "colab": {
          "base_uri": "https://localhost:8080/"
        },
        "id": "Z-ujf09H6TLO",
        "outputId": "17c80297-ab4a-49a0-8601-56bde2aa4ef3"
      },
      "execution_count": 9,
      "outputs": [
        {
          "output_type": "execute_result",
          "data": {
            "text/plain": [
              "245"
            ]
          },
          "metadata": {},
          "execution_count": 9
        }
      ]
    },
    {
      "cell_type": "code",
      "source": [],
      "metadata": {
        "id": "n3AnaWWF6TOB"
      },
      "execution_count": null,
      "outputs": []
    },
    {
      "cell_type": "markdown",
      "source": [
        "## Shapes in the Classifier"
      ],
      "metadata": {
        "id": "nvWYf9aN6TQ1"
      }
    },
    {
      "cell_type": "code",
      "source": [
        "from tensorflow.keras.layers import Dense\n",
        "\n",
        "n_neurons = [50, 25, 10]\n",
        "\n",
        "dense1 = Dense(units=n_neurons[0], activation='relu')\n",
        "dense2 = Dense(units=n_neurons[1], activation='relu')\n",
        "dense3 = Dense(units=n_neurons[2], activation='softmax')\n",
        "\n",
        "print(\"input shape\", x.shape, '\\n')\n",
        "x = dense1(x)\n",
        "W,B = dense1.get_weights()\n",
        "print('W/B : {}/{}'.format(W.shape,B.shape))\n",
        "print('after dense 1 : {}\\n'.format(x.shape))\n",
        "\n",
        "x = dense2(x)\n",
        "W,B = dense2.get_weights()\n",
        "print('W/B : {}/{}'.format(W.shape,B.shape))\n",
        "print('after dense 2 : {}\\n'.format(x.shape))\n",
        "\n",
        "x = dense3(x)\n",
        "W,B = dense3.get_weights()\n",
        "print('W/B : {}/{}'.format(W.shape,B.shape))\n",
        "print('after dense 3 : {}\\n'.format(x.shape))"
      ],
      "metadata": {
        "colab": {
          "base_uri": "https://localhost:8080/"
        },
        "id": "q6ijfV3K6TTc",
        "outputId": "1e907ffd-0e66-4cc0-bb42-38c139d83618"
      },
      "execution_count": 23,
      "outputs": [
        {
          "output_type": "stream",
          "name": "stdout",
          "text": [
            "input shape (32, 10) \n",
            "\n",
            "W/B : (10, 50)/(50,)\n",
            "after dense 1 : (32, 50)\n",
            "\n",
            "W/B : (50, 25)/(25,)\n",
            "after dense 2 : (32, 25)\n",
            "\n",
            "W/B : (25, 10)/(10,)\n",
            "after dense 3 : (32, 10)\n",
            "\n"
          ]
        }
      ]
    },
    {
      "cell_type": "code",
      "source": [],
      "metadata": {
        "id": "qFP_b2DZ6TWd"
      },
      "execution_count": null,
      "outputs": []
    },
    {
      "cell_type": "code",
      "source": [],
      "metadata": {
        "id": "dq4uiNps6TZS"
      },
      "execution_count": null,
      "outputs": []
    },
    {
      "cell_type": "markdown",
      "source": [
        "## Shapes in the Loss Functions"
      ],
      "metadata": {
        "id": "mzj3imKk6Tb1"
      }
    },
    {
      "cell_type": "code",
      "source": [
        "from tensorflow.keras.losses import CategoricalCrossentropy\n",
        "\n",
        "y = tf.random.uniform(minval=0, maxval=10, \n",
        "                      shape=(32,), \n",
        "                      dtype=tf.int32)\n",
        "y = tf.one_hot(y, depth=10)\n",
        "\n",
        "loss_object = CategoricalCrossentropy()\n",
        "loss = loss_object(y,x)\n",
        "print(loss.shape)\n",
        "print(loss)"
      ],
      "metadata": {
        "colab": {
          "base_uri": "https://localhost:8080/"
        },
        "id": "2HP0h2686Ter",
        "outputId": "6a7f2e6c-b2cb-461d-a95d-36f0574a6c07"
      },
      "execution_count": 25,
      "outputs": [
        {
          "output_type": "stream",
          "name": "stdout",
          "text": [
            "()\n",
            "tf.Tensor(2.3012333, shape=(), dtype=float32)\n"
          ]
        }
      ]
    },
    {
      "cell_type": "code",
      "source": [],
      "metadata": {
        "id": "3brAUKVA6Thf"
      },
      "execution_count": null,
      "outputs": []
    },
    {
      "cell_type": "code",
      "source": [],
      "metadata": {
        "id": "8gtw2Q416Tki"
      },
      "execution_count": null,
      "outputs": []
    },
    {
      "cell_type": "markdown",
      "source": [
        "# CNN Implementation"
      ],
      "metadata": {
        "id": "WSNT9hE9BgHa"
      }
    },
    {
      "cell_type": "markdown",
      "source": [
        "## implementation with Sequential Method"
      ],
      "metadata": {
        "id": "eRQLx-iHBgKJ"
      }
    },
    {
      "cell_type": "code",
      "source": [
        "# Sequential model의 경우 모델 안에서 일어나는 일을 확인하기 어려움\n",
        "\n",
        "import tensorflow as tf\n",
        "\n",
        "from tensorflow.keras.models import Sequential\n",
        "from tensorflow.keras.layers import Conv2D\n",
        "from tensorflow.keras.layers import MaxPooling2D\n",
        "from tensorflow.keras.layers import Flatten\n",
        "from tensorflow.keras.layers import Dense\n",
        "\n",
        "N, n_H, n_W, n_C = 4, 28, 28, 3\n",
        "n_conv_neurons = [10,20,30]\n",
        "n_dense_neurons = [50,30,10]\n",
        "k_size, padding = 3, 'same'\n",
        "activation='relu'\n",
        "pool_size, pool_strides = 2, 2\n",
        "\n",
        "x = tf.random.normal(shape=(N, n_H, n_W, n_C))\n",
        "print(x.shape)\n",
        "model = Sequential()\n",
        "# Conv2D, MaxPooling2D\n",
        "model.add(Conv2D(filters=n_conv_neurons[0],\n",
        "                 kernel_size=k_size, \n",
        "                 padding=padding,\n",
        "                 activation=activation))\n",
        "model.add(MaxPooling2D(pool_size=pool_size, \n",
        "                       strides=pool_strides))\n",
        "model.add(Conv2D(filters=n_conv_neurons[1],\n",
        "                 kernel_size=k_size, \n",
        "                 padding=padding,\n",
        "                 activation=activation))\n",
        "model.add(MaxPooling2D(pool_size=pool_size, \n",
        "                       strides=pool_strides))\n",
        "model.add(Conv2D(filters=n_conv_neurons[2],\n",
        "                 kernel_size=k_size, \n",
        "                 padding=padding,\n",
        "                 activation=activation))\n",
        "model.add(MaxPooling2D(pool_size=pool_size, \n",
        "                       strides=pool_strides))\n",
        "model.add(Flatten())\n",
        "\n",
        "# Dense\n",
        "model.add(Dense(units=n_dense_neurons[0], \n",
        "                activation=activation))\n",
        "model.add(Dense(units=n_dense_neurons[1], \n",
        "                activation=activation))\n",
        "model.add(Dense(units=n_dense_neurons[2], \n",
        "                activation='softmax'))\n",
        "\n",
        "predictions = model(x)\n",
        "print(predictions.shape)"
      ],
      "metadata": {
        "colab": {
          "base_uri": "https://localhost:8080/"
        },
        "id": "5AdwSpU9BgM9",
        "outputId": "5f095f2f-c4e6-4454-8019-3e506c82428b"
      },
      "execution_count": 26,
      "outputs": [
        {
          "output_type": "stream",
          "name": "stdout",
          "text": [
            "(4, 28, 28, 3)\n",
            "(4, 10)\n"
          ]
        }
      ]
    },
    {
      "cell_type": "code",
      "source": [
        "# 반복문 활용\n",
        "for n_conv_neuron in n_conv_neurons:\n",
        "    model.add(Conv2D(filters=n_conv_neuron,\n",
        "                 kernel_size=k_size, \n",
        "                 padding=padding,\n",
        "                 activation=activation))\n",
        "    model.add(MaxPooling2D(pool_size=pool_size, strides=pool_strides))\n",
        "model.add(Flatten())\n",
        "\n",
        "for n_dense_neuron in n_dense_neurons:\n",
        "    model.add(Dense(units=n_dense_neuron, activation=activation))\n",
        "model.add(Dense(units=n_dense_neurons[-1], activation='softmax'))"
      ],
      "metadata": {
        "id": "kXsBv2D_BgPl"
      },
      "execution_count": null,
      "outputs": []
    },
    {
      "cell_type": "code",
      "source": [],
      "metadata": {
        "id": "Sl9bGRMIBgSH"
      },
      "execution_count": null,
      "outputs": []
    },
    {
      "cell_type": "markdown",
      "source": [
        "## Implementation with Model Sub-classing"
      ],
      "metadata": {
        "id": "SYZHFvLIBgVA"
      }
    },
    {
      "cell_type": "code",
      "source": [
        "import tensorflow as tf\n",
        "\n",
        "from tensorflow.keras.models import Model # 바뀐거\n",
        "\n",
        "from tensorflow.keras.layers import Conv2D\n",
        "from tensorflow.keras.layers import MaxPooling2D\n",
        "from tensorflow.keras.layers import Flatten\n",
        "from tensorflow.keras.layers import Dense\n",
        "\n",
        "N, n_H, n_W, n_C = 4, 28, 28, 3\n",
        "n_conv_neurons = [10,20,30]\n",
        "n_dense_neurons = [50,30,10]\n",
        "k_size, padding = 3, 'same'\n",
        "activation='relu'\n",
        "pool_size, pool_strides = 2, 2\n",
        "\n",
        "x = tf.random.normal(shape=(N, n_H, n_W, n_C))\n",
        "\n",
        "class TestCNN(Model):\n",
        "    def __init__(self):\n",
        "        super(TestCNN, self).__init__()\n",
        "\n",
        "        self.conv1 = Conv2D(filters=n_conv_neurons[0], kernel_size=k_size, \n",
        "                            padding=padding, activation=activation)\n",
        "        self.conv1_pool = MaxPooling2D(pool_size=pool_size, strides=pool_strides)\n",
        "        self.conv2 = Conv2D(filters=n_conv_neurons[1], kernel_size=k_size, \n",
        "                            padding=padding, activation=activation)\n",
        "        self.conv2_pool = MaxPooling2D(pool_size=pool_size, strides=pool_strides)\n",
        "        self.conv3 = Conv2D(filters=n_conv_neurons[2], kernel_size=k_size, \n",
        "                            padding=padding, activation=activation)\n",
        "        self.conv3_pool = MaxPooling2D(pool_size=pool_size, strides=pool_strides)\n",
        "        self.flatten = Flatten()\n",
        "\n",
        "        self.dense1 = Dense(units=n_dense_neurons[0], activation=activation)\n",
        "        self.dense2 = Dense(units=n_dense_neurons[1], activation=activation)\n",
        "        self.dense3 = Dense(units=n_dense_neurons[2], activation='softmax')\n",
        "\n",
        "    def call(self, x):\n",
        "        x = self.conv1(x)\n",
        "        x = self.conv1_pool(x)\n",
        "\n",
        "        x = self.conv2(x)\n",
        "        x = self.conv2_pool(x)\n",
        "\n",
        "        x = self.conv3(x)\n",
        "        x = self.conv3_pool(x)\n",
        "\n",
        "        x = self.flatten(x)\n",
        "\n",
        "        x = self.dense1(x)\n",
        "        x = self.dense2(x)\n",
        "        x = self.dense3(x)\n",
        "\n",
        "        return x\n",
        "\n",
        "\n",
        "N, n_H, n_W, n_C = 4, 28, 28, 3\n",
        "n_conv_neurons = [10,20,30]\n",
        "n_dense_neurons = [50,30,10]\n",
        "k_size, padding = 3, 'same'\n",
        "activation='relu'\n",
        "pool_size, pool_strides = 2, 2\n",
        "\n",
        "x = tf.random.normal(shape=(N, n_H, n_W, n_C))\n",
        "model = TestCNN()\n",
        "y = model(x)\n",
        "\n",
        "\n"
      ],
      "metadata": {
        "colab": {
          "base_uri": "https://localhost:8080/"
        },
        "id": "Vme_28bSBgYN",
        "outputId": "5560f728-02a8-497c-8190-657ef6133234"
      },
      "execution_count": 29,
      "outputs": [
        {
          "output_type": "stream",
          "name": "stdout",
          "text": [
            "(4, 28, 28, 3)\n",
            "(4, 28, 28, 10)\n",
            "(4, 14, 14, 10)\n",
            "(4, 14, 14, 20)\n",
            "(4, 7, 7, 20)\n",
            "(4, 7, 7, 30)\n",
            "(4, 3, 3, 30)\n",
            "(4, 270)\n",
            "(4, 50)\n",
            "(4, 30)\n",
            "(4, 10)\n"
          ]
        }
      ]
    },
    {
      "cell_type": "code",
      "source": [],
      "metadata": {
        "id": "wWAvMLRZBga1"
      },
      "execution_count": null,
      "outputs": []
    },
    {
      "cell_type": "code",
      "source": [],
      "metadata": {
        "id": "uYEQfS-8Bgd1"
      },
      "execution_count": null,
      "outputs": []
    },
    {
      "cell_type": "markdown",
      "source": [
        "## Implementation with Sequential + Layer Sub-classing"
      ],
      "metadata": {
        "id": "GSWV8kBEBgg4"
      }
    },
    {
      "cell_type": "code",
      "source": [
        "import tensorflow as tf\n",
        "\n",
        "from tensorflow.keras.models import Model # for model subclassing\n",
        "from tensorflow.keras.layers import Layer\n",
        "from tensorflow.keras.models import Sequential\n",
        "\n",
        "from tensorflow.keras.layers import Conv2D\n",
        "from tensorflow.keras.layers import MaxPooling2D\n",
        "from tensorflow.keras.layers import Flatten\n",
        "from tensorflow.keras.layers import Dense\n",
        "\n",
        "class MyConv(Layer):\n",
        "    def __init__(self, n_neuron):\n",
        "        super(MyConv, self).__init__()\n",
        "\n",
        "        self.conv = Conv2D(filters=n_neuron, kernel_size=k_size, \n",
        "                            padding=padding, activation=activation)\n",
        "        self.conv_pool = MaxPooling2D(pool_size=pool_size, strides=pool_strides)\n",
        "\n",
        "    def call(self, x):\n",
        "        x = self.conv(x)\n",
        "        x = self.conv_pool(x)\n",
        "        return x\n",
        "\n",
        "model = Sequential()\n",
        "model.add(MyConv(n_conv_neurons[0]))\n",
        "model.add(MyConv(n_conv_neurons[1]))\n",
        "model.add(MyConv(n_conv_neurons[2]))\n",
        "model.add(Flatten())\n",
        "\n",
        "model.add(Dense(units=n_dense_neurons[0], activation=activation))\n",
        "model.add(Dense(units=n_dense_neurons[1], activation=activation))\n",
        "model.add(Dense(units=n_dense_neurons[2], activation='softmax'))\n"
      ],
      "metadata": {
        "id": "thXMtmz5BgkN"
      },
      "execution_count": null,
      "outputs": []
    },
    {
      "cell_type": "code",
      "source": [],
      "metadata": {
        "id": "8WgEt1-ZBgmv"
      },
      "execution_count": null,
      "outputs": []
    },
    {
      "cell_type": "code",
      "source": [],
      "metadata": {
        "id": "MAHRcfX1Bgp0"
      },
      "execution_count": null,
      "outputs": []
    },
    {
      "cell_type": "markdown",
      "source": [
        "## Implementation with Model and Layer Sub-classing"
      ],
      "metadata": {
        "id": "HNAMt4axBug9"
      }
    },
    {
      "cell_type": "code",
      "source": [
        "import tensorflow as tf\n",
        "\n",
        "from tensorflow.keras.models import Model # for model subclassing\n",
        "from tensorflow.keras.layers import Layer\n",
        "from tensorflow.keras.models import Sequential\n",
        "\n",
        "from tensorflow.keras.layers import Conv2D\n",
        "from tensorflow.keras.layers import MaxPooling2D\n",
        "from tensorflow.keras.layers import Flatten\n",
        "from tensorflow.keras.layers import Dense\n",
        "\n",
        "class MyConv(Layer):\n",
        "    def __init__(self, n_neuron):\n",
        "        super(MyConv, self).__init__()\n",
        "\n",
        "        self.conv = Conv2D(filters=n_neuron, kernel_size=k_size, \n",
        "                            padding=padding, activation=activation)\n",
        "        self.conv_pool = MaxPooling2D(pool_size=pool_size, strides=pool_strides)\n",
        "\n",
        "    def call(self, x):\n",
        "        x = self.conv(x)\n",
        "        x = self.conv_pool(x)\n",
        "        return x\n",
        "\n",
        "\n",
        "\n",
        "class TestCNN(Model):\n",
        "    def __init__(self):\n",
        "        super(TestCNN, self).__init__()\n",
        "        self.conv1 = MyConv(n_conv_neurons[0])\n",
        "        self.conv2 = MyConv(n_conv_neurons[1])\n",
        "        self.conv3 = MyConv(n_conv_neurons[2])\n",
        "        \n",
        "        self.flatten = Flatten()\n",
        "\n",
        "        self.dense1 = Dense(units=n_dense_neurons[0], activation=activation)\n",
        "        self.dense2 = Dense(units=n_dense_neurons[1], activation=activation)\n",
        "        self.dense3 = Dense(units=n_dense_neurons[2], activation='softmax')\n",
        "\n",
        "    def call(self, x):\n",
        "        x = self.conv1(x)\n",
        "        x = self.conv2(x)\n",
        "        x = self.conv3(x)\n",
        "\n",
        "        x = self.flatten(x)\n",
        "\n",
        "        x = self.dense1(x)\n",
        "        x = self.dense2(x)\n",
        "        x = self.dense3(x)\n",
        "\n",
        "        return x\n",
        "\n"
      ],
      "metadata": {
        "id": "qgs66pMyBujP"
      },
      "execution_count": null,
      "outputs": []
    },
    {
      "cell_type": "code",
      "source": [],
      "metadata": {
        "id": "vivkM5zcBulo"
      },
      "execution_count": null,
      "outputs": []
    },
    {
      "cell_type": "code",
      "source": [
        "import tensorflow as tf\n",
        "\n",
        "from tensorflow.keras.models import Model # for model subclassing\n",
        "from tensorflow.keras.layers import Layer\n",
        "from tensorflow.keras.models import Sequential\n",
        "\n",
        "from tensorflow.keras.layers import Conv2D\n",
        "from tensorflow.keras.layers import MaxPooling2D\n",
        "from tensorflow.keras.layers import Flatten\n",
        "from tensorflow.keras.layers import Dense\n",
        "\n",
        "\n",
        "class MyConv(Layer):\n",
        "    def __init__(self, n_neuron):\n",
        "        super(MyConv, self).__init__()\n",
        "\n",
        "        self.conv = Conv2D(filters=n_neuron, kernel_size=k_size, \n",
        "                            padding=padding, activation=activation)\n",
        "        self.conv_pool = MaxPooling2D(pool_size=pool_size, strides=pool_strides)\n",
        "\n",
        "    def call(self, x):\n",
        "        x = self.conv(x)\n",
        "        x = self.conv_pool(x)\n",
        "        return x\n",
        "\n",
        "\n",
        "\n",
        "class TestCNN(Model):\n",
        "    def __init__(self):\n",
        "        super(TestCNN, self).__init__()\n",
        "        self.fe = Sequential()\n",
        "\n",
        "        self.fe.add(MyConv(n_conv_neurons[0]))\n",
        "        self.fe.add(MyConv(n_conv_neurons[1]))\n",
        "        self.fe.add(MyConv(n_conv_neurons[2]))\n",
        "        self.fe.add(Flatten())\n",
        "\n",
        "        self.classifier = Sequential()\n",
        "        self.classifier.add(Dense(units=n_dense_neurons[0], activation=activation))\n",
        "        self.classifier.add(Dense(units=n_dense_neurons[1], activation=activation))\n",
        "        self.classifier.add(Dense(units=n_dense_neurons[2], activation='\bsoftmax'))\n",
        "\n",
        "    def call(self, x): # call 부분이 간소해짐. \n",
        "    \n",
        "        x = self.fe(x)\n",
        "        x = self.classfier(x)\n",
        "\n",
        "        return x"
      ],
      "metadata": {
        "id": "9V-WlCfmBuoJ"
      },
      "execution_count": 30,
      "outputs": []
    },
    {
      "cell_type": "code",
      "source": [],
      "metadata": {
        "id": "7vlzLLGHBuqg"
      },
      "execution_count": 45,
      "outputs": []
    },
    {
      "cell_type": "code",
      "source": [],
      "metadata": {
        "id": "vOdcQzy_R2qO"
      },
      "execution_count": null,
      "outputs": []
    },
    {
      "cell_type": "code",
      "source": [],
      "metadata": {
        "id": "M2ISNH8NR2su"
      },
      "execution_count": null,
      "outputs": []
    },
    {
      "cell_type": "code",
      "source": [],
      "metadata": {
        "id": "NLKK65MNR2vj"
      },
      "execution_count": null,
      "outputs": []
    },
    {
      "cell_type": "code",
      "source": [],
      "metadata": {
        "id": "7Hj5RYrNR2yO"
      },
      "execution_count": null,
      "outputs": []
    },
    {
      "cell_type": "code",
      "source": [],
      "metadata": {
        "id": "9xQC4HaoR20t"
      },
      "execution_count": null,
      "outputs": []
    },
    {
      "cell_type": "code",
      "source": [],
      "metadata": {
        "id": "61zoG7guR23k"
      },
      "execution_count": null,
      "outputs": []
    },
    {
      "cell_type": "code",
      "source": [],
      "metadata": {
        "id": "lM0B2ndtR26V"
      },
      "execution_count": null,
      "outputs": []
    },
    {
      "cell_type": "code",
      "source": [],
      "metadata": {
        "id": "YV20202hR285"
      },
      "execution_count": null,
      "outputs": []
    },
    {
      "cell_type": "code",
      "source": [],
      "metadata": {
        "id": "D0xsagF9R2_t"
      },
      "execution_count": null,
      "outputs": []
    },
    {
      "cell_type": "code",
      "source": [],
      "metadata": {
        "id": "ohuVOGsJR3CT"
      },
      "execution_count": null,
      "outputs": []
    },
    {
      "cell_type": "code",
      "source": [],
      "metadata": {
        "id": "KYK0daKpR3FH"
      },
      "execution_count": null,
      "outputs": []
    },
    {
      "cell_type": "code",
      "source": [],
      "metadata": {
        "id": "YPzB3HmgR3H7"
      },
      "execution_count": null,
      "outputs": []
    },
    {
      "cell_type": "code",
      "source": [],
      "metadata": {
        "id": "p_7tZbKJR3Ki"
      },
      "execution_count": null,
      "outputs": []
    },
    {
      "cell_type": "code",
      "source": [],
      "metadata": {
        "id": "L1e3so9vR3NT"
      },
      "execution_count": null,
      "outputs": []
    },
    {
      "cell_type": "code",
      "source": [],
      "metadata": {
        "id": "gwLUmwJ2R3QK"
      },
      "execution_count": null,
      "outputs": []
    },
    {
      "cell_type": "code",
      "source": [],
      "metadata": {
        "id": "5YwOOMHRR3S8"
      },
      "execution_count": null,
      "outputs": []
    },
    {
      "cell_type": "code",
      "source": [],
      "metadata": {
        "id": "5XwIPRguR3Vl"
      },
      "execution_count": null,
      "outputs": []
    },
    {
      "cell_type": "code",
      "source": [],
      "metadata": {
        "id": "9EVNA_z8R3YH"
      },
      "execution_count": null,
      "outputs": []
    },
    {
      "cell_type": "code",
      "source": [],
      "metadata": {
        "id": "rOIE1zDER3ab"
      },
      "execution_count": null,
      "outputs": []
    },
    {
      "cell_type": "code",
      "source": [],
      "metadata": {
        "id": "079fN7xwR3dT"
      },
      "execution_count": null,
      "outputs": []
    },
    {
      "cell_type": "code",
      "source": [],
      "metadata": {
        "id": "FuVjT8djR3fm"
      },
      "execution_count": null,
      "outputs": []
    },
    {
      "cell_type": "code",
      "source": [],
      "metadata": {
        "id": "mVP9yIh-R3iK"
      },
      "execution_count": null,
      "outputs": []
    },
    {
      "cell_type": "code",
      "source": [],
      "metadata": {
        "id": "SX7HSUArR3kz"
      },
      "execution_count": null,
      "outputs": []
    },
    {
      "cell_type": "code",
      "source": [],
      "metadata": {
        "id": "cx-Z4anCR3nF"
      },
      "execution_count": null,
      "outputs": []
    },
    {
      "cell_type": "code",
      "source": [],
      "metadata": {
        "id": "QXXeC85UR3pb"
      },
      "execution_count": null,
      "outputs": []
    },
    {
      "cell_type": "code",
      "source": [],
      "metadata": {
        "id": "lqD58uYVR3sT"
      },
      "execution_count": null,
      "outputs": []
    }
  ]
}